{
 "cells": [
  {
   "cell_type": "markdown",
   "id": "6564874e",
   "metadata": {
    "papermill": {
     "duration": 0.074504,
     "end_time": "2023-12-06T16:44:34.624966",
     "exception": false,
     "start_time": "2023-12-06T16:44:34.550462",
     "status": "completed"
    },
    "tags": []
   },
   "source": [
    "# Telecom Churn Case Study"
   ]
  },
  {
   "cell_type": "markdown",
   "id": "655b4187",
   "metadata": {
    "papermill": {
     "duration": 0.072628,
     "end_time": "2023-12-06T16:44:34.869994",
     "exception": false,
     "start_time": "2023-12-06T16:44:34.797366",
     "status": "completed"
    },
    "tags": []
   },
   "source": [
    "## Problem Statement\n",
    "\n",
    "#### - In the telecom industry, customers are able to choose from multiple service providers and actively switch from one operator to another. In this highly competitive market, the telecommunications industry experiences an average of 15-25% annual churn_df rate. Given the fact that it costs 5-10 times more to acquire a new customer than to retain an existing one, customer retention has now become even more important than customer acquisition.\n",
    "#### - For many incumbent operators, retaining high profitable customers is the number one business goal. To reduce customer churn_df, telecom companies need to predict which customers are at high risk of churn_df.\n",
    "#### - In this project, we will analyse customer-level data of a leading telecom firm, build predictive models to identify customers at high risk of churn_df and identify the main indicators of churn_df."
   ]
  },
  {
   "cell_type": "markdown",
   "id": "5e185e4a",
   "metadata": {},
   "source": [
    "#### There are multiple ways to explain churn_df, such as:\n",
    "#### -- Revenue-Based churn_df: \n",
    " * Focus: Customers not using revenue-generating services like calls or mobile internet.\n",
    " * Challenge: Ignores users who receive calls but don't actively spend, like rural users.\n",
    "\n",
    "#### -- Usage-Based churn_df:\n",
    " * Focus: Customers with zero activity – no calls or internet usage.\n",
    " * Challenge: May be late in predicting churn_df if defined based on a prolonged period of zero usage.\n",
    " \n",
    " In this telecom churn_df case study, our major focus will be on usage-based definition to determine churn_df."
   ]
  },
  {
   "cell_type": "markdown",
   "id": "ef59208a",
   "metadata": {},
   "source": [
    "#### Here, our main goal is: \n",
    "* To predict customers on the verge of churn_dfing from a telecom operator. \n",
    "* Specifically, we are interested in identifying High-Value Customers. \n",
    "* churn_df prediction will be based on the usage behavior during the action period, with whurn period data excluded after labeling.\n",
    "\n",
    "#### Requirements:\n",
    "* churn_df Prediction Model: Develop a model capable of predicting which customers are likely to churn_df.\n",
    "* Best Predictor Variables: Identify and utilize the most influential variables for accurate predictions."
   ]
  },
  {
   "cell_type": "markdown",
   "id": "c647e571",
   "metadata": {},
   "source": [
    "#### We will be build our model by following these six steps:\n",
    "\n",
    "#### Step-I : Data Preprocessing\n",
    "* Read and comprehend the data\n",
    "* Clean the data by handling  missing values\n",
    "* Impute missing values as needed\n",
    "#### Step-II : Customer Segmentation\n",
    "* Identify and filter high-value customers\n",
    "#### Step-III : Target Variable Definition\n",
    "* Derive the churn_df target variable\n",
    "#### Step-IV : Feature Engineering and Data Exploration\n",
    "* Create derived variables\n",
    "* Conduct exploratory data analysis (EDA)\n",
    "* Split the data into training and test sets\n",
    "* Apply feature scaling\n",
    "#### Step-V : Model Building\n",
    "* Handle class imbalance in the target variable\n",
    "* Utilize dimensionality reduction techniques such as PCA\n",
    "* Apply various classification models for churn_df prediction\n",
    "#### Step- VI : Model Evaluation\n",
    "* Evaluate the performance of the models\n",
    "* Prepare models for predictor variable selection, considering multiple models and selecting the best one\n",
    "* Finally, provide a comprehensive summary and recommendations to the company based on the analysis."
   ]
  },
  {
   "cell_type": "markdown",
   "id": "6b5c7fea",
   "metadata": {
    "papermill": {
     "duration": 0.07256,
     "end_time": "2023-12-06T16:44:35.449739",
     "exception": false,
     "start_time": "2023-12-06T16:44:35.377179",
     "status": "completed"
    },
    "tags": []
   },
   "source": [
    "### Step-I : Data Preprocessing"
   ]
  },
  {
   "cell_type": "code",
   "execution_count": 1,
   "id": "7789b842",
   "metadata": {},
   "outputs": [],
   "source": [
    "# Importing required libraries\n",
    "\n",
    "import warnings                                        # To suppress the warnings which will be raised\n",
    "\n",
    "warnings.filterwarnings('ignore')"
   ]
  },
  {
   "cell_type": "code",
   "execution_count": 2,
   "id": "ba4a95a3",
   "metadata": {
    "_cell_guid": "b1076dfc-b9ad-4769-8c92-a6c4dae69d19",
    "_uuid": "8f2839f25d086af736a60e9eeb907d3b93b6e0e5",
    "execution": {
     "iopub.execute_input": "2023-12-06T16:44:35.597543Z",
     "iopub.status.busy": "2023-12-06T16:44:35.597033Z",
     "iopub.status.idle": "2023-12-06T16:44:40.263590Z",
     "shell.execute_reply": "2023-12-06T16:44:40.262233Z"
    },
    "papermill": {
     "duration": 4.743784,
     "end_time": "2023-12-06T16:44:40.267446",
     "exception": false,
     "start_time": "2023-12-06T16:44:35.523662",
     "status": "completed"
    },
    "tags": []
   },
   "outputs": [],
   "source": [
    "import numpy as np\n",
    "import pandas as pd\n",
    "import matplotlib.pyplot as plt\n",
    "import seaborn as sns\n",
    "\n",
    "from statsmodels.stats.outliers_influence import variance_inflation_factor     # Importing 'variance_inflation_factor' or VIF\n",
    "\n",
    "from sklearn.feature_selection import RFE              # Import RFE for RFE selection\n",
    "\n",
    "import statsmodels.api as sm                           # Loading statsmodels\n",
    "\n",
    "from sklearn.metrics import precision_recall_curve     # Loading the precision recall curve\n",
    "\n",
    "from sklearn import metrics                            # # Importing evaluation metrics from scikitlearn \n",
    "\n",
    "from imblearn.over_sampling import SMOTE\n",
    "\n",
    "from sklearn.decomposition import IncrementalPCA"
   ]
  },
  {
   "cell_type": "code",
   "execution_count": 3,
   "id": "d4f664df",
   "metadata": {},
   "outputs": [],
   "source": [
    "from sklearn.model_selection import train_test_split\n",
    "from sklearn.pipeline import Pipeline\n",
    "from sklearn.decomposition import PCA\n",
    "from sklearn.preprocessing import MinMaxScaler\n",
    "from sklearn.pipeline import FeatureUnion\n",
    "from sklearn.base import BaseEstimator, TransformerMixin\n",
    "from sklearn.linear_model import LogisticRegression\n",
    "from sklearn.metrics import classification_report\n",
    "from sklearn.metrics import roc_auc_score\n",
    "from imblearn.metrics import sensitivity_specificity_support\n",
    "from sklearn.model_selection import StratifiedKFold\n",
    "from sklearn.model_selection import cross_val_score\n",
    "from sklearn.metrics import confusion_matrix\n",
    "from sklearn.model_selection import GridSearchCV\n",
    "from sklearn.ensemble import RandomForestClassifier\n",
    "from sklearn.ensemble import GradientBoostingClassifier\n",
    "from sklearn.svm import SVC"
   ]
  },
  {
   "cell_type": "code",
   "execution_count": 4,
   "id": "489a1e80",
   "metadata": {
    "execution": {
     "iopub.execute_input": "2023-12-06T16:44:40.414994Z",
     "iopub.status.busy": "2023-12-06T16:44:40.414398Z",
     "iopub.status.idle": "2023-12-06T16:44:40.419136Z",
     "shell.execute_reply": "2023-12-06T16:44:40.418056Z"
    },
    "papermill": {
     "duration": 0.081143,
     "end_time": "2023-12-06T16:44:40.421557",
     "exception": false,
     "start_time": "2023-12-06T16:44:40.340414",
     "status": "completed"
    },
    "tags": []
   },
   "outputs": [],
   "source": [
    "pip install imbalanced-learn               # Imbalanced-learn helps balance datasets that are biased towards certain classes"
   ]
  },
  {
   "cell_type": "code",
   "execution_count": 5,
   "id": "2562d28d",
   "metadata": {
    "execution": {
     "iopub.execute_input": "2023-12-06T16:44:40.576136Z",
     "iopub.status.busy": "2023-12-06T16:44:40.575727Z",
     "iopub.status.idle": "2023-12-06T16:44:43.482112Z",
     "shell.execute_reply": "2023-12-06T16:44:43.480904Z"
    },
    "papermill": {
     "duration": 2.985821,
     "end_time": "2023-12-06T16:44:43.485063",
     "exception": false,
     "start_time": "2023-12-06T16:44:40.499242",
     "status": "completed"
    },
    "tags": []
   },
   "outputs": [],
   "source": [
    "churn_df = pd.read_csv(r\"C:\\Users\\LENOVO\\Desktop\\amreeta\\github\\train.csv\")      # Loading our dataset"
   ]
  },
  {
   "cell_type": "code",
   "execution_count": 6,
   "id": "96077413",
   "metadata": {
    "execution": {
     "iopub.execute_input": "2023-12-06T16:44:43.632682Z",
     "iopub.status.busy": "2023-12-06T16:44:43.631823Z",
     "iopub.status.idle": "2023-12-06T16:44:43.676974Z",
     "shell.execute_reply": "2023-12-06T16:44:43.675792Z"
    },
    "papermill": {
     "duration": 0.120709,
     "end_time": "2023-12-06T16:44:43.679746",
     "exception": false,
     "start_time": "2023-12-06T16:44:43.559037",
     "status": "completed"
    },
    "scrolled": true,
    "tags": []
   },
   "outputs": [],
   "source": [
    "churn_df.head()"
   ]
  },
  {
   "cell_type": "code",
   "execution_count": 7,
   "id": "5bcfca59",
   "metadata": {
    "execution": {
     "iopub.execute_input": "2023-12-06T16:44:43.824073Z",
     "iopub.status.busy": "2023-12-06T16:44:43.823621Z",
     "iopub.status.idle": "2023-12-06T16:44:43.850922Z",
     "shell.execute_reply": "2023-12-06T16:44:43.849626Z"
    },
    "papermill": {
     "duration": 0.102609,
     "end_time": "2023-12-06T16:44:43.853755",
     "exception": false,
     "start_time": "2023-12-06T16:44:43.751146",
     "status": "completed"
    },
    "tags": []
   },
   "outputs": [],
   "source": [
    "# create backup of data\n",
    "original = churn_df.copy()"
   ]
  },
  {
   "cell_type": "code",
   "execution_count": 8,
   "id": "deaba6a9",
   "metadata": {
    "execution": {
     "iopub.execute_input": "2023-12-06T16:44:44.000399Z",
     "iopub.status.busy": "2023-12-06T16:44:43.999996Z",
     "iopub.status.idle": "2023-12-06T16:44:44.030345Z",
     "shell.execute_reply": "2023-12-06T16:44:44.029498Z"
    },
    "papermill": {
     "duration": 0.10708,
     "end_time": "2023-12-06T16:44:44.032792",
     "exception": false,
     "start_time": "2023-12-06T16:44:43.925712",
     "status": "completed"
    },
    "tags": []
   },
   "outputs": [],
   "source": [
    "#look at the last 5 rows\n",
    "churn_df.tail() "
   ]
  },
  {
   "cell_type": "code",
   "execution_count": 9,
   "id": "dae080ab",
   "metadata": {
    "execution": {
     "iopub.execute_input": "2023-12-06T16:44:44.181625Z",
     "iopub.status.busy": "2023-12-06T16:44:44.181222Z",
     "iopub.status.idle": "2023-12-06T16:44:44.189334Z",
     "shell.execute_reply": "2023-12-06T16:44:44.187924Z"
    },
    "papermill": {
     "duration": 0.083865,
     "end_time": "2023-12-06T16:44:44.191972",
     "exception": false,
     "start_time": "2023-12-06T16:44:44.108107",
     "status": "completed"
    },
    "tags": []
   },
   "outputs": [],
   "source": [
    "#check the columns of data\n",
    "churn_df.columns"
   ]
  },
  {
   "cell_type": "code",
   "execution_count": 10,
   "id": "7dab6acd",
   "metadata": {
    "execution": {
     "iopub.execute_input": "2023-12-06T16:44:44.338162Z",
     "iopub.status.busy": "2023-12-06T16:44:44.337740Z",
     "iopub.status.idle": "2023-12-06T16:44:45.248263Z",
     "shell.execute_reply": "2023-12-06T16:44:45.247014Z"
    },
    "papermill": {
     "duration": 0.98673,
     "end_time": "2023-12-06T16:44:45.250779",
     "exception": false,
     "start_time": "2023-12-06T16:44:44.264049",
     "status": "completed"
    },
    "tags": []
   },
   "outputs": [],
   "source": [
    "#Checking the numerical columns data distribution statistics\n",
    "churn_df.describe()"
   ]
  },
  {
   "cell_type": "code",
   "execution_count": 11,
   "id": "1b29a045",
   "metadata": {
    "execution": {
     "iopub.execute_input": "2023-12-06T16:44:45.401669Z",
     "iopub.status.busy": "2023-12-06T16:44:45.401264Z",
     "iopub.status.idle": "2023-12-06T16:44:45.437871Z",
     "shell.execute_reply": "2023-12-06T16:44:45.436404Z"
    },
    "papermill": {
     "duration": 0.116162,
     "end_time": "2023-12-06T16:44:45.440314",
     "exception": false,
     "start_time": "2023-12-06T16:44:45.324152",
     "status": "completed"
    },
    "tags": []
   },
   "outputs": [],
   "source": [
    "#check dataframe for null and datatype \n",
    "churn_df.info()"
   ]
  },
  {
   "cell_type": "code",
   "execution_count": 12,
   "id": "0fcc4897",
   "metadata": {
    "execution": {
     "iopub.execute_input": "2023-12-06T16:44:45.589322Z",
     "iopub.status.busy": "2023-12-06T16:44:45.588886Z",
     "iopub.status.idle": "2023-12-06T16:44:45.605981Z",
     "shell.execute_reply": "2023-12-06T16:44:45.605083Z"
    },
    "papermill": {
     "duration": 0.096768,
     "end_time": "2023-12-06T16:44:45.609478",
     "exception": false,
     "start_time": "2023-12-06T16:44:45.512710",
     "status": "completed"
    },
    "tags": []
   },
   "outputs": [],
   "source": [
    "# feature type summary\n",
    "churn_df.info(verbose=1)"
   ]
  },
  {
   "cell_type": "code",
   "execution_count": 13,
   "id": "f0eb568f",
   "metadata": {
    "execution": {
     "iopub.execute_input": "2023-12-06T16:44:45.758876Z",
     "iopub.status.busy": "2023-12-06T16:44:45.758429Z",
     "iopub.status.idle": "2023-12-06T16:44:45.839214Z",
     "shell.execute_reply": "2023-12-06T16:44:45.838043Z"
    },
    "papermill": {
     "duration": 0.158818,
     "end_time": "2023-12-06T16:44:45.842030",
     "exception": false,
     "start_time": "2023-12-06T16:44:45.683212",
     "status": "completed"
    },
    "tags": []
   },
   "outputs": [],
   "source": [
    "# Checking for null values\n",
    "churn_df.isnull().sum()"
   ]
  },
  {
   "cell_type": "code",
   "execution_count": 14,
   "id": "c5235e4a",
   "metadata": {
    "execution": {
     "iopub.execute_input": "2023-12-06T16:44:45.990346Z",
     "iopub.status.busy": "2023-12-06T16:44:45.989953Z",
     "iopub.status.idle": "2023-12-06T16:44:46.150710Z",
     "shell.execute_reply": "2023-12-06T16:44:46.149556Z"
    },
    "papermill": {
     "duration": 0.237249,
     "end_time": "2023-12-06T16:44:46.153356",
     "exception": false,
     "start_time": "2023-12-06T16:44:45.916107",
     "status": "completed"
    },
    "tags": []
   },
   "outputs": [],
   "source": [
    "# Checking the null value percentage\n",
    "churn_df.isna().sum()/churn_df.isna().count()*100"
   ]
  },
  {
   "cell_type": "code",
   "execution_count": 15,
   "id": "75caccc6",
   "metadata": {
    "execution": {
     "iopub.execute_input": "2023-12-06T16:44:46.302298Z",
     "iopub.status.busy": "2023-12-06T16:44:46.301892Z",
     "iopub.status.idle": "2023-12-06T16:44:46.309154Z",
     "shell.execute_reply": "2023-12-06T16:44:46.307919Z"
    },
    "papermill": {
     "duration": 0.084848,
     "end_time": "2023-12-06T16:44:46.311542",
     "exception": false,
     "start_time": "2023-12-06T16:44:46.226694",
     "status": "completed"
    },
    "tags": []
   },
   "outputs": [],
   "source": [
    "# Checking for shape of a data set\n",
    "churn_df.shape"
   ]
  },
  {
   "cell_type": "code",
   "execution_count": 16,
   "id": "ac015c50",
   "metadata": {
    "execution": {
     "iopub.execute_input": "2023-12-06T16:44:46.460421Z",
     "iopub.status.busy": "2023-12-06T16:44:46.459967Z",
     "iopub.status.idle": "2023-12-06T16:44:47.112552Z",
     "shell.execute_reply": "2023-12-06T16:44:47.111346Z"
    },
    "papermill": {
     "duration": 0.730218,
     "end_time": "2023-12-06T16:44:47.115170",
     "exception": false,
     "start_time": "2023-12-06T16:44:46.384952",
     "status": "completed"
    },
    "tags": []
   },
   "outputs": [],
   "source": [
    "# Checking for the duplicates\n",
    "churn_df.drop_duplicates(subset=None, inplace=True)\n",
    "churn_df.shape"
   ]
  },
  {
   "cell_type": "code",
   "execution_count": 17,
   "id": "798835ee",
   "metadata": {
    "execution": {
     "iopub.execute_input": "2023-12-06T16:44:47.264045Z",
     "iopub.status.busy": "2023-12-06T16:44:47.263601Z",
     "iopub.status.idle": "2023-12-06T16:44:47.269879Z",
     "shell.execute_reply": "2023-12-06T16:44:47.269077Z"
    },
    "papermill": {
     "duration": 0.083112,
     "end_time": "2023-12-06T16:44:47.272095",
     "exception": false,
     "start_time": "2023-12-06T16:44:47.188983",
     "status": "completed"
    },
    "tags": []
   },
   "outputs": [],
   "source": [
    "#check the size of data\n",
    "churn_df.size"
   ]
  },
  {
   "cell_type": "code",
   "execution_count": 18,
   "id": "71b69148",
   "metadata": {
    "execution": {
     "iopub.execute_input": "2023-12-06T16:44:47.421449Z",
     "iopub.status.busy": "2023-12-06T16:44:47.420764Z",
     "iopub.status.idle": "2023-12-06T16:44:47.427648Z",
     "shell.execute_reply": "2023-12-06T16:44:47.426444Z"
    },
    "papermill": {
     "duration": 0.084563,
     "end_time": "2023-12-06T16:44:47.430198",
     "exception": false,
     "start_time": "2023-12-06T16:44:47.345635",
     "status": "completed"
    },
    "tags": []
   },
   "outputs": [],
   "source": [
    "#check the axes of data\n",
    "churn_df.axes"
   ]
  },
  {
   "cell_type": "code",
   "execution_count": 19,
   "id": "0a1b8ae3",
   "metadata": {
    "execution": {
     "iopub.execute_input": "2023-12-06T16:44:47.580730Z",
     "iopub.status.busy": "2023-12-06T16:44:47.580298Z",
     "iopub.status.idle": "2023-12-06T16:44:47.586528Z",
     "shell.execute_reply": "2023-12-06T16:44:47.585724Z"
    },
    "papermill": {
     "duration": 0.084275,
     "end_time": "2023-12-06T16:44:47.588920",
     "exception": false,
     "start_time": "2023-12-06T16:44:47.504645",
     "status": "completed"
    },
    "tags": []
   },
   "outputs": [],
   "source": [
    "#check the dimensions of data\n",
    "churn_df.ndim"
   ]
  },
  {
   "cell_type": "code",
   "execution_count": 20,
   "id": "e8d91464",
   "metadata": {
    "execution": {
     "iopub.execute_input": "2023-12-06T16:44:47.739653Z",
     "iopub.status.busy": "2023-12-06T16:44:47.738394Z",
     "iopub.status.idle": "2023-12-06T16:44:48.886257Z",
     "shell.execute_reply": "2023-12-06T16:44:48.885077Z"
    },
    "papermill": {
     "duration": 1.226215,
     "end_time": "2023-12-06T16:44:48.889476",
     "exception": false,
     "start_time": "2023-12-06T16:44:47.663261",
     "status": "completed"
    },
    "tags": []
   },
   "outputs": [],
   "source": [
    "#check the values of data\n",
    "churn_df.values"
   ]
  },
  {
   "cell_type": "code",
   "execution_count": 21,
   "id": "287244a6",
   "metadata": {
    "execution": {
     "iopub.execute_input": "2023-12-06T16:44:49.043481Z",
     "iopub.status.busy": "2023-12-06T16:44:49.042999Z",
     "iopub.status.idle": "2023-12-06T16:44:49.059007Z",
     "shell.execute_reply": "2023-12-06T16:44:49.057337Z"
    },
    "papermill": {
     "duration": 0.096508,
     "end_time": "2023-12-06T16:44:49.061586",
     "exception": false,
     "start_time": "2023-12-06T16:44:48.965078",
     "status": "completed"
    },
    "tags": []
   },
   "outputs": [],
   "source": [
    "#list of columns\n",
    "pd.DataFrame(churn_df.columns)"
   ]
  },
  {
   "cell_type": "code",
   "execution_count": 22,
   "id": "96efc5bf",
   "metadata": {
    "execution": {
     "iopub.execute_input": "2023-12-06T16:44:49.217059Z",
     "iopub.status.busy": "2023-12-06T16:44:49.215783Z",
     "iopub.status.idle": "2023-12-06T16:44:49.303873Z",
     "shell.execute_reply": "2023-12-06T16:44:49.302239Z"
    },
    "papermill": {
     "duration": 0.167693,
     "end_time": "2023-12-06T16:44:49.306652",
     "exception": false,
     "start_time": "2023-12-06T16:44:49.138959",
     "status": "completed"
    },
    "tags": []
   },
   "outputs": [],
   "source": [
    "# look at missing value ratio in each column\n",
    "churn_df.isnull().sum()*100/churn_df.shape[0]"
   ]
  },
  {
   "cell_type": "code",
   "execution_count": 23,
   "id": "b55f5cec",
   "metadata": {
    "execution": {
     "iopub.execute_input": "2023-12-06T16:44:49.459354Z",
     "iopub.status.busy": "2023-12-06T16:44:49.458429Z",
     "iopub.status.idle": "2023-12-06T16:44:49.614087Z",
     "shell.execute_reply": "2023-12-06T16:44:49.612852Z"
    },
    "papermill": {
     "duration": 0.235319,
     "end_time": "2023-12-06T16:44:49.616866",
     "exception": false,
     "start_time": "2023-12-06T16:44:49.381547",
     "status": "completed"
    },
    "tags": []
   },
   "outputs": [],
   "source": [
    "# some recharge columns have minimum value of 1 while some don't have\n",
    "recharge_cols = ['total_rech_data_6', 'total_rech_data_7', 'total_rech_data_8', \n",
    "                 'count_rech_2g_6', 'count_rech_2g_7', 'count_rech_2g_8', \n",
    "                 'count_rech_3g_6', 'count_rech_3g_7', 'count_rech_3g_8', \n",
    "                 'max_rech_data_6', 'max_rech_data_7', 'max_rech_data_8', \n",
    "                 'av_rech_amt_data_6', 'av_rech_amt_data_7', 'av_rech_amt_data_8', \n",
    "                 ]\n",
    "\n",
    "churn_df[recharge_cols].describe(include='all')"
   ]
  },
  {
   "cell_type": "markdown",
   "id": "2ecca97b",
   "metadata": {
    "papermill": {
     "duration": 0.076699,
     "end_time": "2023-12-06T16:44:49.769479",
     "exception": false,
     "start_time": "2023-12-06T16:44:49.692780",
     "status": "completed"
    },
    "tags": []
   },
   "source": [
    "* We can create new feature as total_rech_amt_data using total_rech_data and av_rech_amt_data to capture amount utilized by customer for data.\n",
    "* The minimum value is 1 we can impute the NA values by 0, Considering there were no recharges done by the customer."
   ]
  },
  {
   "cell_type": "code",
   "execution_count": 24,
   "id": "cc5c8196",
   "metadata": {
    "execution": {
     "iopub.execute_input": "2023-12-06T16:44:49.924399Z",
     "iopub.status.busy": "2023-12-06T16:44:49.923834Z",
     "iopub.status.idle": "2023-12-06T16:44:49.986507Z",
     "shell.execute_reply": "2023-12-06T16:44:49.985569Z"
    },
    "papermill": {
     "duration": 0.141866,
     "end_time": "2023-12-06T16:44:49.988951",
     "exception": false,
     "start_time": "2023-12-06T16:44:49.847085",
     "status": "completed"
    },
    "tags": []
   },
   "outputs": [],
   "source": [
    "# It is also observed that the recharge date and the recharge value are missing together which means the customer didn't recharge\n",
    "churn_df.loc[churn_df.total_rech_data_6.isnull() & churn_df.date_of_last_rech_data_6.isnull(), [\"total_rech_data_6\", \"date_of_last_rech_data_6\"]].head(20)"
   ]
  },
  {
   "cell_type": "markdown",
   "id": "523e82af",
   "metadata": {
    "papermill": {
     "duration": 0.087661,
     "end_time": "2023-12-06T16:44:50.155059",
     "exception": false,
     "start_time": "2023-12-06T16:44:50.067398",
     "status": "completed"
    },
    "tags": []
   },
   "source": [
    "In the recharge variables where minumum value is 1, we can impute missing values with zeroes since it means customer didn't recharge their numbers that month."
   ]
  },
  {
   "cell_type": "code",
   "execution_count": 25,
   "id": "5c6f7991",
   "metadata": {
    "execution": {
     "iopub.execute_input": "2023-12-06T16:44:50.316815Z",
     "iopub.status.busy": "2023-12-06T16:44:50.315572Z",
     "iopub.status.idle": "2023-12-06T16:44:50.321767Z",
     "shell.execute_reply": "2023-12-06T16:44:50.320629Z"
    },
    "papermill": {
     "duration": 0.085257,
     "end_time": "2023-12-06T16:44:50.324294",
     "exception": false,
     "start_time": "2023-12-06T16:44:50.239037",
     "status": "completed"
    },
    "tags": []
   },
   "outputs": [],
   "source": [
    "# create a list of recharge columns where we will impute missing values with zeroes\n",
    "zero_impute = ['total_rech_data_6', 'total_rech_data_7', 'total_rech_data_8', \n",
    "        'av_rech_amt_data_6', 'av_rech_amt_data_7', 'av_rech_amt_data_8', \n",
    "        'max_rech_data_6', 'max_rech_data_7', 'max_rech_data_8'\n",
    "       ]"
   ]
  },
  {
   "cell_type": "code",
   "execution_count": 26,
   "id": "caf02d86",
   "metadata": {
    "execution": {
     "iopub.execute_input": "2023-12-06T16:44:50.479139Z",
     "iopub.status.busy": "2023-12-06T16:44:50.478711Z",
     "iopub.status.idle": "2023-12-06T16:44:50.499623Z",
     "shell.execute_reply": "2023-12-06T16:44:50.498371Z"
    },
    "papermill": {
     "duration": 0.101714,
     "end_time": "2023-12-06T16:44:50.502395",
     "exception": false,
     "start_time": "2023-12-06T16:44:50.400681",
     "status": "completed"
    },
    "tags": []
   },
   "outputs": [],
   "source": [
    "# impute missing values with 0\n",
    "churn_df[zero_impute] = churn_df[zero_impute].apply(lambda x: x.fillna(0))"
   ]
  },
  {
   "cell_type": "code",
   "execution_count": 27,
   "id": "56a88ed4",
   "metadata": {
    "execution": {
     "iopub.execute_input": "2023-12-06T16:44:50.656386Z",
     "iopub.status.busy": "2023-12-06T16:44:50.655987Z",
     "iopub.status.idle": "2023-12-06T16:44:50.673732Z",
     "shell.execute_reply": "2023-12-06T16:44:50.672437Z"
    },
    "papermill": {
     "duration": 0.097778,
     "end_time": "2023-12-06T16:44:50.676539",
     "exception": false,
     "start_time": "2023-12-06T16:44:50.578761",
     "status": "completed"
    },
    "tags": []
   },
   "outputs": [],
   "source": [
    "# now we have to  make sure the values are imputed correctly for that we can check \"Missing value ratio\"\n",
    "churn_df[zero_impute].isnull().sum()*100/churn_df.shape[1]"
   ]
  },
  {
   "cell_type": "code",
   "execution_count": 28,
   "id": "5b149b22",
   "metadata": {
    "execution": {
     "iopub.execute_input": "2023-12-06T16:44:50.830686Z",
     "iopub.status.busy": "2023-12-06T16:44:50.830288Z",
     "iopub.status.idle": "2023-12-06T16:44:50.894010Z",
     "shell.execute_reply": "2023-12-06T16:44:50.892883Z"
    },
    "papermill": {
     "duration": 0.143043,
     "end_time": "2023-12-06T16:44:50.896624",
     "exception": false,
     "start_time": "2023-12-06T16:44:50.753581",
     "status": "completed"
    },
    "tags": []
   },
   "outputs": [],
   "source": [
    "# now we can check the \"statistics Summary\"\n",
    "churn_df[zero_impute].describe(include='all')"
   ]
  },
  {
   "cell_type": "code",
   "execution_count": 29,
   "id": "2bb96791",
   "metadata": {
    "execution": {
     "iopub.execute_input": "2023-12-06T16:44:51.052353Z",
     "iopub.status.busy": "2023-12-06T16:44:51.051521Z",
     "iopub.status.idle": "2023-12-06T16:44:51.061435Z",
     "shell.execute_reply": "2023-12-06T16:44:51.060287Z"
    },
    "papermill": {
     "duration": 0.090703,
     "end_time": "2023-12-06T16:44:51.063991",
     "exception": false,
     "start_time": "2023-12-06T16:44:50.973288",
     "status": "completed"
    },
    "tags": []
   },
   "outputs": [],
   "source": [
    "# now we can create some column name list by there types using description of columns\n",
    "id_cols = ['id', 'circle_id']\n",
    "\n",
    "date_cols = ['last_date_of_month_6',\n",
    "             'last_date_of_month_7',\n",
    "             'last_date_of_month_8',             \n",
    "             'date_of_last_rech_6',\n",
    "             'date_of_last_rech_7',\n",
    "             'date_of_last_rech_8',             \n",
    "             'date_of_last_rech_data_6',\n",
    "             'date_of_last_rech_data_7',\n",
    "             'date_of_last_rech_data_8'             \n",
    "            ]\n",
    "\n",
    "cat_cols =  ['night_pck_user_6',\n",
    "             'night_pck_user_7',\n",
    "             'night_pck_user_8',             \n",
    "             'fb_user_6',\n",
    "             'fb_user_7',\n",
    "             'fb_user_8'             \n",
    "            ]\n",
    "\n",
    "num_cols = [column for column in churn_df.columns if column not in id_cols + date_cols + cat_cols]\n",
    "\n",
    "# print the number of columns in each list\n",
    "print(\"#ID cols: %d\\n#Date cols:%d\\n#Numeric cols:%d\\n#Category cols:%d\" % (len(id_cols), len(date_cols), len(num_cols), len(cat_cols)))\n",
    "\n",
    "# check if we have missed any column or not\n",
    "print(len(id_cols) + len(date_cols) + len(num_cols) + len(cat_cols) == churn_df.shape[1])"
   ]
  },
  {
   "cell_type": "code",
   "execution_count": 30,
   "id": "f1764ce0",
   "metadata": {
    "execution": {
     "iopub.execute_input": "2023-12-06T16:44:51.222482Z",
     "iopub.status.busy": "2023-12-06T16:44:51.221769Z",
     "iopub.status.idle": "2023-12-06T16:44:51.270007Z",
     "shell.execute_reply": "2023-12-06T16:44:51.269043Z"
    },
    "papermill": {
     "duration": 0.129816,
     "end_time": "2023-12-06T16:44:51.272356",
     "exception": false,
     "start_time": "2023-12-06T16:44:51.142540",
     "status": "completed"
    },
    "tags": []
   },
   "outputs": [],
   "source": [
    "# drop id and date columns\n",
    "churn_df = churn_df.drop(id_cols + date_cols, axis=1)\n",
    "#check the shape again\n",
    "churn_df.shape"
   ]
  },
  {
   "cell_type": "code",
   "execution_count": 31,
   "id": "1f8692c8",
   "metadata": {
    "execution": {
     "iopub.execute_input": "2023-12-06T16:44:51.428308Z",
     "iopub.status.busy": "2023-12-06T16:44:51.427024Z",
     "iopub.status.idle": "2023-12-06T16:44:51.442992Z",
     "shell.execute_reply": "2023-12-06T16:44:51.441854Z"
    },
    "papermill": {
     "duration": 0.097744,
     "end_time": "2023-12-06T16:44:51.446121",
     "exception": false,
     "start_time": "2023-12-06T16:44:51.348377",
     "status": "completed"
    },
    "tags": []
   },
   "outputs": [],
   "source": [
    "# replace missing values with '-1' in categorical columns\n",
    "churn_df[cat_cols] = churn_df[cat_cols].apply(lambda x: x.fillna(-1))"
   ]
  },
  {
   "cell_type": "code",
   "execution_count": 32,
   "id": "a0341811",
   "metadata": {
    "execution": {
     "iopub.execute_input": "2023-12-06T16:44:51.602758Z",
     "iopub.status.busy": "2023-12-06T16:44:51.602358Z",
     "iopub.status.idle": "2023-12-06T16:44:51.616368Z",
     "shell.execute_reply": "2023-12-06T16:44:51.615214Z"
    },
    "papermill": {
     "duration": 0.096147,
     "end_time": "2023-12-06T16:44:51.618930",
     "exception": false,
     "start_time": "2023-12-06T16:44:51.522783",
     "status": "completed"
    },
    "tags": []
   },
   "outputs": [],
   "source": [
    "# missing value ratio\n",
    "churn_df[cat_cols].isnull().sum()*100/churn_df.shape[0]"
   ]
  },
  {
   "cell_type": "markdown",
   "id": "b049d9ab",
   "metadata": {
    "papermill": {
     "duration": 0.081416,
     "end_time": "2023-12-06T16:44:51.777334",
     "exception": false,
     "start_time": "2023-12-06T16:44:51.695918",
     "status": "completed"
    },
    "tags": []
   },
   "source": [
    "Droping variables with more than 70% of missing values (we can call it as threshold )"
   ]
  },
  {
   "cell_type": "code",
   "execution_count": 33,
   "id": "99c58068",
   "metadata": {
    "execution": {
     "iopub.execute_input": "2023-12-06T16:44:51.936250Z",
     "iopub.status.busy": "2023-12-06T16:44:51.935060Z",
     "iopub.status.idle": "2023-12-06T16:44:52.002794Z",
     "shell.execute_reply": "2023-12-06T16:44:52.001518Z"
    },
    "papermill": {
     "duration": 0.150352,
     "end_time": "2023-12-06T16:44:52.006487",
     "exception": false,
     "start_time": "2023-12-06T16:44:51.856135",
     "status": "completed"
    },
    "tags": []
   },
   "outputs": [],
   "source": [
    "initial_cols = churn_df.shape[1]\n",
    "\n",
    "MISSING_THRESHOLD = 0.7\n",
    "\n",
    "include_cols = list(churn_df.apply(lambda column: True if column.isnull().sum()/churn_df.shape[0] < MISSING_THRESHOLD else False))\n",
    "\n",
    "drop_missing = pd.DataFrame({'features':churn_df.columns , 'include': include_cols})\n",
    "drop_missing.loc[drop_missing.include == True,:]"
   ]
  },
  {
   "cell_type": "code",
   "execution_count": 34,
   "id": "dddcc471",
   "metadata": {
    "execution": {
     "iopub.execute_input": "2023-12-06T16:44:52.172684Z",
     "iopub.status.busy": "2023-12-06T16:44:52.171870Z",
     "iopub.status.idle": "2023-12-06T16:44:52.214527Z",
     "shell.execute_reply": "2023-12-06T16:44:52.213080Z"
    },
    "papermill": {
     "duration": 0.13109,
     "end_time": "2023-12-06T16:44:52.217708",
     "exception": false,
     "start_time": "2023-12-06T16:44:52.086618",
     "status": "completed"
    },
    "tags": []
   },
   "outputs": [],
   "source": [
    "# now we can drop  some more columns\n",
    "churn_df = churn_df.loc[:, include_cols]\n",
    "\n",
    "dropped_cols = churn_df.shape[1] - initial_cols\n",
    "dropped_cols"
   ]
  },
  {
   "cell_type": "code",
   "execution_count": 35,
   "id": "ad3a0100",
   "metadata": {
    "execution": {
     "iopub.execute_input": "2023-12-06T16:44:52.450655Z",
     "iopub.status.busy": "2023-12-06T16:44:52.450260Z",
     "iopub.status.idle": "2023-12-06T16:44:52.458281Z",
     "shell.execute_reply": "2023-12-06T16:44:52.456927Z"
    },
    "papermill": {
     "duration": 0.088878,
     "end_time": "2023-12-06T16:44:52.460526",
     "exception": false,
     "start_time": "2023-12-06T16:44:52.371648",
     "status": "completed"
    },
    "tags": []
   },
   "outputs": [],
   "source": [
    "#rechecking the shape of a dataframe\n",
    "churn_df.shape"
   ]
  },
  {
   "cell_type": "code",
   "execution_count": 36,
   "id": "8b3a30a0",
   "metadata": {
    "execution": {
     "iopub.execute_input": "2023-12-06T16:44:52.619000Z",
     "iopub.status.busy": "2023-12-06T16:44:52.618534Z",
     "iopub.status.idle": "2023-12-06T16:44:52.652426Z",
     "shell.execute_reply": "2023-12-06T16:44:52.651085Z"
    },
    "papermill": {
     "duration": 0.117497,
     "end_time": "2023-12-06T16:44:52.655177",
     "exception": false,
     "start_time": "2023-12-06T16:44:52.537680",
     "status": "completed"
    },
    "tags": []
   },
   "outputs": [],
   "source": [
    "# rechecking the missing values for how many missing values has left\n",
    "churn_df.isnull().sum()*100/churn_df.shape[0]"
   ]
  },
  {
   "cell_type": "code",
   "execution_count": 37,
   "id": "706fcc2e",
   "metadata": {
    "execution": {
     "iopub.execute_input": "2023-12-06T16:44:52.813160Z",
     "iopub.status.busy": "2023-12-06T16:44:52.812650Z",
     "iopub.status.idle": "2023-12-06T16:44:52.824617Z",
     "shell.execute_reply": "2023-12-06T16:44:52.823300Z"
    },
    "papermill": {
     "duration": 0.094202,
     "end_time": "2023-12-06T16:44:52.827141",
     "exception": false,
     "start_time": "2023-12-06T16:44:52.732939",
     "status": "completed"
    },
    "tags": []
   },
   "outputs": [],
   "source": [
    "num_cols = [column for column in churn_df.columns if column not in id_cols + date_cols + cat_cols]\n",
    "num_cols"
   ]
  },
  {
   "cell_type": "code",
   "execution_count": 38,
   "id": "94e3588c",
   "metadata": {
    "execution": {
     "iopub.execute_input": "2023-12-06T16:44:52.985581Z",
     "iopub.status.busy": "2023-12-06T16:44:52.985115Z",
     "iopub.status.idle": "2023-12-06T16:44:53.719470Z",
     "shell.execute_reply": "2023-12-06T16:44:53.718182Z"
    },
    "papermill": {
     "duration": 0.817221,
     "end_time": "2023-12-06T16:44:53.722513",
     "exception": false,
     "start_time": "2023-12-06T16:44:52.905292",
     "status": "completed"
    },
    "tags": []
   },
   "outputs": [],
   "source": [
    "#imputing with meadian for num_cols\n",
    "churn_df[num_cols] = churn_df[num_cols].apply(lambda x: x.fillna(x.median()))"
   ]
  },
  {
   "cell_type": "code",
   "execution_count": 39,
   "id": "316c8bde",
   "metadata": {
    "execution": {
     "iopub.execute_input": "2023-12-06T16:44:53.882877Z",
     "iopub.status.busy": "2023-12-06T16:44:53.882445Z",
     "iopub.status.idle": "2023-12-06T16:44:54.027853Z",
     "shell.execute_reply": "2023-12-06T16:44:54.026358Z"
    },
    "papermill": {
     "duration": 0.229356,
     "end_time": "2023-12-06T16:44:54.030831",
     "exception": false,
     "start_time": "2023-12-06T16:44:53.801475",
     "status": "completed"
    },
    "tags": []
   },
   "outputs": [],
   "source": [
    "#again checking for the missing values\n",
    "churn_df.isnull().sum()*100/churn_df.shape[0]"
   ]
  },
  {
   "cell_type": "markdown",
   "id": "345e6c05",
   "metadata": {
    "papermill": {
     "duration": 0.083337,
     "end_time": "2023-12-06T16:44:54.193320",
     "exception": false,
     "start_time": "2023-12-06T16:44:54.109983",
     "status": "completed"
    },
    "tags": []
   },
   "source": [
    "In churn_df prediction, we assume that there are three phases of customer lifecycle :\n",
    "\n",
    "- The ‘good & action’ phase [Month 6 & 7]\n",
    "- The ‘churn_df’ phase [Month 8]\n",
    "In this case, since we are working over a three-month window, the first two months are the ‘good & action’ phase, the third month is the ‘churn_df’ phase."
   ]
  },
  {
   "cell_type": "markdown",
   "id": "4d035165",
   "metadata": {
    "papermill": {
     "duration": 0.077648,
     "end_time": "2023-12-06T16:44:54.349321",
     "exception": false,
     "start_time": "2023-12-06T16:44:54.271673",
     "status": "completed"
    },
    "tags": []
   },
   "source": [
    "### Step-II: Customer Segmentation\n",
    "* Filter high-value customers"
   ]
  },
  {
   "cell_type": "markdown",
   "id": "0e86ac9e",
   "metadata": {
    "papermill": {
     "duration": 0.076851,
     "end_time": "2023-12-06T16:44:54.503280",
     "exception": false,
     "start_time": "2023-12-06T16:44:54.426429",
     "status": "completed"
    },
    "tags": []
   },
   "source": [
    "Here we can take good phase ( it means month 6 and 7) data to get high value customers"
   ]
  },
  {
   "cell_type": "code",
   "execution_count": 40,
   "id": "4584cf8c",
   "metadata": {
    "execution": {
     "iopub.execute_input": "2023-12-06T16:44:54.660314Z",
     "iopub.status.busy": "2023-12-06T16:44:54.659892Z",
     "iopub.status.idle": "2023-12-06T16:44:54.667921Z",
     "shell.execute_reply": "2023-12-06T16:44:54.667068Z"
    },
    "papermill": {
     "duration": 0.090211,
     "end_time": "2023-12-06T16:44:54.670229",
     "exception": false,
     "start_time": "2023-12-06T16:44:54.580018",
     "status": "completed"
    },
    "tags": []
   },
   "outputs": [],
   "source": [
    "# calculate the total data recharge amount for June and July --> number of recharges * average recharge amount\n",
    "churn_df['total_data_rech_6'] = churn_df.total_rech_data_6 * churn_df.av_rech_amt_data_6\n",
    "churn_df['total_data_rech_7'] = churn_df.total_rech_data_7 * churn_df.av_rech_amt_data_7"
   ]
  },
  {
   "cell_type": "markdown",
   "id": "e6bc3d8d",
   "metadata": {
    "papermill": {
     "duration": 0.078635,
     "end_time": "2023-12-06T16:44:54.827785",
     "exception": false,
     "start_time": "2023-12-06T16:44:54.749150",
     "status": "completed"
    },
    "tags": []
   },
   "source": [
    "add total data recharge and total recharge to get total combined recharge amount for a month"
   ]
  },
  {
   "cell_type": "code",
   "execution_count": 41,
   "id": "a2218612",
   "metadata": {
    "execution": {
     "iopub.execute_input": "2023-12-06T16:44:54.987656Z",
     "iopub.status.busy": "2023-12-06T16:44:54.987269Z",
     "iopub.status.idle": "2023-12-06T16:44:54.995672Z",
     "shell.execute_reply": "2023-12-06T16:44:54.994403Z"
    },
    "papermill": {
     "duration": 0.09018,
     "end_time": "2023-12-06T16:44:54.997811",
     "exception": false,
     "start_time": "2023-12-06T16:44:54.907631",
     "status": "completed"
    },
    "tags": []
   },
   "outputs": [],
   "source": [
    "# calculate total recharge amount for June and July --> call recharge amount + data recharge amount\n",
    "churn_df['amt_data_6'] = churn_df.total_rech_amt_6 + churn_df.total_data_rech_6\n",
    "churn_df['amt_data_7'] = churn_df.total_rech_amt_7 + churn_df.total_data_rech_7"
   ]
  },
  {
   "cell_type": "code",
   "execution_count": 42,
   "id": "22c24682",
   "metadata": {
    "execution": {
     "iopub.execute_input": "2023-12-06T16:44:55.158010Z",
     "iopub.status.busy": "2023-12-06T16:44:55.157580Z",
     "iopub.status.idle": "2023-12-06T16:44:55.164429Z",
     "shell.execute_reply": "2023-12-06T16:44:55.163586Z"
    },
    "papermill": {
     "duration": 0.090128,
     "end_time": "2023-12-06T16:44:55.166585",
     "exception": false,
     "start_time": "2023-12-06T16:44:55.076457",
     "status": "completed"
    },
    "tags": []
   },
   "outputs": [],
   "source": [
    "# calculate average recharge done by customer in June and July\n",
    "churn_df['av_amt_data_6_7'] = (churn_df.amt_data_6 + churn_df.amt_data_7)/2"
   ]
  },
  {
   "cell_type": "code",
   "execution_count": 43,
   "id": "612a00fc",
   "metadata": {
    "execution": {
     "iopub.execute_input": "2023-12-06T16:44:55.324047Z",
     "iopub.status.busy": "2023-12-06T16:44:55.323599Z",
     "iopub.status.idle": "2023-12-06T16:44:55.333239Z",
     "shell.execute_reply": "2023-12-06T16:44:55.331830Z"
    },
    "papermill": {
     "duration": 0.090929,
     "end_time": "2023-12-06T16:44:55.335754",
     "exception": false,
     "start_time": "2023-12-06T16:44:55.244825",
     "status": "completed"
    },
    "tags": []
   },
   "outputs": [],
   "source": [
    "# look at the 70th percentile recharge amount\n",
    "print(\"Recharge amount at 70th percentile: {0}\".format(churn_df.av_amt_data_6_7.quantile(0.7)))\n"
   ]
  },
  {
   "cell_type": "code",
   "execution_count": 44,
   "id": "93fff0db",
   "metadata": {
    "execution": {
     "iopub.execute_input": "2023-12-06T16:44:55.497032Z",
     "iopub.status.busy": "2023-12-06T16:44:55.496594Z",
     "iopub.status.idle": "2023-12-06T16:44:55.532543Z",
     "shell.execute_reply": "2023-12-06T16:44:55.531492Z"
    },
    "papermill": {
     "duration": 0.120226,
     "end_time": "2023-12-06T16:44:55.534829",
     "exception": false,
     "start_time": "2023-12-06T16:44:55.414603",
     "status": "completed"
    },
    "tags": []
   },
   "outputs": [],
   "source": [
    "churn_df.head()"
   ]
  },
  {
   "cell_type": "code",
   "execution_count": 45,
   "id": "9a1d863b",
   "metadata": {
    "execution": {
     "iopub.execute_input": "2023-12-06T16:44:55.697223Z",
     "iopub.status.busy": "2023-12-06T16:44:55.696777Z",
     "iopub.status.idle": "2023-12-06T16:44:55.786602Z",
     "shell.execute_reply": "2023-12-06T16:44:55.785514Z"
    },
    "papermill": {
     "duration": 0.173501,
     "end_time": "2023-12-06T16:44:55.789480",
     "exception": false,
     "start_time": "2023-12-06T16:44:55.615979",
     "status": "completed"
    },
    "tags": []
   },
   "outputs": [],
   "source": [
    "# retain only those customers who have recharged their mobiles with more than or equal to 70th percentile amount\n",
    "churn_df_filtered = churn_df.loc[churn_df.av_amt_data_6_7 >= churn_df.av_amt_data_6_7.quantile(0.7), :]\n",
    "churn_df_filtered = churn_df_filtered.reset_index(drop=True)\n"
   ]
  },
  {
   "cell_type": "code",
   "execution_count": 46,
   "id": "ef10cc5e",
   "metadata": {
    "execution": {
     "iopub.execute_input": "2023-12-06T16:44:55.948201Z",
     "iopub.status.busy": "2023-12-06T16:44:55.947796Z",
     "iopub.status.idle": "2023-12-06T16:44:55.954961Z",
     "shell.execute_reply": "2023-12-06T16:44:55.953886Z"
    },
    "papermill": {
     "duration": 0.089441,
     "end_time": "2023-12-06T16:44:55.957479",
     "exception": false,
     "start_time": "2023-12-06T16:44:55.868038",
     "status": "completed"
    },
    "tags": []
   },
   "outputs": [],
   "source": [
    "churn_df_filtered.shape"
   ]
  },
  {
   "cell_type": "code",
   "execution_count": 47,
   "id": "17b47bfe",
   "metadata": {
    "execution": {
     "iopub.execute_input": "2023-12-06T16:44:56.117045Z",
     "iopub.status.busy": "2023-12-06T16:44:56.116620Z",
     "iopub.status.idle": "2023-12-06T16:44:56.129500Z",
     "shell.execute_reply": "2023-12-06T16:44:56.128265Z"
    },
    "papermill": {
     "duration": 0.095931,
     "end_time": "2023-12-06T16:44:56.132245",
     "exception": false,
     "start_time": "2023-12-06T16:44:56.036314",
     "status": "completed"
    },
    "tags": []
   },
   "outputs": [],
   "source": [
    "# delete variables created to filter high-value customers\n",
    "churn_df_filtered = churn_df_filtered.drop(['total_data_rech_6', 'total_data_rech_7','amt_data_6', 'amt_data_7', 'av_amt_data_6_7'], axis=1)"
   ]
  },
  {
   "cell_type": "code",
   "execution_count": 48,
   "id": "f2f342bb",
   "metadata": {
    "execution": {
     "iopub.execute_input": "2023-12-06T16:44:56.292339Z",
     "iopub.status.busy": "2023-12-06T16:44:56.291633Z",
     "iopub.status.idle": "2023-12-06T16:44:56.298734Z",
     "shell.execute_reply": "2023-12-06T16:44:56.297631Z"
    },
    "papermill": {
     "duration": 0.088767,
     "end_time": "2023-12-06T16:44:56.301025",
     "exception": false,
     "start_time": "2023-12-06T16:44:56.212258",
     "status": "completed"
    },
    "tags": []
   },
   "outputs": [],
   "source": [
    "churn_df_filtered.shape"
   ]
  },
  {
   "cell_type": "markdown",
   "id": "9eeee394",
   "metadata": {
    "papermill": {
     "duration": 0.077842,
     "end_time": "2023-12-06T16:44:56.456714",
     "exception": false,
     "start_time": "2023-12-06T16:44:56.378872",
     "status": "completed"
    },
    "tags": []
   },
   "source": [
    "Now, we have 21,013 rows  and 149 columns after selecting customers who have provided recharge value of more than or equal to the recharge value of the 70th percentile customer."
   ]
  },
  {
   "cell_type": "markdown",
   "id": "636e2e50",
   "metadata": {
    "papermill": {
     "duration": 0.078275,
     "end_time": "2023-12-06T16:44:56.613158",
     "exception": false,
     "start_time": "2023-12-06T16:44:56.534883",
     "status": "completed"
    },
    "tags": []
   },
   "source": [
    "### Step-III : Target Variable Definition\n",
    "\n",
    "* Derive churn_df\n",
    "\n",
    "Here, derive churn_df means that we are using 8 months (The ‘churn_df’ phase) data , to get the target variable (in this case study as we have not been provided any target variable we have to derive it from churn_df phase data)\n",
    "For this, we need to find the derive churn_df variable using total_ic_mou_8,total_og_mou_8,vol_2g_mb_8 and vol_3g_mb_8 attributes"
   ]
  },
  {
   "cell_type": "code",
   "execution_count": 49,
   "id": "772a6e59",
   "metadata": {
    "execution": {
     "iopub.execute_input": "2023-12-06T16:44:56.772676Z",
     "iopub.status.busy": "2023-12-06T16:44:56.772285Z",
     "iopub.status.idle": "2023-12-06T16:44:56.786216Z",
     "shell.execute_reply": "2023-12-06T16:44:56.784831Z"
    },
    "papermill": {
     "duration": 0.097921,
     "end_time": "2023-12-06T16:44:56.789615",
     "exception": false,
     "start_time": "2023-12-06T16:44:56.691694",
     "status": "completed"
    },
    "tags": []
   },
   "outputs": [],
   "source": [
    "# Selecting the columns to define churn_df variable (i.e. TARGET Variable)\n",
    "churn_df_col=['total_ic_mou_8','total_og_mou_8','vol_2g_mb_8','vol_3g_mb_8']\n",
    "churn_df_filtered[churn_df_col].info()"
   ]
  },
  {
   "cell_type": "code",
   "execution_count": 50,
   "id": "279ef8e6",
   "metadata": {
    "execution": {
     "iopub.execute_input": "2023-12-06T16:44:56.950508Z",
     "iopub.status.busy": "2023-12-06T16:44:56.950119Z",
     "iopub.status.idle": "2023-12-06T16:44:57.159714Z",
     "shell.execute_reply": "2023-12-06T16:44:57.157945Z"
    },
    "papermill": {
     "duration": 0.293901,
     "end_time": "2023-12-06T16:44:57.163860",
     "exception": false,
     "start_time": "2023-12-06T16:44:56.869959",
     "status": "completed"
    },
    "tags": []
   },
   "outputs": [],
   "source": [
    "# lets find out churn_df/non churn_df percentage\n",
    "print((churn_df_filtered['churn_probability'].value_counts()/len(churn_df))*100)\n",
    "((churn_df_filtered['churn_probability'].value_counts()/len(churn_df))*100).plot(kind=\"pie\")\n",
    "plt.show()"
   ]
  },
  {
   "cell_type": "markdown",
   "id": "4a221ddd",
   "metadata": {
    "papermill": {
     "duration": 0.078714,
     "end_time": "2023-12-06T16:44:57.349044",
     "exception": false,
     "start_time": "2023-12-06T16:44:57.270330",
     "status": "completed"
    },
    "tags": []
   },
   "source": [
    "#### ***As we can see that 90% of the customers do not churn_df, there is a possibility of class imbalance*** \n",
    "Since this variable churn_df is the target variable, all the columns relating to this variable(i.e. all columns with suffix _8) can be dropped forn the dataset.\n"
   ]
  },
  {
   "cell_type": "markdown",
   "id": "a02bc15d",
   "metadata": {
    "papermill": {
     "duration": 0.078309,
     "end_time": "2023-12-06T16:44:57.505801",
     "exception": false,
     "start_time": "2023-12-06T16:44:57.427492",
     "status": "completed"
    },
    "tags": []
   },
   "source": [
    "We can still clean the data by few possible columns relating to the good phase.\n",
    "\n",
    "As we derived few columns in the good phase earlier, we can drop those related columns during creation."
   ]
  },
  {
   "cell_type": "code",
   "execution_count": 51,
   "id": "edb269bc",
   "metadata": {
    "execution": {
     "iopub.execute_input": "2023-12-06T16:44:57.666811Z",
     "iopub.status.busy": "2023-12-06T16:44:57.666420Z",
     "iopub.status.idle": "2023-12-06T16:44:57.679328Z",
     "shell.execute_reply": "2023-12-06T16:44:57.678082Z"
    },
    "papermill": {
     "duration": 0.097705,
     "end_time": "2023-12-06T16:44:57.681894",
     "exception": false,
     "start_time": "2023-12-06T16:44:57.584189",
     "status": "completed"
    },
    "tags": []
   },
   "outputs": [],
   "source": [
    "#churn_df['total_rech_amt_data_6']=churn_df['av_rech_amt_data_6'] * churn_df['total_rech_data_6']\n",
    "# churn_df['total_rech_amt_data_7']=churn_df['av_rech_amt_data_7'] * churn_df['total_rech_data_7']\n",
    "\n",
    "# # Calculating the overall recharge amount for the months 6,7 and 8\n",
    "\n",
    "# churn_df['overall_rech_amt_6'] = churn_df['total_rech_amt_data_6'] + churn_df['total_rech_amt_6']\n",
    "# churn_df['overall_rech_amt_7'] = churn_df['total_rech_amt_data_7'] + churn_df['total_rech_amt_7']\n",
    "\n",
    "churn_df_filtered.drop(['av_rech_amt_data_6',\n",
    "                   'total_rech_data_6','total_rech_amt_6',\n",
    "                  'av_rech_amt_data_7',\n",
    "                   'total_rech_data_7','total_rech_amt_7'], axis=1, inplace=True)"
   ]
  },
  {
   "cell_type": "markdown",
   "id": "2154b580",
   "metadata": {
    "papermill": {
     "duration": 0.146223,
     "end_time": "2023-12-06T16:44:57.908408",
     "exception": false,
     "start_time": "2023-12-06T16:44:57.762185",
     "status": "completed"
    },
    "tags": []
   },
   "source": [
    "We can also create new columns for the defining the good phase variables and drop the seperate 6th and 7 month variables.\n",
    "\n",
    "Before proceding to check the remaining missing value handling, let us check the collineartity of the indepedent variables and try to understand their dependencies."
   ]
  },
  {
   "cell_type": "code",
   "execution_count": 52,
   "id": "9e1493dc",
   "metadata": {
    "execution": {
     "iopub.execute_input": "2023-12-06T16:44:58.069968Z",
     "iopub.status.busy": "2023-12-06T16:44:58.069533Z",
     "iopub.status.idle": "2023-12-06T16:44:58.075525Z",
     "shell.execute_reply": "2023-12-06T16:44:58.074259Z"
    },
    "papermill": {
     "duration": 0.090763,
     "end_time": "2023-12-06T16:44:58.078248",
     "exception": false,
     "start_time": "2023-12-06T16:44:57.987485",
     "status": "completed"
    },
    "tags": []
   },
   "outputs": [],
   "source": [
    "# creating a list of column names for each month\n",
    "mon_6_cols = [col for col in churn_df_filtered.columns if '_6' in col]\n",
    "mon_7_cols = [col for col in churn_df_filtered.columns if '_7' in col]\n",
    "mon_8_cols = [col for col in churn_df_filtered.columns if '_8' in col]"
   ]
  },
  {
   "cell_type": "code",
   "execution_count": 53,
   "id": "f025346e",
   "metadata": {
    "execution": {
     "iopub.execute_input": "2023-12-06T16:44:58.243334Z",
     "iopub.status.busy": "2023-12-06T16:44:58.242538Z",
     "iopub.status.idle": "2023-12-06T16:44:58.250787Z",
     "shell.execute_reply": "2023-12-06T16:44:58.249596Z"
    },
    "papermill": {
     "duration": 0.093424,
     "end_time": "2023-12-06T16:44:58.253164",
     "exception": false,
     "start_time": "2023-12-06T16:44:58.159740",
     "status": "completed"
    },
    "tags": []
   },
   "outputs": [],
   "source": [
    "mon_7_cols"
   ]
  },
  {
   "cell_type": "code",
   "execution_count": 54,
   "id": "61ea066e",
   "metadata": {
    "execution": {
     "iopub.execute_input": "2023-12-06T16:44:58.416886Z",
     "iopub.status.busy": "2023-12-06T16:44:58.416061Z",
     "iopub.status.idle": "2023-12-06T16:44:59.613859Z",
     "shell.execute_reply": "2023-12-06T16:44:59.612602Z"
    },
    "papermill": {
     "duration": 1.283184,
     "end_time": "2023-12-06T16:44:59.616643",
     "exception": false,
     "start_time": "2023-12-06T16:44:58.333459",
     "status": "completed"
    },
    "tags": []
   },
   "outputs": [],
   "source": [
    "# lets check the correlation amongst the independent variables, drop the highly correlated ones\n",
    "churn_df_corr = churn_df_filtered.corr()\n",
    "churn_df_corr.loc[:,:] = np.tril(churn_df_corr, k=-1)\n",
    "churn_df_corr = churn_df_corr.stack()\n",
    "churn_df_corr\n",
    "churn_df_corr[(churn_df_corr > 0.80) | (churn_df_corr < -0.80)].sort_values(ascending=False)"
   ]
  },
  {
   "cell_type": "code",
   "execution_count": 55,
   "id": "fea9b684",
   "metadata": {
    "execution": {
     "iopub.execute_input": "2023-12-06T16:44:59.782801Z",
     "iopub.status.busy": "2023-12-06T16:44:59.782375Z",
     "iopub.status.idle": "2023-12-06T16:44:59.795330Z",
     "shell.execute_reply": "2023-12-06T16:44:59.794042Z"
    },
    "papermill": {
     "duration": 0.099925,
     "end_time": "2023-12-06T16:44:59.798009",
     "exception": false,
     "start_time": "2023-12-06T16:44:59.698084",
     "status": "completed"
    },
    "tags": []
   },
   "outputs": [],
   "source": [
    "col_to_drop=['fb_user_6','fb_user_7','total_ic_mou_6','total_ic_mou_7',               \n",
    "               'std_og_t2t_mou_7','std_og_t2t_mou_6' ,'std_og_t2m_mou_7','std_ic_mou_7',]\n",
    "\n",
    "# These columns can be dropped as they are highly collinered with other predictor variables.\n",
    "# criteria set is for collinearity of 85%\n",
    "\n",
    "#  dropping these column\n",
    "churn_df_filtered.drop(col_to_drop, axis=1, inplace=True)"
   ]
  },
  {
   "cell_type": "code",
   "execution_count": 56,
   "id": "a0ba1252",
   "metadata": {
    "execution": {
     "iopub.execute_input": "2023-12-06T16:44:59.960237Z",
     "iopub.status.busy": "2023-12-06T16:44:59.959799Z",
     "iopub.status.idle": "2023-12-06T16:44:59.966533Z",
     "shell.execute_reply": "2023-12-06T16:44:59.965441Z"
    },
    "papermill": {
     "duration": 0.090114,
     "end_time": "2023-12-06T16:44:59.968817",
     "exception": false,
     "start_time": "2023-12-06T16:44:59.878703",
     "status": "completed"
    },
    "tags": []
   },
   "outputs": [],
   "source": [
    "# The curent dimension of the dataset after dropping few unwanted columns\n",
    "churn_df_filtered.shape"
   ]
  },
  {
   "cell_type": "markdown",
   "id": "8f2d0f4a",
   "metadata": {
    "papermill": {
     "duration": 0.08941,
     "end_time": "2023-12-06T16:45:00.140271",
     "exception": false,
     "start_time": "2023-12-06T16:45:00.050861",
     "status": "completed"
    },
    "tags": []
   },
   "source": [
    "### Step-IV : Feature Engineering and Data Exploration\n",
    "* Create derived variables\n",
    "* Conduct exploratory data analysis (EDA)\n",
    "* Split the data into training and test sets\n",
    "* Apply feature scaling"
   ]
  },
  {
   "cell_type": "code",
   "execution_count": 57,
   "id": "39ac5a5d",
   "metadata": {
    "execution": {
     "iopub.execute_input": "2023-12-06T16:45:00.316033Z",
     "iopub.status.busy": "2023-12-06T16:45:00.315557Z",
     "iopub.status.idle": "2023-12-06T16:45:00.330191Z",
     "shell.execute_reply": "2023-12-06T16:45:00.328999Z"
    },
    "papermill": {
     "duration": 0.099929,
     "end_time": "2023-12-06T16:45:00.333187",
     "exception": false,
     "start_time": "2023-12-06T16:45:00.233258",
     "status": "completed"
    },
    "tags": []
   },
   "outputs": [],
   "source": [
    "# We have a column called 'aon'\n",
    "\n",
    "# Can derive new variables from this to explain the data w.r.t churn_df.\n",
    "\n",
    "churn_df_filtered['tenure'] = (churn_df_filtered['aon']/30).round(0)   # creating a new variable 'tenure'\n",
    "\n",
    "churn_df_filtered.drop('aon',axis=1, inplace=True)                    # Since we derived a new column from 'aon', we can drop it"
   ]
  },
  {
   "cell_type": "code",
   "execution_count": 58,
   "id": "4a76c28e",
   "metadata": {
    "execution": {
     "iopub.execute_input": "2023-12-06T16:45:00.495494Z",
     "iopub.status.busy": "2023-12-06T16:45:00.495069Z",
     "iopub.status.idle": "2023-12-06T16:45:01.018489Z",
     "shell.execute_reply": "2023-12-06T16:45:01.017472Z"
    },
    "papermill": {
     "duration": 0.607653,
     "end_time": "2023-12-06T16:45:01.020739",
     "exception": false,
     "start_time": "2023-12-06T16:45:00.413086",
     "status": "completed"
    },
    "tags": []
   },
   "outputs": [],
   "source": [
    "# Checking the distribution of he tenure variable\n",
    "\n",
    "sns.distplot(churn_df_filtered['tenure'],bins=30)\n",
    "plt.show()"
   ]
  },
  {
   "cell_type": "code",
   "execution_count": 59,
   "id": "0b3cdf0c",
   "metadata": {
    "execution": {
     "iopub.execute_input": "2023-12-06T16:45:01.186431Z",
     "iopub.status.busy": "2023-12-06T16:45:01.185932Z",
     "iopub.status.idle": "2023-12-06T16:45:01.200447Z",
     "shell.execute_reply": "2023-12-06T16:45:01.199298Z"
    },
    "papermill": {
     "duration": 0.101545,
     "end_time": "2023-12-06T16:45:01.203053",
     "exception": false,
     "start_time": "2023-12-06T16:45:01.101508",
     "status": "completed"
    },
    "tags": []
   },
   "outputs": [],
   "source": [
    "tn_range = [0, 6, 12, 24, 60, 61]\n",
    "tn_label = [ '0-6 Months', '6-12 Months', '1-2 Yrs', '2-5 Yrs', '5 Yrs and above']\n",
    "churn_df_filtered['tenure_range'] = pd.cut(churn_df_filtered['tenure'], tn_range, labels=tn_label)\n",
    "churn_df_filtered['tenure_range'].head()"
   ]
  },
  {
   "cell_type": "code",
   "execution_count": 60,
   "id": "04ab7e2d",
   "metadata": {
    "execution": {
     "iopub.execute_input": "2023-12-06T16:45:01.368522Z",
     "iopub.status.busy": "2023-12-06T16:45:01.368100Z",
     "iopub.status.idle": "2023-12-06T16:45:01.375466Z",
     "shell.execute_reply": "2023-12-06T16:45:01.374066Z"
    },
    "papermill": {
     "duration": 0.092459,
     "end_time": "2023-12-06T16:45:01.377018",
     "exception": true,
     "start_time": "2023-12-06T16:45:01.284559",
     "status": "failed"
    },
    "tags": []
   },
   "outputs": [],
   "source": [
    "# Plotting a bar plot for tenure range\n",
    "plt.figure(figsize=[12,7])\n",
    "sns.barplot(x='tenure_range',y='churn_probability', data=churn_df_filtered)\n",
    "plt.show()"
   ]
  },
  {
   "cell_type": "code",
   "execution_count": 61,
   "id": "161cbc04",
   "metadata": {
    "execution": {
     "iopub.execute_input": "2023-12-06T14:16:59.755928Z",
     "iopub.status.busy": "2023-12-06T14:16:59.755297Z",
     "iopub.status.idle": "2023-12-06T14:16:59.766914Z",
     "shell.execute_reply": "2023-12-06T14:16:59.765724Z",
     "shell.execute_reply.started": "2023-12-06T14:16:59.755894Z"
    },
    "papermill": {
     "duration": null,
     "end_time": null,
     "exception": null,
     "start_time": null,
     "status": "pending"
    },
    "tags": []
   },
   "outputs": [],
   "source": [
    "churn_df_filtered[\"avg_arpu_6_7\"]= (churn_df_filtered['arpu_6']+churn_df_filtered['arpu_7'])/2\n",
    "churn_df_filtered['avg_arpu_6_7'].head()"
   ]
  },
  {
   "cell_type": "code",
   "execution_count": 62,
   "id": "b7fe4327",
   "metadata": {
    "execution": {
     "iopub.execute_input": "2023-12-06T14:17:04.202001Z",
     "iopub.status.busy": "2023-12-06T14:17:04.201595Z",
     "iopub.status.idle": "2023-12-06T14:17:04.219536Z",
     "shell.execute_reply": "2023-12-06T14:17:04.218312Z",
     "shell.execute_reply.started": "2023-12-06T14:17:04.201968Z"
    },
    "papermill": {
     "duration": null,
     "end_time": null,
     "exception": null,
     "start_time": null,
     "status": "pending"
    },
    "tags": []
   },
   "outputs": [],
   "source": [
    "# Lets drop the original columns as they are derived to a new column for better understanding of the data\n",
    "\n",
    "churn_df_filtered.drop(['arpu_6','arpu_7'], axis=1, inplace=True)\n",
    "\n",
    "\n",
    "# The curent dimension of the dataset after dropping few unwanted columns\n",
    "churn_df_filtered.shape"
   ]
  },
  {
   "cell_type": "code",
   "execution_count": 63,
   "id": "48ba5fbc",
   "metadata": {
    "execution": {
     "iopub.execute_input": "2023-12-06T14:17:08.682468Z",
     "iopub.status.busy": "2023-12-06T14:17:08.682014Z",
     "iopub.status.idle": "2023-12-06T14:17:09.236623Z",
     "shell.execute_reply": "2023-12-06T14:17:09.235469Z",
     "shell.execute_reply.started": "2023-12-06T14:17:08.682433Z"
    },
    "papermill": {
     "duration": null,
     "end_time": null,
     "exception": null,
     "start_time": null,
     "status": "pending"
    },
    "tags": []
   },
   "outputs": [],
   "source": [
    "# Visualizing the column created\n",
    "sns.distplot(churn_df_filtered['avg_arpu_6_7'])\n",
    "plt.show()"
   ]
  },
  {
   "cell_type": "code",
   "execution_count": 64,
   "id": "0b48790d",
   "metadata": {
    "execution": {
     "iopub.execute_input": "2023-12-06T14:17:15.868902Z",
     "iopub.status.busy": "2023-12-06T14:17:15.868434Z",
     "iopub.status.idle": "2023-12-06T14:17:17.536578Z",
     "shell.execute_reply": "2023-12-06T14:17:17.534003Z",
     "shell.execute_reply.started": "2023-12-06T14:17:15.868863Z"
    },
    "papermill": {
     "duration": null,
     "end_time": null,
     "exception": null,
     "start_time": null,
     "status": "pending"
    },
    "tags": []
   },
   "outputs": [],
   "source": [
    "# Checking Correlation between target variable(SalePrice) with the other variable in the dataset\n",
    "plt.figure(figsize=(10,50))\n",
    "heatmap_churn_df = sns.heatmap(churn_df_filtered.corr()[['churn_probability']].sort_values(ascending=False, by='churn_probability'),annot=True, \n",
    "                                cmap='summer')\n",
    "heatmap_churn_df.set_title(\"Features Correlating with churn_df variable\", fontsize=15)"
   ]
  },
  {
   "cell_type": "code",
   "execution_count": 65,
   "id": "f86642c9",
   "metadata": {
    "execution": {
     "iopub.execute_input": "2023-12-06T14:21:58.471295Z",
     "iopub.status.busy": "2023-12-06T14:21:58.470820Z",
     "iopub.status.idle": "2023-12-06T14:21:58.480344Z",
     "shell.execute_reply": "2023-12-06T14:21:58.479148Z",
     "shell.execute_reply.started": "2023-12-06T14:21:58.471262Z"
    },
    "papermill": {
     "duration": null,
     "end_time": null,
     "exception": null,
     "start_time": null,
     "status": "pending"
    },
    "tags": []
   },
   "outputs": [],
   "source": [
    "churn_df_filtered.columns"
   ]
  },
  {
   "cell_type": "markdown",
   "id": "1f382e7a",
   "metadata": {
    "papermill": {
     "duration": null,
     "end_time": null,
     "exception": null,
     "start_time": null,
     "status": "pending"
    },
    "tags": []
   },
   "source": [
    "- Avg Outgoing Calls & calls on roaming for 6th & 7th months are positively correlated with churn_df.\n",
    "- Avg Revenue, No. of Recharge for 8th month has negative correlation with churn_df."
   ]
  },
  {
   "cell_type": "code",
   "execution_count": 66,
   "id": "effb5153",
   "metadata": {
    "execution": {
     "iopub.execute_input": "2023-12-06T14:22:02.870693Z",
     "iopub.status.busy": "2023-12-06T14:22:02.870037Z",
     "iopub.status.idle": "2023-12-06T14:22:03.186281Z",
     "shell.execute_reply": "2023-12-06T14:22:03.185162Z",
     "shell.execute_reply.started": "2023-12-06T14:22:02.870645Z"
    },
    "papermill": {
     "duration": null,
     "end_time": null,
     "exception": null,
     "start_time": null,
     "status": "pending"
    },
    "tags": []
   },
   "outputs": [],
   "source": [
    "# lets now draw a scatter plot between total recharge and avg revenue for the 8th month\n",
    "churn_df_filtered[['total_rech_num_8', 'arpu_8']].plot.scatter(x = 'total_rech_num_8',\n",
    "                                                              y='arpu_8')\n",
    "plt.show()"
   ]
  },
  {
   "cell_type": "code",
   "execution_count": 67,
   "id": "fd29861e",
   "metadata": {
    "execution": {
     "iopub.execute_input": "2023-12-06T14:22:07.230551Z",
     "iopub.status.busy": "2023-12-06T14:22:07.229499Z",
     "iopub.status.idle": "2023-12-06T14:22:07.246132Z",
     "shell.execute_reply": "2023-12-06T14:22:07.244603Z",
     "shell.execute_reply.started": "2023-12-06T14:22:07.230515Z"
    },
    "papermill": {
     "duration": null,
     "end_time": null,
     "exception": null,
     "start_time": null,
     "status": "pending"
    },
    "tags": []
   },
   "outputs": [],
   "source": [
    "# Creating categories for month 8 column totalrecharge and their count\n",
    "churn_df_filtered['total_rech_data_group_8']=pd.cut(churn_df_filtered['total_rech_data_8'],[-1,0,10,25,100],labels=[\"No_Recharge\",\"<=10_Recharges\",\"10-25_Recharges\",\">25_Recharges\"])\n",
    "churn_df_filtered['total_rech_num_group_8']=pd.cut(churn_df_filtered['total_rech_num_8'],[-1,0,10,25,1000],labels=[\"No_Recharge\",\"<=10_Recharges\",\"10-25_Recharges\",\">25_Recharges\"])"
   ]
  },
  {
   "cell_type": "code",
   "execution_count": 68,
   "id": "7b288451",
   "metadata": {
    "execution": {
     "iopub.execute_input": "2023-12-06T14:22:10.677930Z",
     "iopub.status.busy": "2023-12-06T14:22:10.677523Z",
     "iopub.status.idle": "2023-12-06T14:22:11.149438Z",
     "shell.execute_reply": "2023-12-06T14:22:11.148282Z",
     "shell.execute_reply.started": "2023-12-06T14:22:10.677900Z"
    },
    "papermill": {
     "duration": null,
     "end_time": null,
     "exception": null,
     "start_time": null,
     "status": "pending"
    },
    "tags": []
   },
   "outputs": [],
   "source": [
    "# Plotting the results\n",
    "\n",
    "plt.figure(figsize=[12,4])\n",
    "sns.countplot(data=churn_df_filtered,x=\"total_rech_data_group_8\",hue=\"churn_probability\")\n",
    "print(\"\\t\\t\\t\\t\\tDistribution of total_rech_data_8 variable\\n\",churn_df_filtered['total_rech_data_group_8'].value_counts())\n",
    "plt.show()\n",
    "plt.figure(figsize=[12,4])\n",
    "sns.countplot(data=churn_df_filtered,x=\"total_rech_num_group_8\",hue=\"churn_probability\")\n",
    "print(\"\\t\\t\\t\\t\\tDistribution of total_rech_num_8 variable\\n\",churn_df_filtered['total_rech_num_group_8'].value_counts())\n",
    "plt.show()"
   ]
  },
  {
   "cell_type": "markdown",
   "id": "8800bbd7",
   "metadata": {
    "papermill": {
     "duration": null,
     "end_time": null,
     "exception": null,
     "start_time": null,
     "status": "pending"
    },
    "tags": []
   },
   "source": [
    "As the number of recharge rate increases, the churn_df rate decreases clearly."
   ]
  },
  {
   "cell_type": "code",
   "execution_count": 69,
   "id": "5967014b",
   "metadata": {
    "execution": {
     "iopub.execute_input": "2023-12-06T14:22:22.938471Z",
     "iopub.status.busy": "2023-12-06T14:22:22.938044Z",
     "iopub.status.idle": "2023-12-06T14:22:22.954407Z",
     "shell.execute_reply": "2023-12-06T14:22:22.953154Z",
     "shell.execute_reply.started": "2023-12-06T14:22:22.938439Z"
    },
    "papermill": {
     "duration": null,
     "end_time": null,
     "exception": null,
     "start_time": null,
     "status": "pending"
    },
    "tags": []
   },
   "outputs": [],
   "source": [
    "churn_df_filtered.drop(['av_rech_amt_data_8','total_rech_data_8','sachet_2g_6','sachet_2g_7','sachet_3g_6',\n",
    "              'sachet_3g_7','sachet_3g_8','last_day_rch_amt_6','last_day_rch_amt_7',\n",
    "              'last_day_rch_amt_8',], axis=1, inplace=True)"
   ]
  },
  {
   "cell_type": "code",
   "execution_count": 70,
   "id": "109e989c",
   "metadata": {
    "execution": {
     "iopub.execute_input": "2023-12-06T14:22:28.018357Z",
     "iopub.status.busy": "2023-12-06T14:22:28.017904Z",
     "iopub.status.idle": "2023-12-06T14:22:28.034585Z",
     "shell.execute_reply": "2023-12-06T14:22:28.033409Z",
     "shell.execute_reply.started": "2023-12-06T14:22:28.018323Z"
    },
    "papermill": {
     "duration": null,
     "end_time": null,
     "exception": null,
     "start_time": null,
     "status": "pending"
    },
    "tags": []
   },
   "outputs": [],
   "source": [
    "churn_df_filtered.drop(['loc_og_t2o_mou', 'std_og_t2o_mou', 'loc_ic_t2o_mou','roam_ic_mou_6', 'roam_ic_mou_7', 'roam_ic_mou_8', \n",
    "         'roam_og_mou_6', 'roam_og_mou_7', 'roam_og_mou_8', 'loc_og_t2t_mou_6', 'loc_og_t2t_mou_7', 'loc_og_t2t_mou_8',\n",
    "         'loc_og_t2m_mou_6', 'loc_og_t2m_mou_7', 'loc_og_t2m_mou_8', 'loc_og_t2f_mou_6', 'loc_og_t2f_mou_7', 'loc_og_t2f_mou_8',\n",
    "         'loc_og_t2c_mou_6', 'loc_og_t2c_mou_7', 'loc_og_t2c_mou_8', 'loc_og_mou_6', 'loc_og_mou_7', 'loc_og_mou_8', \n",
    "         'std_og_t2m_mou_6', 'std_og_t2f_mou_6', 'std_og_t2f_mou_7', 'std_og_t2f_mou_8', 'std_og_t2c_mou_6', 'std_og_t2c_mou_7',\n",
    "         'std_og_t2c_mou_8', 'std_og_mou_6', 'std_og_mou_7', 'std_og_mou_8', 'isd_og_mou_6', 'isd_og_mou_7', 'spl_og_mou_6',\n",
    "         'spl_og_mou_7', 'spl_og_mou_8','total_og_mou_6', 'loc_ic_t2t_mou_6', 'loc_ic_t2t_mou_7', 'loc_ic_t2t_mou_8', \n",
    "         'loc_ic_t2m_mou_6', 'loc_ic_t2m_mou_7', 'loc_ic_t2m_mou_8', 'loc_ic_t2f_mou_6', 'loc_ic_t2f_mou_7', 'loc_ic_t2f_mou_8',\n",
    "         'loc_ic_mou_6', 'loc_ic_mou_7', 'loc_ic_mou_8', 'std_ic_t2t_mou_6', 'std_ic_t2t_mou_7', 'std_ic_t2t_mou_8', \n",
    "         'std_ic_t2m_mou_6', 'std_ic_t2m_mou_7', 'std_ic_t2m_mou_8', 'std_ic_t2f_mou_6', 'std_ic_t2f_mou_7', 'std_ic_t2f_mou_8',\n",
    "         'std_ic_t2o_mou_6', 'std_ic_t2o_mou_7', 'std_ic_t2o_mou_8', 'std_ic_mou_6', 'spl_ic_mou_6', 'spl_ic_mou_7',\n",
    "         'spl_ic_mou_8', 'isd_ic_mou_6', 'isd_ic_mou_7', 'isd_ic_mou_8',], axis=1, inplace=True)"
   ]
  },
  {
   "cell_type": "code",
   "execution_count": 71,
   "id": "90b42613",
   "metadata": {
    "execution": {
     "iopub.execute_input": "2023-12-06T14:22:34.731639Z",
     "iopub.status.busy": "2023-12-06T14:22:34.731237Z",
     "iopub.status.idle": "2023-12-06T14:22:34.739690Z",
     "shell.execute_reply": "2023-12-06T14:22:34.738475Z",
     "shell.execute_reply.started": "2023-12-06T14:22:34.731609Z"
    },
    "papermill": {
     "duration": null,
     "end_time": null,
     "exception": null,
     "start_time": null,
     "status": "pending"
    },
    "tags": []
   },
   "outputs": [],
   "source": [
    "churn_df_filtered.shape"
   ]
  },
  {
   "cell_type": "code",
   "execution_count": 72,
   "id": "89f793c1",
   "metadata": {
    "execution": {
     "iopub.execute_input": "2023-12-06T14:22:37.718513Z",
     "iopub.status.busy": "2023-12-06T14:22:37.718125Z",
     "iopub.status.idle": "2023-12-06T14:22:37.964851Z",
     "shell.execute_reply": "2023-12-06T14:22:37.963026Z",
     "shell.execute_reply.started": "2023-12-06T14:22:37.718483Z"
    },
    "papermill": {
     "duration": null,
     "end_time": null,
     "exception": null,
     "start_time": null,
     "status": "pending"
    },
    "tags": []
   },
   "outputs": [],
   "source": [
    "plt.figure(figsize = (50, 50))\n",
    "sns.heatmap(churn_df_filtered.corr())\n",
    "plt.show()"
   ]
  },
  {
   "cell_type": "code",
   "execution_count": 73,
   "id": "fb227aad",
   "metadata": {
    "execution": {
     "iopub.execute_input": "2023-12-06T14:22:44.038477Z",
     "iopub.status.busy": "2023-12-06T14:22:44.038012Z",
     "iopub.status.idle": "2023-12-06T14:22:44.060238Z",
     "shell.execute_reply": "2023-12-06T14:22:44.059251Z",
     "shell.execute_reply.started": "2023-12-06T14:22:44.038443Z"
    },
    "papermill": {
     "duration": null,
     "end_time": null,
     "exception": null,
     "start_time": null,
     "status": "pending"
    },
    "tags": []
   },
   "outputs": [],
   "source": [
    "churn_df_filtered.info()"
   ]
  },
  {
   "cell_type": "code",
   "execution_count": 74,
   "id": "83f56bc8",
   "metadata": {
    "execution": {
     "iopub.execute_input": "2023-12-06T14:22:49.393593Z",
     "iopub.status.busy": "2023-12-06T14:22:49.393151Z",
     "iopub.status.idle": "2023-12-06T14:22:49.403086Z",
     "shell.execute_reply": "2023-12-06T14:22:49.401845Z",
     "shell.execute_reply.started": "2023-12-06T14:22:49.393559Z"
    },
    "papermill": {
     "duration": null,
     "end_time": null,
     "exception": null,
     "start_time": null,
     "status": "pending"
    },
    "tags": []
   },
   "outputs": [],
   "source": [
    "churn_df_filtered.drop(['total_rech_data_group_8','total_rech_num_group_8',] , axis=1, inplace=True)"
   ]
  },
  {
   "cell_type": "code",
   "execution_count": 75,
   "id": "e38fdbef",
   "metadata": {
    "execution": {
     "iopub.execute_input": "2023-12-06T14:22:53.569433Z",
     "iopub.status.busy": "2023-12-06T14:22:53.568969Z",
     "iopub.status.idle": "2023-12-06T14:22:53.576779Z",
     "shell.execute_reply": "2023-12-06T14:22:53.575556Z",
     "shell.execute_reply.started": "2023-12-06T14:22:53.569397Z"
    },
    "papermill": {
     "duration": null,
     "end_time": null,
     "exception": null,
     "start_time": null,
     "status": "pending"
    },
    "tags": []
   },
   "outputs": [],
   "source": [
    "churn_df_filtered.shape"
   ]
  },
  {
   "cell_type": "code",
   "execution_count": 76,
   "id": "c28df7b9",
   "metadata": {
    "execution": {
     "iopub.execute_input": "2023-12-06T14:22:56.662426Z",
     "iopub.status.busy": "2023-12-06T14:22:56.661990Z",
     "iopub.status.idle": "2023-12-06T14:22:56.691021Z",
     "shell.execute_reply": "2023-12-06T14:22:56.689872Z",
     "shell.execute_reply.started": "2023-12-06T14:22:56.662392Z"
    },
    "papermill": {
     "duration": null,
     "end_time": null,
     "exception": null,
     "start_time": null,
     "status": "pending"
    },
    "tags": []
   },
   "outputs": [],
   "source": [
    "churn_df_filtered.info()"
   ]
  },
  {
   "cell_type": "code",
   "execution_count": 77,
   "id": "031340f3",
   "metadata": {
    "execution": {
     "iopub.execute_input": "2023-12-06T14:23:03.939673Z",
     "iopub.status.busy": "2023-12-06T14:23:03.939276Z",
     "iopub.status.idle": "2023-12-06T14:23:03.952379Z",
     "shell.execute_reply": "2023-12-06T14:23:03.951154Z",
     "shell.execute_reply.started": "2023-12-06T14:23:03.939644Z"
    },
    "papermill": {
     "duration": null,
     "end_time": null,
     "exception": null,
     "start_time": null,
     "status": "pending"
    },
    "tags": []
   },
   "outputs": [],
   "source": [
    "churn_df_filtered.drop(['tenure_range'] , axis=1, inplace=True)"
   ]
  },
  {
   "cell_type": "code",
   "execution_count": 78,
   "id": "74303bea",
   "metadata": {
    "execution": {
     "iopub.execute_input": "2023-12-06T14:23:08.245951Z",
     "iopub.status.busy": "2023-12-06T14:23:08.245523Z",
     "iopub.status.idle": "2023-12-06T14:23:08.265362Z",
     "shell.execute_reply": "2023-12-06T14:23:08.263925Z",
     "shell.execute_reply.started": "2023-12-06T14:23:08.245916Z"
    },
    "papermill": {
     "duration": null,
     "end_time": null,
     "exception": null,
     "start_time": null,
     "status": "pending"
    },
    "tags": []
   },
   "outputs": [],
   "source": [
    "churn_df_filtered.info()"
   ]
  },
  {
   "cell_type": "code",
   "execution_count": 79,
   "id": "18075496",
   "metadata": {
    "execution": {
     "iopub.execute_input": "2023-12-06T14:23:14.344518Z",
     "iopub.status.busy": "2023-12-06T14:23:14.344130Z",
     "iopub.status.idle": "2023-12-06T14:23:14.354730Z",
     "shell.execute_reply": "2023-12-06T14:23:14.353794Z",
     "shell.execute_reply.started": "2023-12-06T14:23:14.344487Z"
    },
    "papermill": {
     "duration": null,
     "end_time": null,
     "exception": null,
     "start_time": null,
     "status": "pending"
    },
    "tags": []
   },
   "outputs": [],
   "source": [
    "churn_df_rate = (sum(churn_df_filtered[\"churn_probability\"])/len(churn_df_filtered[\"churn_probability\"].index))*100\n",
    "churn_df_rate"
   ]
  },
  {
   "cell_type": "markdown",
   "id": "ee592468",
   "metadata": {},
   "source": [
    "### Step-V : Model Building\n",
    "* Handle class imbalance in the target variable\n",
    "* Utilize dimensionality reduction techniques such as PCA\n",
    "* Apply various classification models for churn_df prediction"
   ]
  },
  {
   "cell_type": "markdown",
   "id": "f95d9f36",
   "metadata": {
    "papermill": {
     "duration": null,
     "end_time": null,
     "exception": null,
     "start_time": null,
     "status": "pending"
    },
    "tags": []
   },
   "source": [
    "#### Split Data Into Train and Test Data"
   ]
  },
  {
   "cell_type": "code",
   "execution_count": 80,
   "id": "706ee2a4",
   "metadata": {
    "execution": {
     "iopub.execute_input": "2023-12-06T14:23:21.039826Z",
     "iopub.status.busy": "2023-12-06T14:23:21.039387Z",
     "iopub.status.idle": "2023-12-06T14:23:21.047239Z",
     "shell.execute_reply": "2023-12-06T14:23:21.045894Z",
     "shell.execute_reply.started": "2023-12-06T14:23:21.039792Z"
    },
    "papermill": {
     "duration": null,
     "end_time": null,
     "exception": null,
     "start_time": null,
     "status": "pending"
    },
    "tags": []
   },
   "outputs": [],
   "source": [
    "churn_df_filtered.shape"
   ]
  },
  {
   "cell_type": "code",
   "execution_count": 81,
   "id": "668f724d",
   "metadata": {
    "execution": {
     "iopub.execute_input": "2023-12-06T14:23:25.411443Z",
     "iopub.status.busy": "2023-12-06T14:23:25.411024Z",
     "iopub.status.idle": "2023-12-06T14:23:25.444318Z",
     "shell.execute_reply": "2023-12-06T14:23:25.442971Z",
     "shell.execute_reply.started": "2023-12-06T14:23:25.411413Z"
    },
    "papermill": {
     "duration": null,
     "end_time": null,
     "exception": null,
     "start_time": null,
     "status": "pending"
    },
    "tags": []
   },
   "outputs": [],
   "source": [
    "# divide data into train and test\n",
    "X = churn_df_filtered.drop(\"churn_probability\", axis = 1)\n",
    "y = churn_df_filtered.churn_probability\n",
    "X_train, X_test, y_train, y_test = train_test_split(X, y, test_size = 0.25, random_state = 4, stratify = y)"
   ]
  },
  {
   "cell_type": "code",
   "execution_count": 82,
   "id": "e36879a7",
   "metadata": {
    "execution": {
     "iopub.execute_input": "2023-12-06T14:23:30.699139Z",
     "iopub.status.busy": "2023-12-06T14:23:30.698586Z",
     "iopub.status.idle": "2023-12-06T14:23:30.706820Z",
     "shell.execute_reply": "2023-12-06T14:23:30.705834Z",
     "shell.execute_reply.started": "2023-12-06T14:23:30.699092Z"
    },
    "papermill": {
     "duration": null,
     "end_time": null,
     "exception": null,
     "start_time": null,
     "status": "pending"
    },
    "tags": []
   },
   "outputs": [],
   "source": [
    "# print shapes of train and test sets\n",
    "X_train.shape"
   ]
  },
  {
   "cell_type": "code",
   "execution_count": 83,
   "id": "94f8f452",
   "metadata": {
    "execution": {
     "iopub.execute_input": "2023-12-06T14:23:34.839015Z",
     "iopub.status.busy": "2023-12-06T14:23:34.838565Z",
     "iopub.status.idle": "2023-12-06T14:23:34.844663Z",
     "shell.execute_reply": "2023-12-06T14:23:34.843783Z",
     "shell.execute_reply.started": "2023-12-06T14:23:34.838983Z"
    },
    "papermill": {
     "duration": null,
     "end_time": null,
     "exception": null,
     "start_time": null,
     "status": "pending"
    },
    "tags": []
   },
   "outputs": [],
   "source": [
    "print(y_train.shape)\n",
    "print(X_test.shape)\n",
    "print(y_test.shape)"
   ]
  },
  {
   "cell_type": "markdown",
   "id": "059b9af7",
   "metadata": {
    "papermill": {
     "duration": null,
     "end_time": null,
     "exception": null,
     "start_time": null,
     "status": "pending"
    },
    "tags": []
   },
   "source": [
    "Perform Scaling"
   ]
  },
  {
   "cell_type": "code",
   "execution_count": 84,
   "id": "599bf120",
   "metadata": {
    "execution": {
     "iopub.execute_input": "2023-12-06T14:23:39.542793Z",
     "iopub.status.busy": "2023-12-06T14:23:39.542361Z",
     "iopub.status.idle": "2023-12-06T14:23:39.603736Z",
     "shell.execute_reply": "2023-12-06T14:23:39.602791Z",
     "shell.execute_reply.started": "2023-12-06T14:23:39.542757Z"
    },
    "papermill": {
     "duration": null,
     "end_time": null,
     "exception": null,
     "start_time": null,
     "status": "pending"
    },
    "tags": []
   },
   "outputs": [],
   "source": [
    "X_train.head()"
   ]
  },
  {
   "cell_type": "code",
   "execution_count": 85,
   "id": "09668330",
   "metadata": {
    "execution": {
     "iopub.execute_input": "2023-12-06T14:23:43.812704Z",
     "iopub.status.busy": "2023-12-06T14:23:43.812048Z",
     "iopub.status.idle": "2023-12-06T14:23:43.831444Z",
     "shell.execute_reply": "2023-12-06T14:23:43.830224Z",
     "shell.execute_reply.started": "2023-12-06T14:23:43.812668Z"
    },
    "papermill": {
     "duration": null,
     "end_time": null,
     "exception": null,
     "start_time": null,
     "status": "pending"
    },
    "tags": []
   },
   "outputs": [],
   "source": [
    "X_train.info()"
   ]
  },
  {
   "cell_type": "code",
   "execution_count": 86,
   "id": "b5d4bfa2",
   "metadata": {
    "execution": {
     "iopub.execute_input": "2023-12-06T14:23:49.741177Z",
     "iopub.status.busy": "2023-12-06T14:23:49.740744Z",
     "iopub.status.idle": "2023-12-06T14:23:49.755901Z",
     "shell.execute_reply": "2023-12-06T14:23:49.754640Z",
     "shell.execute_reply.started": "2023-12-06T14:23:49.741142Z"
    },
    "papermill": {
     "duration": null,
     "end_time": null,
     "exception": null,
     "start_time": null,
     "status": "pending"
    },
    "tags": []
   },
   "outputs": [],
   "source": [
    "num_col = X_train.select_dtypes(include = ['int64','float64']).columns.tolist()"
   ]
  },
  {
   "cell_type": "code",
   "execution_count": 87,
   "id": "a00044b9",
   "metadata": {
    "execution": {
     "iopub.execute_input": "2023-12-06T14:23:54.890075Z",
     "iopub.status.busy": "2023-12-06T14:23:54.889671Z",
     "iopub.status.idle": "2023-12-06T14:23:54.921748Z",
     "shell.execute_reply": "2023-12-06T14:23:54.920561Z",
     "shell.execute_reply.started": "2023-12-06T14:23:54.890029Z"
    },
    "papermill": {
     "duration": null,
     "end_time": null,
     "exception": null,
     "start_time": null,
     "status": "pending"
    },
    "tags": []
   },
   "outputs": [],
   "source": [
    "# apply scaling on the dataset\n",
    "from sklearn import preprocessing\n",
    "from sklearn.preprocessing import MinMaxScaler\n",
    "\n",
    "scaler = MinMaxScaler()\n",
    "X_train[num_col] = scaler.fit_transform(X_train[num_col])"
   ]
  },
  {
   "cell_type": "code",
   "execution_count": 88,
   "id": "88332aaa",
   "metadata": {
    "execution": {
     "iopub.execute_input": "2023-12-06T14:24:11.126666Z",
     "iopub.status.busy": "2023-12-06T14:24:11.126285Z",
     "iopub.status.idle": "2023-12-06T14:24:11.188663Z",
     "shell.execute_reply": "2023-12-06T14:24:11.187167Z",
     "shell.execute_reply.started": "2023-12-06T14:24:11.126637Z"
    },
    "papermill": {
     "duration": null,
     "end_time": null,
     "exception": null,
     "start_time": null,
     "status": "pending"
    },
    "tags": []
   },
   "outputs": [],
   "source": [
    "X_train.head()"
   ]
  },
  {
   "cell_type": "markdown",
   "id": "d478997e",
   "metadata": {
    "papermill": {
     "duration": null,
     "end_time": null,
     "exception": null,
     "start_time": null,
     "status": "pending"
    },
    "tags": []
   },
   "source": [
    "As there are many variables we will start the process of dropping variables after doing the RFE"
   ]
  },
  {
   "cell_type": "markdown",
   "id": "1746995e",
   "metadata": {
    "papermill": {
     "duration": null,
     "end_time": null,
     "exception": null,
     "start_time": null,
     "status": "pending"
    },
    "tags": []
   },
   "source": [
    "### Data modeling, model evaluation & prepare model for predictor variables selection"
   ]
  },
  {
   "cell_type": "markdown",
   "id": "3f85caa8",
   "metadata": {
    "papermill": {
     "duration": null,
     "end_time": null,
     "exception": null,
     "start_time": null,
     "status": "pending"
    },
    "tags": []
   },
   "source": [
    "#### Data Imbalance Handling\n",
    "Using SMOTE method, we can balance the data w.r.t. churn_df variable and proceed further"
   ]
  },
  {
   "cell_type": "code",
   "execution_count": 89,
   "id": "7df45278",
   "metadata": {
    "execution": {
     "iopub.execute_input": "2023-12-06T14:24:23.696883Z",
     "iopub.status.busy": "2023-12-06T14:24:23.696422Z",
     "iopub.status.idle": "2023-12-06T14:24:23.816624Z",
     "shell.execute_reply": "2023-12-06T14:24:23.815402Z",
     "shell.execute_reply.started": "2023-12-06T14:24:23.696845Z"
    },
    "papermill": {
     "duration": null,
     "end_time": null,
     "exception": null,
     "start_time": null,
     "status": "pending"
    },
    "tags": []
   },
   "outputs": [],
   "source": [
    "smote = SMOTE(random_state=42)\n",
    "X_train_sm,y_train_sm = smote.fit_resample(X_train,y_train)"
   ]
  },
  {
   "cell_type": "code",
   "execution_count": 90,
   "id": "dc2eadd8",
   "metadata": {
    "execution": {
     "iopub.execute_input": "2023-12-06T14:24:26.538282Z",
     "iopub.status.busy": "2023-12-06T14:24:26.537869Z",
     "iopub.status.idle": "2023-12-06T14:24:26.544250Z",
     "shell.execute_reply": "2023-12-06T14:24:26.543056Z",
     "shell.execute_reply.started": "2023-12-06T14:24:26.538249Z"
    },
    "papermill": {
     "duration": null,
     "end_time": null,
     "exception": null,
     "start_time": null,
     "status": "pending"
    },
    "tags": []
   },
   "outputs": [],
   "source": [
    "print(\"Dimension of X_train_sm Shape:\", X_train_sm.shape)\n",
    "print(\"Dimension of y_train_sm Shape:\", y_train_sm.shape)"
   ]
  },
  {
   "cell_type": "markdown",
   "id": "e056a639",
   "metadata": {
    "papermill": {
     "duration": null,
     "end_time": null,
     "exception": null,
     "start_time": null,
     "status": "pending"
    },
    "tags": []
   },
   "source": [
    "#### Logistic Regression"
   ]
  },
  {
   "cell_type": "code",
   "execution_count": 91,
   "id": "c67a5598",
   "metadata": {
    "execution": {
     "iopub.execute_input": "2023-12-06T14:24:31.189054Z",
     "iopub.status.busy": "2023-12-06T14:24:31.188666Z",
     "iopub.status.idle": "2023-12-06T14:24:35.085253Z",
     "shell.execute_reply": "2023-12-06T14:24:35.083976Z",
     "shell.execute_reply.started": "2023-12-06T14:24:31.189025Z"
    },
    "papermill": {
     "duration": null,
     "end_time": null,
     "exception": null,
     "start_time": null,
     "status": "pending"
    },
    "tags": []
   },
   "outputs": [],
   "source": [
    "# Logistic regression model\n",
    "logm1 = sm.GLM(y_train_sm,(sm.add_constant(X_train_sm)), family = sm.families.Binomial())\n",
    "logm1.fit().summary()"
   ]
  },
  {
   "cell_type": "markdown",
   "id": "211ec9c1",
   "metadata": {
    "papermill": {
     "duration": null,
     "end_time": null,
     "exception": null,
     "start_time": null,
     "status": "pending"
    },
    "tags": []
   },
   "source": [
    "#### Logistic Regression using Feature Selection (RFE method)"
   ]
  },
  {
   "cell_type": "code",
   "execution_count": 92,
   "id": "31306b07",
   "metadata": {
    "execution": {
     "iopub.execute_input": "2023-12-06T14:24:37.713043Z",
     "iopub.status.busy": "2023-12-06T14:24:37.712571Z",
     "iopub.status.idle": "2023-12-06T14:24:52.650197Z",
     "shell.execute_reply": "2023-12-06T14:24:52.648532Z",
     "shell.execute_reply.started": "2023-12-06T14:24:37.712997Z"
    },
    "papermill": {
     "duration": null,
     "end_time": null,
     "exception": null,
     "start_time": null,
     "status": "pending"
    },
    "tags": []
   },
   "outputs": [],
   "source": [
    "logreg = LogisticRegression()\n",
    "\n",
    "from sklearn.feature_selection import RFE\n",
    "\n",
    "# running RFE with 20 variables as output\n",
    "rfe = RFE(logreg,  n_features_to_select= 20)             \n",
    "rfe = rfe.fit(X_train_sm, y_train_sm)"
   ]
  },
  {
   "cell_type": "code",
   "execution_count": 93,
   "id": "b408bb0c",
   "metadata": {
    "execution": {
     "iopub.execute_input": "2023-12-06T14:24:58.180664Z",
     "iopub.status.busy": "2023-12-06T14:24:58.180272Z",
     "iopub.status.idle": "2023-12-06T14:24:58.188465Z",
     "shell.execute_reply": "2023-12-06T14:24:58.187095Z",
     "shell.execute_reply.started": "2023-12-06T14:24:58.180633Z"
    },
    "papermill": {
     "duration": null,
     "end_time": null,
     "exception": null,
     "start_time": null,
     "status": "pending"
    },
    "tags": []
   },
   "outputs": [],
   "source": [
    "rfe.support_"
   ]
  },
  {
   "cell_type": "code",
   "execution_count": 94,
   "id": "fb94018e",
   "metadata": {
    "execution": {
     "iopub.execute_input": "2023-12-06T14:25:01.663957Z",
     "iopub.status.busy": "2023-12-06T14:25:01.663512Z",
     "iopub.status.idle": "2023-12-06T14:25:01.671201Z",
     "shell.execute_reply": "2023-12-06T14:25:01.669831Z",
     "shell.execute_reply.started": "2023-12-06T14:25:01.663922Z"
    },
    "papermill": {
     "duration": null,
     "end_time": null,
     "exception": null,
     "start_time": null,
     "status": "pending"
    },
    "tags": []
   },
   "outputs": [],
   "source": [
    "rfe_columns=X_train_sm.columns[rfe.support_]\n",
    "print(\"The selected columns by RFE for modelling are: \\n\\n\",rfe_columns)"
   ]
  },
  {
   "cell_type": "code",
   "execution_count": 95,
   "id": "a02ac015",
   "metadata": {
    "execution": {
     "iopub.execute_input": "2023-12-06T14:25:06.071872Z",
     "iopub.status.busy": "2023-12-06T14:25:06.071446Z",
     "iopub.status.idle": "2023-12-06T14:25:06.084953Z",
     "shell.execute_reply": "2023-12-06T14:25:06.083828Z",
     "shell.execute_reply.started": "2023-12-06T14:25:06.071836Z"
    },
    "papermill": {
     "duration": null,
     "end_time": null,
     "exception": null,
     "start_time": null,
     "status": "pending"
    },
    "tags": []
   },
   "outputs": [],
   "source": [
    "list(zip(X_train_sm.columns, rfe.support_, rfe.ranking_))"
   ]
  },
  {
   "cell_type": "markdown",
   "id": "0a477980",
   "metadata": {
    "papermill": {
     "duration": null,
     "end_time": null,
     "exception": null,
     "start_time": null,
     "status": "pending"
    },
    "tags": []
   },
   "source": [
    "#### Assessing the model with StatsModels"
   ]
  },
  {
   "cell_type": "code",
   "execution_count": 96,
   "id": "d4968499",
   "metadata": {
    "execution": {
     "iopub.execute_input": "2023-12-06T14:25:11.411037Z",
     "iopub.status.busy": "2023-12-06T14:25:11.410591Z",
     "iopub.status.idle": "2023-12-06T14:25:11.920873Z",
     "shell.execute_reply": "2023-12-06T14:25:11.919627Z",
     "shell.execute_reply.started": "2023-12-06T14:25:11.411001Z"
    },
    "papermill": {
     "duration": null,
     "end_time": null,
     "exception": null,
     "start_time": null,
     "status": "pending"
    },
    "tags": []
   },
   "outputs": [],
   "source": [
    "X_train_SM = sm.add_constant(X_train_sm[rfe_columns])\n",
    "logm2 = sm.GLM(y_train_sm,X_train_SM, family = sm.families.Binomial())\n",
    "res = logm2.fit()\n",
    "res.summary()"
   ]
  },
  {
   "cell_type": "code",
   "execution_count": 97,
   "id": "92792a48",
   "metadata": {
    "execution": {
     "iopub.execute_input": "2023-12-06T14:25:18.203414Z",
     "iopub.status.busy": "2023-12-06T14:25:18.202987Z",
     "iopub.status.idle": "2023-12-06T14:25:18.221893Z",
     "shell.execute_reply": "2023-12-06T14:25:18.219836Z",
     "shell.execute_reply.started": "2023-12-06T14:25:18.203383Z"
    },
    "papermill": {
     "duration": null,
     "end_time": null,
     "exception": null,
     "start_time": null,
     "status": "pending"
    },
    "tags": []
   },
   "outputs": [],
   "source": [
    "# Getting the predicted values on the train set\n",
    "y_train_sm_pred = res.predict(X_train_SM)\n",
    "y_train_sm_pred = y_train_sm_pred.values.reshape(-1)\n",
    "y_train_sm_pred[:10]"
   ]
  },
  {
   "cell_type": "code",
   "execution_count": 98,
   "id": "2685f57c",
   "metadata": {
    "execution": {
     "iopub.execute_input": "2023-12-06T14:25:21.968748Z",
     "iopub.status.busy": "2023-12-06T14:25:21.968341Z",
     "iopub.status.idle": "2023-12-06T14:25:21.980456Z",
     "shell.execute_reply": "2023-12-06T14:25:21.979655Z",
     "shell.execute_reply.started": "2023-12-06T14:25:21.968714Z"
    },
    "papermill": {
     "duration": null,
     "end_time": null,
     "exception": null,
     "start_time": null,
     "status": "pending"
    },
    "tags": []
   },
   "outputs": [],
   "source": [
    "# Creating a dataframe with the actual churn_df flag and the predicted probabilities\n",
    "y_train_sm_pred_final = pd.DataFrame({'Converted':y_train_sm.values, 'Converted_prob':y_train_sm_pred})\n",
    "y_train_sm_pred_final.head()"
   ]
  },
  {
   "cell_type": "markdown",
   "id": "145716f2",
   "metadata": {
    "papermill": {
     "duration": null,
     "end_time": null,
     "exception": null,
     "start_time": null,
     "status": "pending"
    },
    "tags": []
   },
   "source": [
    "#### Creating new column 'churn_df_pred' with 1 if churn_df_Prob > 0.8 else 0"
   ]
  },
  {
   "cell_type": "code",
   "execution_count": 99,
   "id": "24fb342f",
   "metadata": {
    "execution": {
     "iopub.execute_input": "2023-12-06T14:25:29.514403Z",
     "iopub.status.busy": "2023-12-06T14:25:29.513947Z",
     "iopub.status.idle": "2023-12-06T14:25:29.553525Z",
     "shell.execute_reply": "2023-12-06T14:25:29.552289Z",
     "shell.execute_reply.started": "2023-12-06T14:25:29.514368Z"
    },
    "papermill": {
     "duration": null,
     "end_time": null,
     "exception": null,
     "start_time": null,
     "status": "pending"
    },
    "tags": []
   },
   "outputs": [],
   "source": [
    "y_train_sm_pred_final['churn_df_pred'] = y_train_sm_pred_final.Converted_prob.map(lambda x: 1 if x > 0.5 else 0)\n",
    "\n",
    "# Viewing the prediction results\n",
    "y_train_sm_pred_final.head()"
   ]
  },
  {
   "cell_type": "code",
   "execution_count": 100,
   "id": "617d7fe7",
   "metadata": {
    "execution": {
     "iopub.execute_input": "2023-12-06T14:25:35.415503Z",
     "iopub.status.busy": "2023-12-06T14:25:35.415008Z",
     "iopub.status.idle": "2023-12-06T14:25:35.430796Z",
     "shell.execute_reply": "2023-12-06T14:25:35.429796Z",
     "shell.execute_reply.started": "2023-12-06T14:25:35.415466Z"
    },
    "papermill": {
     "duration": null,
     "end_time": null,
     "exception": null,
     "start_time": null,
     "status": "pending"
    },
    "tags": []
   },
   "outputs": [],
   "source": [
    "# Confusion matrix \n",
    "confusion = metrics.confusion_matrix(y_train_sm_pred_final.Converted, y_train_sm_pred_final.churn_df_pred )\n",
    "print(confusion)"
   ]
  },
  {
   "cell_type": "markdown",
   "id": "f238b64c",
   "metadata": {
    "papermill": {
     "duration": null,
     "end_time": null,
     "exception": null,
     "start_time": null,
     "status": "pending"
    },
    "tags": []
   },
   "source": [
    "* Confusion matrix\n",
    "* Predicted     not_churn_df    churn_df\n",
    "* Actual\n",
    "* 3 not_churn_df     11630           2825\n",
    "* churn_df             2238            12217  "
   ]
  },
  {
   "cell_type": "code",
   "execution_count": 101,
   "id": "a3c72f5f",
   "metadata": {
    "execution": {
     "iopub.execute_input": "2023-12-06T14:25:42.367012Z",
     "iopub.status.busy": "2023-12-06T14:25:42.366601Z",
     "iopub.status.idle": "2023-12-06T14:25:42.378616Z",
     "shell.execute_reply": "2023-12-06T14:25:42.377269Z",
     "shell.execute_reply.started": "2023-12-06T14:25:42.366972Z"
    },
    "papermill": {
     "duration": null,
     "end_time": null,
     "exception": null,
     "start_time": null,
     "status": "pending"
    },
    "tags": []
   },
   "outputs": [],
   "source": [
    "# Checking the overall accuracy.\n",
    "print(\"The overall accuracy of the model is:\",metrics.accuracy_score(y_train_sm_pred_final.Converted, y_train_sm_pred_final.churn_df_pred))"
   ]
  },
  {
   "cell_type": "markdown",
   "id": "8835fbdf",
   "metadata": {
    "papermill": {
     "duration": null,
     "end_time": null,
     "exception": null,
     "start_time": null,
     "status": "pending"
    },
    "tags": []
   },
   "source": [
    "#### Finding out the VIF values of the feature variables"
   ]
  },
  {
   "cell_type": "code",
   "execution_count": 102,
   "id": "8b6adec6",
   "metadata": {
    "execution": {
     "iopub.execute_input": "2023-12-06T14:25:48.460507Z",
     "iopub.status.busy": "2023-12-06T14:25:48.460118Z",
     "iopub.status.idle": "2023-12-06T14:25:49.949929Z",
     "shell.execute_reply": "2023-12-06T14:25:49.948771Z",
     "shell.execute_reply.started": "2023-12-06T14:25:48.460476Z"
    },
    "papermill": {
     "duration": null,
     "end_time": null,
     "exception": null,
     "start_time": null,
     "status": "pending"
    },
    "tags": []
   },
   "outputs": [],
   "source": [
    "# Create a dataframe that will contain the names of all the feature variables and their respective VIFs\n",
    "vif = pd.DataFrame()\n",
    "vif['Features'] = X_train_sm[rfe_columns].columns\n",
    "vif['VIF'] = [variance_inflation_factor(X_train_sm[rfe_columns].values, i) for i in range(X_train_sm[rfe_columns].shape[1])]\n",
    "vif['VIF'] = round(vif['VIF'], 2)\n",
    "vif = vif.sort_values(by = \"VIF\", ascending = False)\n",
    "vif"
   ]
  },
  {
   "cell_type": "code",
   "execution_count": 103,
   "id": "a45efab2",
   "metadata": {
    "execution": {
     "iopub.execute_input": "2023-12-06T14:25:55.132343Z",
     "iopub.status.busy": "2023-12-06T14:25:55.131900Z",
     "iopub.status.idle": "2023-12-06T14:25:55.138340Z",
     "shell.execute_reply": "2023-12-06T14:25:55.137360Z",
     "shell.execute_reply.started": "2023-12-06T14:25:55.132306Z"
    },
    "papermill": {
     "duration": null,
     "end_time": null,
     "exception": null,
     "start_time": null,
     "status": "pending"
    },
    "tags": []
   },
   "outputs": [],
   "source": [
    "#### Metrics beyond accuracy\n",
    "TP = confusion[1,1] # true positive \n",
    "TN = confusion[0,0] # true negatives\n",
    "FP = confusion[0,1] # false positives\n",
    "FN = confusion[1,0] # false negatives"
   ]
  },
  {
   "cell_type": "code",
   "execution_count": 104,
   "id": "8f12f998",
   "metadata": {
    "execution": {
     "iopub.execute_input": "2023-12-06T14:25:59.062786Z",
     "iopub.status.busy": "2023-12-06T14:25:59.062337Z",
     "iopub.status.idle": "2023-12-06T14:25:59.071002Z",
     "shell.execute_reply": "2023-12-06T14:25:59.069772Z",
     "shell.execute_reply.started": "2023-12-06T14:25:59.062746Z"
    },
    "papermill": {
     "duration": null,
     "end_time": null,
     "exception": null,
     "start_time": null,
     "status": "pending"
    },
    "tags": []
   },
   "outputs": [],
   "source": [
    "# Let's see the sensitivity of our logistic regression model\n",
    "print(\"Sensitivity = \",TP / float(TP+FN))\n",
    "\n",
    "# Let us calculate specificity\n",
    "print(\"Specificity = \",TN / float(TN+FP))\n",
    "\n",
    "# Calculate false postive rate - predicting churn_df when customer does not have churn_dfed\n",
    "print(\"False Positive Rate = \",FP/ float(TN+FP))\n",
    "\n",
    "# positive predictive value \n",
    "print (\"Precision = \",TP / float(TP+FP))\n",
    "\n",
    "# Negative predictive value\n",
    "print (\"True Negative Prediction Rate = \",TN / float(TN+ FN))"
   ]
  },
  {
   "cell_type": "markdown",
   "id": "dee78ac2",
   "metadata": {
    "papermill": {
     "duration": null,
     "end_time": null,
     "exception": null,
     "start_time": null,
     "status": "pending"
    },
    "tags": []
   },
   "source": [
    "#### Plotting the ROC Curve"
   ]
  },
  {
   "cell_type": "code",
   "execution_count": 105,
   "id": "9478dbcc",
   "metadata": {
    "execution": {
     "iopub.execute_input": "2023-12-06T14:26:09.587642Z",
     "iopub.status.busy": "2023-12-06T14:26:09.587258Z",
     "iopub.status.idle": "2023-12-06T14:26:09.596434Z",
     "shell.execute_reply": "2023-12-06T14:26:09.595052Z",
     "shell.execute_reply.started": "2023-12-06T14:26:09.587613Z"
    },
    "papermill": {
     "duration": null,
     "end_time": null,
     "exception": null,
     "start_time": null,
     "status": "pending"
    },
    "tags": []
   },
   "outputs": [],
   "source": [
    "# Defining a function to plot the roc curve\n",
    "def draw_roc( actual, probs ):\n",
    "    fpr, tpr, thresholds = metrics.roc_curve( actual, probs,\n",
    "                                              drop_intermediate = False )\n",
    "    auc_score = metrics.roc_auc_score( actual, probs )\n",
    "    plt.figure(figsize=(5, 5))\n",
    "    plt.plot( fpr, tpr, label='ROC curve (area = %0.2f)' % auc_score )\n",
    "    plt.plot([0, 1], [0, 1], 'k--')\n",
    "    plt.xlim([0.0, 1.0])\n",
    "    plt.ylim([0.0, 1.05])\n",
    "    plt.xlabel('False Positive Rate or [1 - True Negative Prediction Rate]')\n",
    "    plt.ylabel('True Positive Rate')\n",
    "    plt.title('Receiver operating characteristic example')\n",
    "    plt.legend(loc=\"lower right\")\n",
    "    plt.show()\n",
    "\n",
    "    return None"
   ]
  },
  {
   "cell_type": "code",
   "execution_count": 106,
   "id": "af2bb982",
   "metadata": {
    "execution": {
     "iopub.execute_input": "2023-12-06T14:26:14.192693Z",
     "iopub.status.busy": "2023-12-06T14:26:14.192294Z",
     "iopub.status.idle": "2023-12-06T14:26:14.205122Z",
     "shell.execute_reply": "2023-12-06T14:26:14.203914Z",
     "shell.execute_reply.started": "2023-12-06T14:26:14.192662Z"
    },
    "papermill": {
     "duration": null,
     "end_time": null,
     "exception": null,
     "start_time": null,
     "status": "pending"
    },
    "tags": []
   },
   "outputs": [],
   "source": [
    "# Defining the variables to plot the curve\n",
    "fpr, tpr, thresholds = metrics.roc_curve( y_train_sm_pred_final.Converted, y_train_sm_pred_final.Converted_prob, drop_intermediate = False )"
   ]
  },
  {
   "cell_type": "code",
   "execution_count": 107,
   "id": "ac546ed8",
   "metadata": {
    "execution": {
     "iopub.execute_input": "2023-12-06T14:26:19.218635Z",
     "iopub.status.busy": "2023-12-06T14:26:19.218192Z",
     "iopub.status.idle": "2023-12-06T14:26:19.543843Z",
     "shell.execute_reply": "2023-12-06T14:26:19.542603Z",
     "shell.execute_reply.started": "2023-12-06T14:26:19.218600Z"
    },
    "papermill": {
     "duration": null,
     "end_time": null,
     "exception": null,
     "start_time": null,
     "status": "pending"
    },
    "tags": []
   },
   "outputs": [],
   "source": [
    "# Plotting the curve for the obtained metrics\n",
    "draw_roc(y_train_sm_pred_final.Converted, y_train_sm_pred_final.Converted_prob)"
   ]
  },
  {
   "cell_type": "markdown",
   "id": "0af83cbb",
   "metadata": {
    "papermill": {
     "duration": null,
     "end_time": null,
     "exception": null,
     "start_time": null,
     "status": "pending"
    },
    "tags": []
   },
   "source": [
    "#### Finding Optimal Cutoff Point\n"
   ]
  },
  {
   "cell_type": "code",
   "execution_count": 108,
   "id": "087ff92c",
   "metadata": {
    "execution": {
     "iopub.execute_input": "2023-12-06T14:26:36.445853Z",
     "iopub.status.busy": "2023-12-06T14:26:36.445446Z",
     "iopub.status.idle": "2023-12-06T14:26:36.694925Z",
     "shell.execute_reply": "2023-12-06T14:26:36.693714Z",
     "shell.execute_reply.started": "2023-12-06T14:26:36.445823Z"
    },
    "papermill": {
     "duration": null,
     "end_time": null,
     "exception": null,
     "start_time": null,
     "status": "pending"
    },
    "tags": []
   },
   "outputs": [],
   "source": [
    "# Let's create columns with different probability cutoffs \n",
    "numbers = [float(x)/10 for x in range(10)]\n",
    "for i in numbers:\n",
    "    y_train_sm_pred_final[i]= y_train_sm_pred_final.Converted_prob.map(lambda x: 1 if x > i else 0)\n",
    "y_train_sm_pred_final.head()"
   ]
  },
  {
   "cell_type": "code",
   "execution_count": 109,
   "id": "3ebd69f6",
   "metadata": {
    "execution": {
     "iopub.execute_input": "2022-08-09T14:29:43.433200Z",
     "iopub.status.busy": "2022-08-09T14:29:43.432885Z",
     "iopub.status.idle": "2022-08-09T14:29:43.518894Z",
     "shell.execute_reply": "2022-08-09T14:29:43.517884Z",
     "shell.execute_reply.started": "2022-08-09T14:29:43.433171Z"
    },
    "papermill": {
     "duration": null,
     "end_time": null,
     "exception": null,
     "start_time": null,
     "status": "pending"
    },
    "tags": []
   },
   "outputs": [],
   "source": [
    "# let's calculate accuracy sensitivity and specificity for various probability cutoffs.\n",
    "cutoff_df = pd.DataFrame( columns = ['probability','accuracy','sensitivity','specificity'])\n",
    "from sklearn.metrics import confusion_matrix\n",
    "\n",
    "# TP = confusion[1,1] # true positive \n",
    "# TN = confusion[0,0] # true negatives\n",
    "# FP = confusion[0,1] # false positives\n",
    "# FN = confusion[1,0] # false negatives\n",
    "\n",
    "num = [0.0,0.1,0.2,0.3,0.4,0.5,0.6,0.7,0.8,0.9]\n",
    "for i in num:\n",
    "    cm1 = metrics.confusion_matrix(y_train_sm_pred_final.Converted, y_train_sm_pred_final[i] )\n",
    "    total1=sum(sum(cm1))\n",
    "    accuracy = (cm1[0,0]+cm1[1,1])/total1\n",
    "    \n",
    "    specificity = cm1[0,0]/(cm1[0,0]+cm1[0,1])\n",
    "    sensitivity = cm1[1,1]/(cm1[1,0]+cm1[1,1])\n",
    "    cutoff_df.loc[i] =[ i ,accuracy,sensitivity,specificity]\n",
    "print(cutoff_df)"
   ]
  },
  {
   "cell_type": "code",
   "execution_count": 110,
   "id": "5014deae",
   "metadata": {
    "execution": {
     "iopub.execute_input": "2023-12-06T14:34:54.590595Z",
     "iopub.status.busy": "2023-12-06T14:34:54.590156Z",
     "iopub.status.idle": "2023-12-06T14:34:54.913509Z",
     "shell.execute_reply": "2023-12-06T14:34:54.912413Z",
     "shell.execute_reply.started": "2023-12-06T14:34:54.590562Z"
    },
    "papermill": {
     "duration": null,
     "end_time": null,
     "exception": null,
     "start_time": null,
     "status": "pending"
    },
    "tags": []
   },
   "outputs": [],
   "source": [
    "# Now, plotting accuracy sensitivity and specificity for various probabilities calculated above\n",
    "cutoff_df.plot.line(x='probability', y=['accuracy','sensitivity','specificity'])\n",
    "plt.show()"
   ]
  },
  {
   "cell_type": "code",
   "execution_count": 111,
   "id": "7bbe8447",
   "metadata": {
    "execution": {
     "iopub.execute_input": "2023-12-06T14:37:01.153436Z",
     "iopub.status.busy": "2023-12-06T14:37:01.152902Z",
     "iopub.status.idle": "2023-12-06T14:37:01.419417Z",
     "shell.execute_reply": "2023-12-06T14:37:01.418039Z",
     "shell.execute_reply.started": "2023-12-06T14:37:01.153390Z"
    },
    "papermill": {
     "duration": null,
     "end_time": null,
     "exception": null,
     "start_time": null,
     "status": "pending"
    },
    "tags": []
   },
   "outputs": [],
   "source": [
    "numbers = [0.50,0.51,0.52,0.53,0.54,0.55,0.56,0.57,0.58,0.59]       # Creating columns with refined probability cutoffs \n",
    "for i in numbers:\n",
    "    y_train_sm_pred_final[i]= y_train_sm_pred_final.Converted_prob.map(lambda x: 1 if x > i else 0)\n",
    "y_train_sm_pred_final.head()"
   ]
  },
  {
   "cell_type": "code",
   "execution_count": 112,
   "id": "93c91dd0",
   "metadata": {
    "execution": {
     "iopub.execute_input": "2023-12-06T14:37:10.968621Z",
     "iopub.status.busy": "2023-12-06T14:37:10.968162Z",
     "iopub.status.idle": "2023-12-06T14:37:11.055732Z",
     "shell.execute_reply": "2023-12-06T14:37:11.054538Z",
     "shell.execute_reply.started": "2023-12-06T14:37:10.968584Z"
    },
    "papermill": {
     "duration": null,
     "end_time": null,
     "exception": null,
     "start_time": null,
     "status": "pending"
    },
    "tags": []
   },
   "outputs": [],
   "source": [
    "# Calculating the accuracy sensitivity and specificity for various probability cutoffs.\n",
    "cutoff_df = pd.DataFrame( columns = ['probability','accuracy','sensitivity','specificity'])\n",
    "from sklearn.metrics import confusion_matrix\n",
    "\n",
    "num = [0.50,0.51,0.52,0.53,0.54,0.55,0.56,0.57,0.58,0.59]\n",
    "for i in num:\n",
    "    cm1 = metrics.confusion_matrix(y_train_sm_pred_final.Converted, y_train_sm_pred_final[i] )\n",
    "    total1=sum(sum(cm1))\n",
    "    accuracy = (cm1[0,0]+cm1[1,1])/total1\n",
    "    \n",
    "    specificity = cm1[0,0]/(cm1[0,0]+cm1[0,1])\n",
    "    sensitivity = cm1[1,1]/(cm1[1,0]+cm1[1,1])\n",
    "    cutoff_df.loc[i] =[ i ,accuracy,sensitivity,specificity]\n",
    "print(cutoff_df)"
   ]
  },
  {
   "cell_type": "code",
   "execution_count": 113,
   "id": "a0216439",
   "metadata": {
    "execution": {
     "iopub.execute_input": "2023-12-06T14:37:28.261893Z",
     "iopub.status.busy": "2023-12-06T14:37:28.261329Z",
     "iopub.status.idle": "2023-12-06T14:37:28.593234Z",
     "shell.execute_reply": "2023-12-06T14:37:28.592293Z",
     "shell.execute_reply.started": "2023-12-06T14:37:28.261844Z"
    },
    "papermill": {
     "duration": null,
     "end_time": null,
     "exception": null,
     "start_time": null,
     "status": "pending"
    },
    "tags": []
   },
   "outputs": [],
   "source": [
    "# plotting accuracy sensitivity and specificity for various probabilities calculated above.\n",
    "cutoff_df.plot.line(x='probability', y=['accuracy','sensitivity','specificity'])\n",
    "plt.show()"
   ]
  },
  {
   "cell_type": "markdown",
   "id": "ce60aa50",
   "metadata": {
    "papermill": {
     "duration": null,
     "end_time": null,
     "exception": null,
     "start_time": null,
     "status": "pending"
    },
    "tags": []
   },
   "source": [
    "**From the above graph we can conclude, the optimal cutoff point in the probability to define the predicted churn_df variabe converges at `0.54`**"
   ]
  },
  {
   "cell_type": "code",
   "execution_count": 114,
   "id": "fd3f04f4",
   "metadata": {
    "execution": {
     "iopub.execute_input": "2023-12-06T14:37:41.477326Z",
     "iopub.status.busy": "2023-12-06T14:37:41.476844Z",
     "iopub.status.idle": "2023-12-06T14:37:41.525623Z",
     "shell.execute_reply": "2023-12-06T14:37:41.524483Z",
     "shell.execute_reply.started": "2023-12-06T14:37:41.477287Z"
    },
    "papermill": {
     "duration": null,
     "end_time": null,
     "exception": null,
     "start_time": null,
     "status": "pending"
    },
    "tags": []
   },
   "outputs": [],
   "source": [
    "#### From the curve above,we can take 0.54 is the optimum point to take it as a cutoff probability.\n",
    "\n",
    "y_train_sm_pred_final['final_churn_df_pred'] = y_train_sm_pred_final.Converted_prob.map( lambda x: 1 if x > 0.53 else 0)\n",
    "\n",
    "y_train_sm_pred_final.head()"
   ]
  },
  {
   "cell_type": "code",
   "execution_count": 115,
   "id": "598c722c",
   "metadata": {
    "execution": {
     "iopub.execute_input": "2022-08-09T14:29:44.226092Z",
     "iopub.status.busy": "2022-08-09T14:29:44.225708Z",
     "iopub.status.idle": "2022-08-09T14:29:44.234155Z",
     "shell.execute_reply": "2022-08-09T14:29:44.233160Z",
     "shell.execute_reply.started": "2022-08-09T14:29:44.226064Z"
    },
    "papermill": {
     "duration": null,
     "end_time": null,
     "exception": null,
     "start_time": null,
     "status": "pending"
    },
    "tags": []
   },
   "outputs": [],
   "source": [
    "# Calculating the ovearall accuracy again\n",
    "print(\"The overall accuracy of the model now is:\",metrics.accuracy_score(y_train_sm_pred_final.Converted, y_train_sm_pred_final.final_churn_df_pred))"
   ]
  },
  {
   "cell_type": "code",
   "execution_count": 116,
   "id": "5d1230bc",
   "metadata": {
    "execution": {
     "iopub.execute_input": "2023-12-06T14:37:47.653914Z",
     "iopub.status.busy": "2023-12-06T14:37:47.653484Z",
     "iopub.status.idle": "2023-12-06T14:37:47.667158Z",
     "shell.execute_reply": "2023-12-06T14:37:47.665734Z",
     "shell.execute_reply.started": "2023-12-06T14:37:47.653883Z"
    },
    "papermill": {
     "duration": null,
     "end_time": null,
     "exception": null,
     "start_time": null,
     "status": "pending"
    },
    "tags": []
   },
   "outputs": [],
   "source": [
    "confusion2 = metrics.confusion_matrix(y_train_sm_pred_final.Converted, y_train_sm_pred_final.final_churn_df_pred )\n",
    "print(confusion2)"
   ]
  },
  {
   "cell_type": "code",
   "execution_count": 117,
   "id": "66f4a290",
   "metadata": {
    "execution": {
     "iopub.execute_input": "2023-12-06T14:37:59.545345Z",
     "iopub.status.busy": "2023-12-06T14:37:59.544881Z",
     "iopub.status.idle": "2023-12-06T14:37:59.554802Z",
     "shell.execute_reply": "2023-12-06T14:37:59.553443Z",
     "shell.execute_reply.started": "2023-12-06T14:37:59.545306Z"
    },
    "papermill": {
     "duration": null,
     "end_time": null,
     "exception": null,
     "start_time": null,
     "status": "pending"
    },
    "tags": []
   },
   "outputs": [],
   "source": [
    "TP2 = confusion2[1,1] # true positive \n",
    "TN2 = confusion2[0,0] # true negatives\n",
    "FP2 = confusion2[0,1] # false positives\n",
    "FN2 = confusion2[1,0] # false negatives\n",
    "\n",
    "# Let's see the sensitivity of our logistic regression model\n",
    "print(\"Sensitivity = \",TP2 / float(TP2+FN2))\n",
    "\n",
    "# Let us calculate specificity\n",
    "print(\"Specificity = \",TN2 / float(TN2+FP2))\n",
    "\n",
    "# Calculate false postive rate - predicting churn_df when customer does not have churn_dfed\n",
    "print(\"False Positive Rate = \",FP2/ float(TN2+FP2))\n",
    "\n",
    "# positive predictive value \n",
    "print (\"Precision = \",TP2 / float(TP2+FP2))\n",
    "\n",
    "# Negative predictive value\n",
    "print (\"True Negative Prediction Rate = \",TN2 / float(TN2 + FN2))"
   ]
  },
  {
   "cell_type": "markdown",
   "id": "8e4ae78b",
   "metadata": {
    "papermill": {
     "duration": null,
     "end_time": null,
     "exception": null,
     "start_time": null,
     "status": "pending"
    },
    "tags": []
   },
   "source": [
    "#### Precision and Recall"
   ]
  },
  {
   "cell_type": "code",
   "execution_count": 118,
   "id": "d322c47a",
   "metadata": {
    "execution": {
     "iopub.execute_input": "2023-12-06T14:38:14.590300Z",
     "iopub.status.busy": "2023-12-06T14:38:14.589889Z",
     "iopub.status.idle": "2023-12-06T14:38:14.891458Z",
     "shell.execute_reply": "2023-12-06T14:38:14.889484Z",
     "shell.execute_reply.started": "2023-12-06T14:38:14.590269Z"
    },
    "papermill": {
     "duration": null,
     "end_time": null,
     "exception": null,
     "start_time": null,
     "status": "pending"
    },
    "tags": []
   },
   "outputs": [],
   "source": [
    "p, r, thresholds = precision_recall_curve(y_train_sm_pred_final.Converted, y_train_sm_pred_final.Converted_prob)\n",
    "\n",
    "plt.plot(thresholds, p[:-1], \"g-\")               # Plotting the curve\n",
    "plt.plot(thresholds, r[:-1], \"r-\")\n",
    "plt.show()"
   ]
  },
  {
   "cell_type": "markdown",
   "id": "eca18bdc",
   "metadata": {
    "papermill": {
     "duration": null,
     "end_time": null,
     "exception": null,
     "start_time": null,
     "status": "pending"
    },
    "tags": []
   },
   "source": [
    "##### Predicting test_set\n",
    "**  Transforming and feature selection for test data  **"
   ]
  },
  {
   "cell_type": "code",
   "execution_count": 119,
   "id": "8e4326a5",
   "metadata": {
    "execution": {
     "iopub.execute_input": "2022-08-09T14:29:44.459693Z",
     "iopub.status.busy": "2022-08-09T14:29:44.459245Z",
     "iopub.status.idle": "2022-08-09T14:29:44.518170Z",
     "shell.execute_reply": "2022-08-09T14:29:44.517099Z",
     "shell.execute_reply.started": "2022-08-09T14:29:44.459662Z"
    },
    "papermill": {
     "duration": null,
     "end_time": null,
     "exception": null,
     "start_time": null,
     "status": "pending"
    },
    "tags": []
   },
   "outputs": [],
   "source": [
    "X_test[num_col] = scaler.transform(X_test[num_col])    # Scaling test data\n",
    "X_test.head()"
   ]
  },
  {
   "cell_type": "code",
   "execution_count": 120,
   "id": "71437772",
   "metadata": {
    "execution": {
     "iopub.execute_input": "2023-12-06T14:38:18.013935Z",
     "iopub.status.busy": "2023-12-06T14:38:18.013214Z",
     "iopub.status.idle": "2023-12-06T14:38:18.045853Z",
     "shell.execute_reply": "2023-12-06T14:38:18.044084Z",
     "shell.execute_reply.started": "2023-12-06T14:38:18.013899Z"
    },
    "papermill": {
     "duration": null,
     "end_time": null,
     "exception": null,
     "start_time": null,
     "status": "pending"
    },
    "tags": []
   },
   "outputs": [],
   "source": [
    "X_test=X_test[rfe_columns]           # Feature selection\n",
    "X_test.head()"
   ]
  },
  {
   "cell_type": "code",
   "execution_count": 121,
   "id": "404c4841",
   "metadata": {
    "execution": {
     "iopub.execute_input": "2023-12-06T14:38:24.538976Z",
     "iopub.status.busy": "2023-12-06T14:38:24.538539Z",
     "iopub.status.idle": "2023-12-06T14:38:24.557601Z",
     "shell.execute_reply": "2023-12-06T14:38:24.556513Z",
     "shell.execute_reply.started": "2023-12-06T14:38:24.538944Z"
    },
    "papermill": {
     "duration": null,
     "end_time": null,
     "exception": null,
     "start_time": null,
     "status": "pending"
    },
    "tags": []
   },
   "outputs": [],
   "source": [
    "# Adding constant to the test model.\n",
    "X_test_SM = sm.add_constant(X_test)"
   ]
  },
  {
   "cell_type": "markdown",
   "id": "99f50a6f",
   "metadata": {
    "papermill": {
     "duration": null,
     "end_time": null,
     "exception": null,
     "start_time": null,
     "status": "pending"
    },
    "tags": []
   },
   "source": [
    "#### Predicting the target variable"
   ]
  },
  {
   "cell_type": "code",
   "execution_count": 122,
   "id": "5bcdff0c",
   "metadata": {
    "execution": {
     "iopub.execute_input": "2023-12-06T14:38:30.509491Z",
     "iopub.status.busy": "2023-12-06T14:38:30.509080Z",
     "iopub.status.idle": "2023-12-06T14:38:30.522960Z",
     "shell.execute_reply": "2023-12-06T14:38:30.521263Z",
     "shell.execute_reply.started": "2023-12-06T14:38:30.509459Z"
    },
    "papermill": {
     "duration": null,
     "end_time": null,
     "exception": null,
     "start_time": null,
     "status": "pending"
    },
    "tags": []
   },
   "outputs": [],
   "source": [
    "y_test_pred = res.predict(X_test_SM)\n",
    "print(\"\\n The first ten probability value of the prediction are:\\n\",y_test_pred[:10])"
   ]
  },
  {
   "cell_type": "code",
   "execution_count": 123,
   "id": "c554103b",
   "metadata": {
    "execution": {
     "iopub.execute_input": "2023-12-06T14:38:36.712210Z",
     "iopub.status.busy": "2023-12-06T14:38:36.711732Z",
     "iopub.status.idle": "2023-12-06T14:38:36.722932Z",
     "shell.execute_reply": "2023-12-06T14:38:36.722044Z",
     "shell.execute_reply.started": "2023-12-06T14:38:36.712127Z"
    },
    "papermill": {
     "duration": null,
     "end_time": null,
     "exception": null,
     "start_time": null,
     "status": "pending"
    },
    "tags": []
   },
   "outputs": [],
   "source": [
    "y_pred = pd.DataFrame(y_test_pred)\n",
    "y_pred.head()"
   ]
  },
  {
   "cell_type": "code",
   "execution_count": 124,
   "id": "686d4141",
   "metadata": {
    "execution": {
     "iopub.execute_input": "2023-12-06T14:38:42.136431Z",
     "iopub.status.busy": "2023-12-06T14:38:42.135951Z",
     "iopub.status.idle": "2023-12-06T14:38:42.143463Z",
     "shell.execute_reply": "2023-12-06T14:38:42.141687Z",
     "shell.execute_reply.started": "2023-12-06T14:38:42.136395Z"
    },
    "papermill": {
     "duration": null,
     "end_time": null,
     "exception": null,
     "start_time": null,
     "status": "pending"
    },
    "tags": []
   },
   "outputs": [],
   "source": [
    "y_pred=y_pred.rename(columns = {0:\"Conv_prob\"})"
   ]
  },
  {
   "cell_type": "code",
   "execution_count": 125,
   "id": "6484d154",
   "metadata": {
    "execution": {
     "iopub.execute_input": "2023-12-06T14:38:51.283205Z",
     "iopub.status.busy": "2023-12-06T14:38:51.282709Z",
     "iopub.status.idle": "2023-12-06T14:38:51.295099Z",
     "shell.execute_reply": "2023-12-06T14:38:51.293816Z",
     "shell.execute_reply.started": "2023-12-06T14:38:51.283166Z"
    },
    "papermill": {
     "duration": null,
     "end_time": null,
     "exception": null,
     "start_time": null,
     "status": "pending"
    },
    "tags": []
   },
   "outputs": [],
   "source": [
    "y_test_df = pd.DataFrame(y_test)\n",
    "y_test_df.head()"
   ]
  },
  {
   "cell_type": "code",
   "execution_count": 126,
   "id": "b993d92d",
   "metadata": {
    "execution": {
     "iopub.execute_input": "2023-12-06T14:38:56.690822Z",
     "iopub.status.busy": "2023-12-06T14:38:56.690394Z",
     "iopub.status.idle": "2023-12-06T14:38:56.703655Z",
     "shell.execute_reply": "2023-12-06T14:38:56.702437Z",
     "shell.execute_reply.started": "2023-12-06T14:38:56.690775Z"
    },
    "papermill": {
     "duration": null,
     "end_time": null,
     "exception": null,
     "start_time": null,
     "status": "pending"
    },
    "tags": []
   },
   "outputs": [],
   "source": [
    "y_pred_final = pd.concat([y_test_df,y_pred],axis=1)\n",
    "y_pred_final.head()"
   ]
  },
  {
   "cell_type": "code",
   "execution_count": 127,
   "id": "232b8872",
   "metadata": {
    "execution": {
     "iopub.execute_input": "2023-12-06T14:39:01.291820Z",
     "iopub.status.busy": "2023-12-06T14:39:01.291142Z",
     "iopub.status.idle": "2023-12-06T14:39:01.313260Z",
     "shell.execute_reply": "2023-12-06T14:39:01.311753Z",
     "shell.execute_reply.started": "2023-12-06T14:39:01.291768Z"
    },
    "papermill": {
     "duration": null,
     "end_time": null,
     "exception": null,
     "start_time": null,
     "status": "pending"
    },
    "tags": []
   },
   "outputs": [],
   "source": [
    "y_pred_final['test_churn_df_pred'] = y_pred_final.Conv_prob.map(lambda x: 1 if x>0.54 else 0)\n",
    "y_pred_final.head()"
   ]
  },
  {
   "cell_type": "code",
   "execution_count": 128,
   "id": "f55c79a5",
   "metadata": {
    "execution": {
     "iopub.execute_input": "2023-12-06T14:39:07.338694Z",
     "iopub.status.busy": "2023-12-06T14:39:07.338261Z",
     "iopub.status.idle": "2023-12-06T14:39:07.351443Z",
     "shell.execute_reply": "2023-12-06T14:39:07.350208Z",
     "shell.execute_reply.started": "2023-12-06T14:39:07.338659Z"
    },
    "papermill": {
     "duration": null,
     "end_time": null,
     "exception": null,
     "start_time": null,
     "status": "pending"
    },
    "tags": []
   },
   "outputs": [],
   "source": [
    "# Checking the overall accuracy of the predicted set.\n",
    "metrics.accuracy_score(y_pred_final.churn_probability, y_pred_final.test_churn_df_pred)"
   ]
  },
  {
   "cell_type": "markdown",
   "id": "cc572eaa",
   "metadata": {},
   "source": [
    "### Step- VI : Model Evaluation\n",
    "* Evaluate the performance of the models\n",
    "* Prepare models for predictor variable selection, considering multiple models and selecting the best one"
   ]
  },
  {
   "cell_type": "markdown",
   "id": "794e1d6c",
   "metadata": {
    "papermill": {
     "duration": null,
     "end_time": null,
     "exception": null,
     "start_time": null,
     "status": "pending"
    },
    "tags": []
   },
   "source": [
    "**Metrics Evaluation**"
   ]
  },
  {
   "cell_type": "code",
   "execution_count": 129,
   "id": "e6db3797",
   "metadata": {
    "execution": {
     "iopub.execute_input": "2023-12-06T14:39:12.371731Z",
     "iopub.status.busy": "2023-12-06T14:39:12.371324Z",
     "iopub.status.idle": "2023-12-06T14:39:12.383628Z",
     "shell.execute_reply": "2023-12-06T14:39:12.382413Z",
     "shell.execute_reply.started": "2023-12-06T14:39:12.371699Z"
    },
    "papermill": {
     "duration": null,
     "end_time": null,
     "exception": null,
     "start_time": null,
     "status": "pending"
    },
    "tags": []
   },
   "outputs": [],
   "source": [
    "# Confusion Matrix\n",
    "confusion2_test = metrics.confusion_matrix(y_pred_final.churn_probability, y_pred_final.test_churn_df_pred)\n",
    "print(\"Confusion Matrix\\n\",confusion2_test)"
   ]
  },
  {
   "cell_type": "code",
   "execution_count": 130,
   "id": "da68a08d",
   "metadata": {
    "execution": {
     "iopub.execute_input": "2023-12-06T14:39:18.051827Z",
     "iopub.status.busy": "2023-12-06T14:39:18.051360Z",
     "iopub.status.idle": "2023-12-06T14:39:18.057807Z",
     "shell.execute_reply": "2023-12-06T14:39:18.056733Z",
     "shell.execute_reply.started": "2023-12-06T14:39:18.051789Z"
    },
    "papermill": {
     "duration": null,
     "end_time": null,
     "exception": null,
     "start_time": null,
     "status": "pending"
    },
    "tags": []
   },
   "outputs": [],
   "source": [
    "TP3 = confusion2_test[1,1] # true positive      # Calculating model validation parameters\n",
    "TN3 = confusion2_test[0,0] # true negatives\n",
    "FP3 = confusion2_test[0,1] # false positives\n",
    "FN3 = confusion2_test[1,0] # false negatives"
   ]
  },
  {
   "cell_type": "code",
   "execution_count": 131,
   "id": "bc4a8d45",
   "metadata": {
    "execution": {
     "iopub.execute_input": "2023-12-06T14:39:25.317404Z",
     "iopub.status.busy": "2023-12-06T14:39:25.316985Z",
     "iopub.status.idle": "2023-12-06T14:39:25.325282Z",
     "shell.execute_reply": "2023-12-06T14:39:25.324127Z",
     "shell.execute_reply.started": "2023-12-06T14:39:25.317364Z"
    },
    "papermill": {
     "duration": null,
     "end_time": null,
     "exception": null,
     "start_time": null,
     "status": "pending"
    },
    "tags": []
   },
   "outputs": [],
   "source": [
    "print(\"Sensitivity = \",TP3 / float(TP3+FN3))    # Displays sensitivity of our logistic regression model\n",
    "\n",
    "print(\"Specificity = \",TN3 / float(TN3+FP3))    # Calculating specificity\n",
    "\n",
    "print(\"False Positive Rate = \",FP3/ float(TN3+FP3))  # Calculating false postive rate, predicting churn_df when customer does not have churn_dfed\n",
    "\n",
    "print (\"Precision = \",TP3 / float(TP3+FP3))     # positive predictive value \n",
    "\n",
    "print (\"True Negative Prediction Rate = \",TN3 / float(TN3+FN3))  # Negative predictive value"
   ]
  },
  {
   "cell_type": "markdown",
   "id": "3d724284",
   "metadata": {
    "papermill": {
     "duration": null,
     "end_time": null,
     "exception": null,
     "start_time": null,
     "status": "pending"
    },
    "tags": []
   },
   "source": [
    "Breaking down and explaining the results"
   ]
  },
  {
   "cell_type": "code",
   "execution_count": 132,
   "id": "965e2a0a",
   "metadata": {
    "execution": {
     "iopub.execute_input": "2023-12-06T14:39:40.475237Z",
     "iopub.status.busy": "2023-12-06T14:39:40.474783Z",
     "iopub.status.idle": "2023-12-06T14:39:40.484647Z",
     "shell.execute_reply": "2023-12-06T14:39:40.483466Z",
     "shell.execute_reply.started": "2023-12-06T14:39:40.475200Z"
    },
    "papermill": {
     "duration": null,
     "end_time": null,
     "exception": null,
     "start_time": null,
     "status": "pending"
    },
    "tags": []
   },
   "outputs": [],
   "source": [
    "print(\"The accuracy of the predicted model is: \",round(metrics.accuracy_score(y_pred_final.churn_probability, y_pred_final.test_churn_df_pred),2)*100,\"%\")\n",
    "print(\"The sensitivity of the predicted model is: \",round(TP3 / float(TP3+FN3),2)*100,\"%\")\n",
    "\n",
    "print(\"\\nAs the model created is based on a sentivity model, i.e. True positive rate is given more importance as the actual and prediction of churn_df by a customer\\n\") "
   ]
  },
  {
   "cell_type": "code",
   "execution_count": 133,
   "id": "dae32259",
   "metadata": {
    "execution": {
     "iopub.execute_input": "2022-08-09T14:29:44.739109Z",
     "iopub.status.busy": "2022-08-09T14:29:44.738298Z",
     "iopub.status.idle": "2022-08-09T14:29:44.963470Z",
     "shell.execute_reply": "2022-08-09T14:29:44.962746Z",
     "shell.execute_reply.started": "2022-08-09T14:29:44.739073Z"
    },
    "papermill": {
     "duration": null,
     "end_time": null,
     "exception": null,
     "start_time": null,
     "status": "pending"
    },
    "tags": []
   },
   "outputs": [],
   "source": [
    "# ROC curve for the test dataset\n",
    "\n",
    "# Here, we'll define the variables to plot the curve\n",
    "fpr, tpr, thresholds = metrics.roc_curve(y_pred_final.churn_probability,y_pred_final.Conv_prob, drop_intermediate = False )\n",
    "# Plotting the curve for the obtained metrics\n",
    "draw_roc(y_pred_final.churn_probability,y_pred_final.Conv_prob)"
   ]
  },
  {
   "cell_type": "markdown",
   "id": "749663df",
   "metadata": {
    "papermill": {
     "duration": null,
     "end_time": null,
     "exception": null,
     "start_time": null,
     "status": "pending"
    },
    "tags": []
   },
   "source": [
    "* The AUC score for train dataset is 0.90 and the test dataset is 0.88. Further, this can be considered as a good model."
   ]
  },
  {
   "cell_type": "markdown",
   "id": "638528de",
   "metadata": {
    "papermill": {
     "duration": null,
     "end_time": null,
     "exception": null,
     "start_time": null,
     "status": "pending"
    },
    "tags": []
   },
   "source": [
    "#### Principal component analysis (PCA)"
   ]
  },
  {
   "cell_type": "code",
   "execution_count": 134,
   "id": "a9784c2f",
   "metadata": {
    "execution": {
     "iopub.execute_input": "2023-12-06T14:39:47.014689Z",
     "iopub.status.busy": "2023-12-06T14:39:47.014270Z",
     "iopub.status.idle": "2023-12-06T14:39:47.029990Z",
     "shell.execute_reply": "2023-12-06T14:39:47.028545Z",
     "shell.execute_reply.started": "2023-12-06T14:39:47.014656Z"
    },
    "papermill": {
     "duration": null,
     "end_time": null,
     "exception": null,
     "start_time": null,
     "status": "pending"
    },
    "tags": []
   },
   "outputs": [],
   "source": [
    "X_train, X_test, y_train, y_test = train_test_split(X, y, train_size=0.8, test_size=0.2, random_state=10)"
   ]
  },
  {
   "cell_type": "code",
   "execution_count": 135,
   "id": "dc3f1620",
   "metadata": {
    "execution": {
     "iopub.execute_input": "2023-12-06T14:39:51.854389Z",
     "iopub.status.busy": "2023-12-06T14:39:51.853967Z",
     "iopub.status.idle": "2023-12-06T14:39:51.862039Z",
     "shell.execute_reply": "2023-12-06T14:39:51.860805Z",
     "shell.execute_reply.started": "2023-12-06T14:39:51.854357Z"
    },
    "papermill": {
     "duration": null,
     "end_time": null,
     "exception": null,
     "start_time": null,
     "status": "pending"
    },
    "tags": []
   },
   "outputs": [],
   "source": [
    "X_train.shape"
   ]
  },
  {
   "cell_type": "code",
   "execution_count": 136,
   "id": "b7aa2b70",
   "metadata": {
    "execution": {
     "iopub.execute_input": "2023-12-06T14:39:57.998840Z",
     "iopub.status.busy": "2023-12-06T14:39:57.998414Z",
     "iopub.status.idle": "2023-12-06T14:39:58.005036Z",
     "shell.execute_reply": "2023-12-06T14:39:58.003581Z",
     "shell.execute_reply.started": "2023-12-06T14:39:57.998806Z"
    },
    "papermill": {
     "duration": null,
     "end_time": null,
     "exception": null,
     "start_time": null,
     "status": "pending"
    },
    "tags": []
   },
   "outputs": [],
   "source": [
    "pca = PCA(random_state=42)"
   ]
  },
  {
   "cell_type": "code",
   "execution_count": 137,
   "id": "d51b432f",
   "metadata": {
    "execution": {
     "iopub.execute_input": "2023-12-06T14:40:03.153899Z",
     "iopub.status.busy": "2023-12-06T14:40:03.152790Z",
     "iopub.status.idle": "2023-12-06T14:40:03.234775Z",
     "shell.execute_reply": "2023-12-06T14:40:03.233204Z",
     "shell.execute_reply.started": "2023-12-06T14:40:03.153856Z"
    },
    "papermill": {
     "duration": null,
     "end_time": null,
     "exception": null,
     "start_time": null,
     "status": "pending"
    },
    "tags": []
   },
   "outputs": [],
   "source": [
    "pca.fit(X_train)"
   ]
  },
  {
   "cell_type": "code",
   "execution_count": 138,
   "id": "d5895ff1",
   "metadata": {
    "execution": {
     "iopub.execute_input": "2023-12-06T14:40:07.376784Z",
     "iopub.status.busy": "2023-12-06T14:40:07.376273Z",
     "iopub.status.idle": "2023-12-06T14:40:07.385871Z",
     "shell.execute_reply": "2023-12-06T14:40:07.384475Z",
     "shell.execute_reply.started": "2023-12-06T14:40:07.376744Z"
    },
    "papermill": {
     "duration": null,
     "end_time": null,
     "exception": null,
     "start_time": null,
     "status": "pending"
    },
    "tags": []
   },
   "outputs": [],
   "source": [
    "pca.components_"
   ]
  },
  {
   "cell_type": "markdown",
   "id": "3548384c",
   "metadata": {
    "papermill": {
     "duration": null,
     "end_time": null,
     "exception": null,
     "start_time": null,
     "status": "pending"
    },
    "tags": []
   },
   "source": [
    "#### Analysing the explained variance ratio"
   ]
  },
  {
   "cell_type": "code",
   "execution_count": 139,
   "id": "d110bf1d",
   "metadata": {
    "execution": {
     "iopub.execute_input": "2023-12-06T14:40:13.372466Z",
     "iopub.status.busy": "2023-12-06T14:40:13.372052Z",
     "iopub.status.idle": "2023-12-06T14:40:13.381731Z",
     "shell.execute_reply": "2023-12-06T14:40:13.380436Z",
     "shell.execute_reply.started": "2023-12-06T14:40:13.372434Z"
    },
    "papermill": {
     "duration": null,
     "end_time": null,
     "exception": null,
     "start_time": null,
     "status": "pending"
    },
    "tags": []
   },
   "outputs": [],
   "source": [
    "pca.explained_variance_ratio_"
   ]
  },
  {
   "cell_type": "code",
   "execution_count": 140,
   "id": "130dd26a",
   "metadata": {
    "execution": {
     "iopub.execute_input": "2023-12-06T14:40:17.837318Z",
     "iopub.status.busy": "2023-12-06T14:40:17.836864Z",
     "iopub.status.idle": "2023-12-06T14:40:17.843394Z",
     "shell.execute_reply": "2023-12-06T14:40:17.841922Z",
     "shell.execute_reply.started": "2023-12-06T14:40:17.837281Z"
    },
    "papermill": {
     "duration": null,
     "end_time": null,
     "exception": null,
     "start_time": null,
     "status": "pending"
    },
    "tags": []
   },
   "outputs": [],
   "source": [
    "var_cumu = np.cumsum(pca.explained_variance_ratio_)"
   ]
  },
  {
   "cell_type": "code",
   "execution_count": 141,
   "id": "eec65909",
   "metadata": {
    "execution": {
     "iopub.execute_input": "2023-12-06T14:40:22.595462Z",
     "iopub.status.busy": "2023-12-06T14:40:22.595050Z",
     "iopub.status.idle": "2023-12-06T14:40:22.903636Z",
     "shell.execute_reply": "2023-12-06T14:40:22.902262Z",
     "shell.execute_reply.started": "2023-12-06T14:40:22.595431Z"
    },
    "papermill": {
     "duration": null,
     "end_time": null,
     "exception": null,
     "start_time": null,
     "status": "pending"
    },
    "tags": []
   },
   "outputs": [],
   "source": [
    "fig = plt.figure(figsize=[12,8])\n",
    "plt.vlines(x=15, ymax=1, ymin=0, colors=\"r\", linestyles=\"--\")\n",
    "plt.hlines(y=0.95, xmax=30, xmin=0, colors=\"g\", linestyles=\"--\")\n",
    "plt.plot(var_cumu)\n",
    "plt.ylabel(\"Cumulative variance explained\")\n",
    "plt.show()"
   ]
  },
  {
   "cell_type": "markdown",
   "id": "eff2195f",
   "metadata": {
    "papermill": {
     "duration": null,
     "end_time": null,
     "exception": null,
     "start_time": null,
     "status": "pending"
    },
    "tags": []
   },
   "source": [
    "Note: Incremental PCA can be used for the best result"
   ]
  },
  {
   "cell_type": "code",
   "execution_count": 142,
   "id": "53abcb4b",
   "metadata": {
    "execution": {
     "iopub.execute_input": "2023-12-06T14:40:31.316552Z",
     "iopub.status.busy": "2023-12-06T14:40:31.316122Z",
     "iopub.status.idle": "2023-12-06T14:40:31.322898Z",
     "shell.execute_reply": "2023-12-06T14:40:31.321468Z",
     "shell.execute_reply.started": "2023-12-06T14:40:31.316520Z"
    },
    "papermill": {
     "duration": null,
     "end_time": null,
     "exception": null,
     "start_time": null,
     "status": "pending"
    },
    "tags": []
   },
   "outputs": [],
   "source": [
    "pca_final = IncrementalPCA(n_components=16)"
   ]
  },
  {
   "cell_type": "code",
   "execution_count": 143,
   "id": "74773423",
   "metadata": {
    "execution": {
     "iopub.execute_input": "2023-12-06T14:40:35.133903Z",
     "iopub.status.busy": "2023-12-06T14:40:35.133465Z",
     "iopub.status.idle": "2023-12-06T14:40:35.436817Z",
     "shell.execute_reply": "2023-12-06T14:40:35.434833Z",
     "shell.execute_reply.started": "2023-12-06T14:40:35.133867Z"
    },
    "papermill": {
     "duration": null,
     "end_time": null,
     "exception": null,
     "start_time": null,
     "status": "pending"
    },
    "tags": []
   },
   "outputs": [],
   "source": [
    "df_train_pca = pca_final.fit_transform(X_train)"
   ]
  },
  {
   "cell_type": "code",
   "execution_count": 144,
   "id": "fd590b55",
   "metadata": {
    "execution": {
     "iopub.execute_input": "2023-12-06T14:40:43.538316Z",
     "iopub.status.busy": "2023-12-06T14:40:43.537858Z",
     "iopub.status.idle": "2023-12-06T14:40:43.546436Z",
     "shell.execute_reply": "2023-12-06T14:40:43.545166Z",
     "shell.execute_reply.started": "2023-12-06T14:40:43.538281Z"
    },
    "papermill": {
     "duration": null,
     "end_time": null,
     "exception": null,
     "start_time": null,
     "status": "pending"
    },
    "tags": []
   },
   "outputs": [],
   "source": [
    "df_train_pca.shape"
   ]
  },
  {
   "cell_type": "code",
   "execution_count": 145,
   "id": "ca1134f0",
   "metadata": {
    "execution": {
     "iopub.execute_input": "2023-12-06T14:40:47.117527Z",
     "iopub.status.busy": "2023-12-06T14:40:47.116956Z",
     "iopub.status.idle": "2023-12-06T14:40:47.126173Z",
     "shell.execute_reply": "2023-12-06T14:40:47.124941Z",
     "shell.execute_reply.started": "2023-12-06T14:40:47.117473Z"
    },
    "papermill": {
     "duration": null,
     "end_time": null,
     "exception": null,
     "start_time": null,
     "status": "pending"
    },
    "tags": []
   },
   "outputs": [],
   "source": [
    "corrmat = np.corrcoef(df_train_pca.transpose())"
   ]
  },
  {
   "cell_type": "code",
   "execution_count": 146,
   "id": "0abb4d0a",
   "metadata": {
    "execution": {
     "iopub.execute_input": "2023-12-06T14:40:52.375282Z",
     "iopub.status.busy": "2023-12-06T14:40:52.374847Z",
     "iopub.status.idle": "2023-12-06T14:40:52.383705Z",
     "shell.execute_reply": "2023-12-06T14:40:52.382243Z",
     "shell.execute_reply.started": "2023-12-06T14:40:52.375250Z"
    },
    "papermill": {
     "duration": null,
     "end_time": null,
     "exception": null,
     "start_time": null,
     "status": "pending"
    },
    "tags": []
   },
   "outputs": [],
   "source": [
    "corrmat.shape"
   ]
  },
  {
   "cell_type": "code",
   "execution_count": 147,
   "id": "c685201a",
   "metadata": {
    "execution": {
     "iopub.execute_input": "2023-12-06T14:40:55.889043Z",
     "iopub.status.busy": "2023-12-06T14:40:55.888522Z",
     "iopub.status.idle": "2023-12-06T14:40:55.912191Z",
     "shell.execute_reply": "2023-12-06T14:40:55.910484Z",
     "shell.execute_reply.started": "2023-12-06T14:40:55.889003Z"
    },
    "papermill": {
     "duration": null,
     "end_time": null,
     "exception": null,
     "start_time": null,
     "status": "pending"
    },
    "tags": []
   },
   "outputs": [],
   "source": [
    "df_test_pca = pca_final.transform(X_test)\n",
    "df_test_pca.shape"
   ]
  },
  {
   "cell_type": "markdown",
   "id": "a57b89cc",
   "metadata": {
    "papermill": {
     "duration": null,
     "end_time": null,
     "exception": null,
     "start_time": null,
     "status": "pending"
    },
    "tags": []
   },
   "source": [
    "#### Implementing logistic regression on the principal components"
   ]
  },
  {
   "cell_type": "code",
   "execution_count": 148,
   "id": "3f983235",
   "metadata": {
    "execution": {
     "iopub.execute_input": "2023-12-06T14:41:00.727855Z",
     "iopub.status.busy": "2023-12-06T14:41:00.727468Z",
     "iopub.status.idle": "2023-12-06T14:41:00.733971Z",
     "shell.execute_reply": "2023-12-06T14:41:00.732295Z",
     "shell.execute_reply.started": "2023-12-06T14:41:00.727825Z"
    },
    "papermill": {
     "duration": null,
     "end_time": null,
     "exception": null,
     "start_time": null,
     "status": "pending"
    },
    "tags": []
   },
   "outputs": [],
   "source": [
    "learner_pca = LogisticRegression()"
   ]
  },
  {
   "cell_type": "code",
   "execution_count": 149,
   "id": "cc0cd94a",
   "metadata": {
    "execution": {
     "iopub.execute_input": "2023-12-06T14:41:05.226243Z",
     "iopub.status.busy": "2023-12-06T14:41:05.225679Z",
     "iopub.status.idle": "2023-12-06T14:41:05.433580Z",
     "shell.execute_reply": "2023-12-06T14:41:05.431963Z",
     "shell.execute_reply.started": "2023-12-06T14:41:05.226189Z"
    },
    "papermill": {
     "duration": null,
     "end_time": null,
     "exception": null,
     "start_time": null,
     "status": "pending"
    },
    "tags": []
   },
   "outputs": [],
   "source": [
    "model_pca = learner_pca.fit(df_train_pca, y_train)"
   ]
  },
  {
   "cell_type": "markdown",
   "id": "b8b6f8d4",
   "metadata": {
    "papermill": {
     "duration": null,
     "end_time": null,
     "exception": null,
     "start_time": null,
     "status": "pending"
    },
    "tags": []
   },
   "source": [
    "#### Making predictions on the test_set"
   ]
  },
  {
   "cell_type": "code",
   "execution_count": 150,
   "id": "1fad7b0b",
   "metadata": {
    "execution": {
     "iopub.execute_input": "2023-12-06T14:41:11.352809Z",
     "iopub.status.busy": "2023-12-06T14:41:11.352358Z",
     "iopub.status.idle": "2023-12-06T14:41:11.360659Z",
     "shell.execute_reply": "2023-12-06T14:41:11.358972Z",
     "shell.execute_reply.started": "2023-12-06T14:41:11.352773Z"
    },
    "papermill": {
     "duration": null,
     "end_time": null,
     "exception": null,
     "start_time": null,
     "status": "pending"
    },
    "tags": []
   },
   "outputs": [],
   "source": [
    "pred_probs_test = model_pca.predict_proba(df_test_pca)"
   ]
  },
  {
   "cell_type": "code",
   "execution_count": 151,
   "id": "9b31a08b",
   "metadata": {
    "execution": {
     "iopub.execute_input": "2023-12-06T14:41:15.781732Z",
     "iopub.status.busy": "2023-12-06T14:41:15.781274Z",
     "iopub.status.idle": "2023-12-06T14:41:15.794678Z",
     "shell.execute_reply": "2023-12-06T14:41:15.793351Z",
     "shell.execute_reply.started": "2023-12-06T14:41:15.781697Z"
    },
    "papermill": {
     "duration": null,
     "end_time": null,
     "exception": null,
     "start_time": null,
     "status": "pending"
    },
    "tags": []
   },
   "outputs": [],
   "source": [
    "\"{:2.2}\".format(metrics.roc_auc_score(y_test, pred_probs_test[:,1]))"
   ]
  },
  {
   "cell_type": "markdown",
   "id": "f1c6cb45",
   "metadata": {
    "papermill": {
     "duration": null,
     "end_time": null,
     "exception": null,
     "start_time": null,
     "status": "pending"
    },
    "tags": []
   },
   "source": [
    "#### Confusion matrix, Sensitivity and Specificity"
   ]
  },
  {
   "cell_type": "code",
   "execution_count": 152,
   "id": "5e136a18",
   "metadata": {
    "execution": {
     "iopub.execute_input": "2023-12-06T14:41:20.575094Z",
     "iopub.status.busy": "2023-12-06T14:41:20.574683Z",
     "iopub.status.idle": "2023-12-06T14:41:20.586382Z",
     "shell.execute_reply": "2023-12-06T14:41:20.582731Z",
     "shell.execute_reply.started": "2023-12-06T14:41:20.575041Z"
    },
    "papermill": {
     "duration": null,
     "end_time": null,
     "exception": null,
     "start_time": null,
     "status": "pending"
    },
    "tags": []
   },
   "outputs": [],
   "source": [
    "pred_probs_test1 = model_pca.predict(df_test_pca)"
   ]
  },
  {
   "cell_type": "code",
   "execution_count": 153,
   "id": "a99ce3f4",
   "metadata": {
    "execution": {
     "iopub.execute_input": "2023-12-06T14:41:24.481647Z",
     "iopub.status.busy": "2023-12-06T14:41:24.481251Z",
     "iopub.status.idle": "2023-12-06T14:41:24.490125Z",
     "shell.execute_reply": "2023-12-06T14:41:24.489225Z",
     "shell.execute_reply.started": "2023-12-06T14:41:24.481617Z"
    },
    "papermill": {
     "duration": null,
     "end_time": null,
     "exception": null,
     "start_time": null,
     "status": "pending"
    },
    "tags": []
   },
   "outputs": [],
   "source": [
    "# Confusion matrix\n",
    "confusion = metrics.confusion_matrix(y_test, pred_probs_test1)\n",
    "print(confusion)"
   ]
  },
  {
   "cell_type": "code",
   "execution_count": 154,
   "id": "48b44889",
   "metadata": {
    "execution": {
     "iopub.execute_input": "2023-12-06T14:41:28.726972Z",
     "iopub.status.busy": "2023-12-06T14:41:28.726420Z",
     "iopub.status.idle": "2023-12-06T14:41:28.733412Z",
     "shell.execute_reply": "2023-12-06T14:41:28.732357Z",
     "shell.execute_reply.started": "2023-12-06T14:41:28.726926Z"
    },
    "papermill": {
     "duration": null,
     "end_time": null,
     "exception": null,
     "start_time": null,
     "status": "pending"
    },
    "tags": []
   },
   "outputs": [],
   "source": [
    "TP = confusion[1,1] # true positive \n",
    "TN = confusion[0,0] # true negatives\n",
    "FP = confusion[0,1] # false positives\n",
    "FN = confusion[1,0] # false negatives"
   ]
  },
  {
   "cell_type": "code",
   "execution_count": 155,
   "id": "e418d30a",
   "metadata": {
    "execution": {
     "iopub.execute_input": "2023-12-06T14:41:34.315396Z",
     "iopub.status.busy": "2023-12-06T14:41:34.314953Z",
     "iopub.status.idle": "2023-12-06T14:41:34.326119Z",
     "shell.execute_reply": "2023-12-06T14:41:34.324891Z",
     "shell.execute_reply.started": "2023-12-06T14:41:34.315360Z"
    },
    "papermill": {
     "duration": null,
     "end_time": null,
     "exception": null,
     "start_time": null,
     "status": "pending"
    },
    "tags": []
   },
   "outputs": [],
   "source": [
    "print(\"Accuracy:-\",metrics.accuracy_score(y_test, pred_probs_test1))    # Accuracy\n",
    "\n",
    "print(\"Sensitivity:-\",TP / float(TP+FN))                                # Sensitivity\n",
    "\n",
    "print(\"Specificity:-\", TN / float(TN+FP))                               # Specificity"
   ]
  },
  {
   "cell_type": "markdown",
   "id": "35f545f5",
   "metadata": {
    "papermill": {
     "duration": null,
     "end_time": null,
     "exception": null,
     "start_time": null,
     "status": "pending"
    },
    "tags": []
   },
   "source": [
    "#### Making predictions on the train_set"
   ]
  },
  {
   "cell_type": "code",
   "execution_count": 156,
   "id": "d8f6ba8d",
   "metadata": {
    "execution": {
     "iopub.execute_input": "2023-12-06T14:41:39.325974Z",
     "iopub.status.busy": "2023-12-06T14:41:39.325567Z",
     "iopub.status.idle": "2023-12-06T14:41:39.334836Z",
     "shell.execute_reply": "2023-12-06T14:41:39.333004Z",
     "shell.execute_reply.started": "2023-12-06T14:41:39.325941Z"
    },
    "papermill": {
     "duration": null,
     "end_time": null,
     "exception": null,
     "start_time": null,
     "status": "pending"
    },
    "tags": []
   },
   "outputs": [],
   "source": [
    "pred_probs_train = model_pca.predict_proba(df_train_pca)"
   ]
  },
  {
   "cell_type": "code",
   "execution_count": 157,
   "id": "701d8dcd",
   "metadata": {
    "execution": {
     "iopub.execute_input": "2023-12-06T14:41:47.467340Z",
     "iopub.status.busy": "2023-12-06T14:41:47.466904Z",
     "iopub.status.idle": "2023-12-06T14:41:47.487346Z",
     "shell.execute_reply": "2023-12-06T14:41:47.485918Z",
     "shell.execute_reply.started": "2023-12-06T14:41:47.467305Z"
    },
    "papermill": {
     "duration": null,
     "end_time": null,
     "exception": null,
     "start_time": null,
     "status": "pending"
    },
    "tags": []
   },
   "outputs": [],
   "source": [
    "\"{:2.2}\".format(metrics.roc_auc_score(y_train, pred_probs_train[:,1]))"
   ]
  },
  {
   "cell_type": "markdown",
   "id": "54a41c3e",
   "metadata": {
    "papermill": {
     "duration": null,
     "end_time": null,
     "exception": null,
     "start_time": null,
     "status": "pending"
    },
    "tags": []
   },
   "source": [
    "#### Confusion matrix, Sensitivity and Specificity"
   ]
  },
  {
   "cell_type": "code",
   "execution_count": 158,
   "id": "47e97c0f",
   "metadata": {
    "execution": {
     "iopub.execute_input": "2023-12-06T14:42:12.610734Z",
     "iopub.status.busy": "2023-12-06T14:42:12.610299Z",
     "iopub.status.idle": "2023-12-06T14:42:12.620894Z",
     "shell.execute_reply": "2023-12-06T14:42:12.618563Z",
     "shell.execute_reply.started": "2023-12-06T14:42:12.610699Z"
    },
    "papermill": {
     "duration": null,
     "end_time": null,
     "exception": null,
     "start_time": null,
     "status": "pending"
    },
    "tags": []
   },
   "outputs": [],
   "source": [
    "pred_probs_train1 = model_pca.predict(df_train_pca)"
   ]
  },
  {
   "cell_type": "code",
   "execution_count": 159,
   "id": "66d333bb",
   "metadata": {
    "execution": {
     "iopub.execute_input": "2023-12-06T14:42:16.834428Z",
     "iopub.status.busy": "2023-12-06T14:42:16.833978Z",
     "iopub.status.idle": "2023-12-06T14:42:16.844587Z",
     "shell.execute_reply": "2023-12-06T14:42:16.843756Z",
     "shell.execute_reply.started": "2023-12-06T14:42:16.834394Z"
    },
    "papermill": {
     "duration": null,
     "end_time": null,
     "exception": null,
     "start_time": null,
     "status": "pending"
    },
    "tags": []
   },
   "outputs": [],
   "source": [
    "# Confusion matrix\n",
    "confusion = metrics.confusion_matrix(y_train, pred_probs_train1)\n",
    "print(confusion)"
   ]
  },
  {
   "cell_type": "code",
   "execution_count": 160,
   "id": "acd9bf9a",
   "metadata": {
    "execution": {
     "iopub.execute_input": "2023-12-06T14:42:21.203162Z",
     "iopub.status.busy": "2023-12-06T14:42:21.202728Z",
     "iopub.status.idle": "2023-12-06T14:42:21.209433Z",
     "shell.execute_reply": "2023-12-06T14:42:21.208212Z",
     "shell.execute_reply.started": "2023-12-06T14:42:21.203121Z"
    },
    "papermill": {
     "duration": null,
     "end_time": null,
     "exception": null,
     "start_time": null,
     "status": "pending"
    },
    "tags": []
   },
   "outputs": [],
   "source": [
    "TP = confusion[1,1] # true positive \n",
    "TN = confusion[0,0] # true negatives\n",
    "FP = confusion[0,1] # false positives\n",
    "FN = confusion[1,0] # false negatives"
   ]
  },
  {
   "cell_type": "code",
   "execution_count": 161,
   "id": "9a3651f3",
   "metadata": {
    "execution": {
     "iopub.execute_input": "2023-12-06T14:42:26.402174Z",
     "iopub.status.busy": "2023-12-06T14:42:26.401635Z",
     "iopub.status.idle": "2023-12-06T14:42:26.413711Z",
     "shell.execute_reply": "2023-12-06T14:42:26.412289Z",
     "shell.execute_reply.started": "2023-12-06T14:42:26.402135Z"
    },
    "papermill": {
     "duration": null,
     "end_time": null,
     "exception": null,
     "start_time": null,
     "status": "pending"
    },
    "tags": []
   },
   "outputs": [],
   "source": [
    "# Accuracy\n",
    "print(\"Accuracy:-\",metrics.accuracy_score(y_train, pred_probs_train1))\n",
    "\n",
    "# Sensitivity\n",
    "print(\"Sensitivity:-\",TP / float(TP+FN))\n",
    "\n",
    "# Specificity\n",
    "print(\"Specificity:-\", TN / float(TN+FP))"
   ]
  },
  {
   "cell_type": "markdown",
   "id": "e430bb60",
   "metadata": {
    "papermill": {
     "duration": null,
     "end_time": null,
     "exception": null,
     "start_time": null,
     "status": "pending"
    },
    "tags": []
   },
   "source": [
    "#### Decision Tree with PCA"
   ]
  },
  {
   "cell_type": "code",
   "execution_count": 162,
   "id": "e7dd0bf5",
   "metadata": {
    "execution": {
     "iopub.execute_input": "2023-12-06T14:42:30.951425Z",
     "iopub.status.busy": "2023-12-06T14:42:30.950977Z",
     "iopub.status.idle": "2023-12-06T14:42:30.956845Z",
     "shell.execute_reply": "2023-12-06T14:42:30.955590Z",
     "shell.execute_reply.started": "2023-12-06T14:42:30.951391Z"
    },
    "papermill": {
     "duration": null,
     "end_time": null,
     "exception": null,
     "start_time": null,
     "status": "pending"
    },
    "tags": []
   },
   "outputs": [],
   "source": [
    "from sklearn.tree import DecisionTreeClassifier"
   ]
  },
  {
   "cell_type": "code",
   "execution_count": 163,
   "id": "9963f9b8",
   "metadata": {
    "execution": {
     "iopub.execute_input": "2023-12-06T14:42:36.456603Z",
     "iopub.status.busy": "2023-12-06T14:42:36.456197Z",
     "iopub.status.idle": "2023-12-06T14:42:36.461639Z",
     "shell.execute_reply": "2023-12-06T14:42:36.460464Z",
     "shell.execute_reply.started": "2023-12-06T14:42:36.456573Z"
    },
    "papermill": {
     "duration": null,
     "end_time": null,
     "exception": null,
     "start_time": null,
     "status": "pending"
    },
    "tags": []
   },
   "outputs": [],
   "source": [
    "dt = DecisionTreeClassifier(random_state=42)"
   ]
  },
  {
   "cell_type": "code",
   "execution_count": 164,
   "id": "c6adf9d4",
   "metadata": {
    "execution": {
     "iopub.execute_input": "2022-08-09T14:29:46.294594Z",
     "iopub.status.busy": "2022-08-09T14:29:46.293613Z",
     "iopub.status.idle": "2022-08-09T14:29:46.301261Z",
     "shell.execute_reply": "2022-08-09T14:29:46.300317Z",
     "shell.execute_reply.started": "2022-08-09T14:29:46.294561Z"
    },
    "papermill": {
     "duration": null,
     "end_time": null,
     "exception": null,
     "start_time": null,
     "status": "pending"
    },
    "tags": []
   },
   "outputs": [],
   "source": [
    "from sklearn.model_selection import GridSearchCV"
   ]
  },
  {
   "cell_type": "code",
   "execution_count": 165,
   "id": "3561f3a4",
   "metadata": {
    "execution": {
     "iopub.execute_input": "2023-12-06T14:42:58.506464Z",
     "iopub.status.busy": "2023-12-06T14:42:58.506018Z",
     "iopub.status.idle": "2023-12-06T14:42:58.512361Z",
     "shell.execute_reply": "2023-12-06T14:42:58.511274Z",
     "shell.execute_reply.started": "2023-12-06T14:42:58.506430Z"
    },
    "papermill": {
     "duration": null,
     "end_time": null,
     "exception": null,
     "start_time": null,
     "status": "pending"
    },
    "tags": []
   },
   "outputs": [],
   "source": [
    "params = {\n",
    "    'max_depth': [2, 3, 5, 10, 20],\n",
    "    'min_samples_leaf': [5, 10, 20, 50, 100],\n",
    "    'min_samples_split': [50, 150, 50]\n",
    "}"
   ]
  },
  {
   "cell_type": "code",
   "execution_count": 166,
   "id": "5bc8ff96",
   "metadata": {
    "execution": {
     "iopub.execute_input": "2023-12-06T14:43:04.421215Z",
     "iopub.status.busy": "2023-12-06T14:43:04.420749Z",
     "iopub.status.idle": "2023-12-06T14:43:04.428249Z",
     "shell.execute_reply": "2023-12-06T14:43:04.426799Z",
     "shell.execute_reply.started": "2023-12-06T14:43:04.421181Z"
    },
    "papermill": {
     "duration": null,
     "end_time": null,
     "exception": null,
     "start_time": null,
     "status": "pending"
    },
    "tags": []
   },
   "outputs": [],
   "source": [
    "# Instantiate the grid search model\n",
    "grid_search = GridSearchCV(estimator=dt, \n",
    "                           param_grid=params, \n",
    "                           cv=4, n_jobs=-1, verbose=1, scoring = \"accuracy\")"
   ]
  },
  {
   "cell_type": "code",
   "execution_count": 167,
   "id": "d9d81cf8",
   "metadata": {
    "execution": {
     "iopub.execute_input": "2023-12-06T14:43:10.481504Z",
     "iopub.status.busy": "2023-12-06T14:43:10.481111Z",
     "iopub.status.idle": "2023-12-06T14:43:32.596472Z",
     "shell.execute_reply": "2023-12-06T14:43:32.595088Z",
     "shell.execute_reply.started": "2023-12-06T14:43:10.481469Z"
    },
    "papermill": {
     "duration": null,
     "end_time": null,
     "exception": null,
     "start_time": null,
     "status": "pending"
    },
    "tags": []
   },
   "outputs": [],
   "source": [
    "grid_search.fit(df_train_pca, y_train)"
   ]
  },
  {
   "cell_type": "code",
   "execution_count": 168,
   "id": "0163ff56",
   "metadata": {
    "execution": {
     "iopub.execute_input": "2023-12-06T14:43:41.195902Z",
     "iopub.status.busy": "2023-12-06T14:43:41.195427Z",
     "iopub.status.idle": "2023-12-06T14:43:41.225402Z",
     "shell.execute_reply": "2023-12-06T14:43:41.224037Z",
     "shell.execute_reply.started": "2023-12-06T14:43:41.195859Z"
    },
    "papermill": {
     "duration": null,
     "end_time": null,
     "exception": null,
     "start_time": null,
     "status": "pending"
    },
    "tags": []
   },
   "outputs": [],
   "source": [
    "score_df = pd.DataFrame(grid_search.cv_results_)\n",
    "score_df.head()"
   ]
  },
  {
   "cell_type": "code",
   "execution_count": 169,
   "id": "ed1c2d48",
   "metadata": {
    "execution": {
     "iopub.execute_input": "2023-12-06T14:43:47.861417Z",
     "iopub.status.busy": "2023-12-06T14:43:47.860777Z",
     "iopub.status.idle": "2023-12-06T14:43:47.893724Z",
     "shell.execute_reply": "2023-12-06T14:43:47.892496Z",
     "shell.execute_reply.started": "2023-12-06T14:43:47.861359Z"
    },
    "papermill": {
     "duration": null,
     "end_time": null,
     "exception": null,
     "start_time": null,
     "status": "pending"
    },
    "tags": []
   },
   "outputs": [],
   "source": [
    "score_df.nlargest(5,\"mean_test_score\")"
   ]
  },
  {
   "cell_type": "code",
   "execution_count": 170,
   "id": "4661eca7",
   "metadata": {
    "execution": {
     "iopub.execute_input": "2023-12-06T14:44:04.371809Z",
     "iopub.status.busy": "2023-12-06T14:44:04.371412Z",
     "iopub.status.idle": "2023-12-06T14:44:04.381459Z",
     "shell.execute_reply": "2023-12-06T14:44:04.380280Z",
     "shell.execute_reply.started": "2023-12-06T14:44:04.371779Z"
    },
    "papermill": {
     "duration": null,
     "end_time": null,
     "exception": null,
     "start_time": null,
     "status": "pending"
    },
    "tags": []
   },
   "outputs": [],
   "source": [
    "grid_search.best_estimator_"
   ]
  },
  {
   "cell_type": "code",
   "execution_count": 171,
   "id": "d8941d83",
   "metadata": {
    "execution": {
     "iopub.execute_input": "2023-12-06T14:44:11.119298Z",
     "iopub.status.busy": "2023-12-06T14:44:11.118854Z",
     "iopub.status.idle": "2023-12-06T14:44:11.125430Z",
     "shell.execute_reply": "2023-12-06T14:44:11.124016Z",
     "shell.execute_reply.started": "2023-12-06T14:44:11.119266Z"
    },
    "papermill": {
     "duration": null,
     "end_time": null,
     "exception": null,
     "start_time": null,
     "status": "pending"
    },
    "tags": []
   },
   "outputs": [],
   "source": [
    "dt_best = DecisionTreeClassifier( random_state = 42,\n",
    "                                  max_depth=10, \n",
    "                                  min_samples_leaf=20,\n",
    "                                  min_samples_split=50)"
   ]
  },
  {
   "cell_type": "code",
   "execution_count": 172,
   "id": "e072bbce",
   "metadata": {
    "execution": {
     "iopub.execute_input": "2023-12-06T14:44:15.961284Z",
     "iopub.status.busy": "2023-12-06T14:44:15.960862Z",
     "iopub.status.idle": "2023-12-06T14:44:16.319298Z",
     "shell.execute_reply": "2023-12-06T14:44:16.318144Z",
     "shell.execute_reply.started": "2023-12-06T14:44:15.961255Z"
    },
    "papermill": {
     "duration": null,
     "end_time": null,
     "exception": null,
     "start_time": null,
     "status": "pending"
    },
    "tags": []
   },
   "outputs": [],
   "source": [
    "dt_best.fit(df_train_pca, y_train)"
   ]
  },
  {
   "cell_type": "code",
   "execution_count": 173,
   "id": "3734eb54",
   "metadata": {
    "execution": {
     "iopub.execute_input": "2023-12-06T14:44:41.100922Z",
     "iopub.status.busy": "2023-12-06T14:44:41.100481Z",
     "iopub.status.idle": "2023-12-06T14:44:41.106608Z",
     "shell.execute_reply": "2023-12-06T14:44:41.105351Z",
     "shell.execute_reply.started": "2023-12-06T14:44:41.100887Z"
    },
    "papermill": {
     "duration": null,
     "end_time": null,
     "exception": null,
     "start_time": null,
     "status": "pending"
    },
    "tags": []
   },
   "outputs": [],
   "source": [
    "from sklearn.metrics import confusion_matrix, accuracy_score"
   ]
  },
  {
   "cell_type": "code",
   "execution_count": 174,
   "id": "0919871c",
   "metadata": {
    "execution": {
     "iopub.execute_input": "2023-12-06T14:44:47.552145Z",
     "iopub.status.busy": "2023-12-06T14:44:47.550821Z",
     "iopub.status.idle": "2023-12-06T14:44:47.561017Z",
     "shell.execute_reply": "2023-12-06T14:44:47.559176Z",
     "shell.execute_reply.started": "2023-12-06T14:44:47.552094Z"
    },
    "papermill": {
     "duration": null,
     "end_time": null,
     "exception": null,
     "start_time": null,
     "status": "pending"
    },
    "tags": []
   },
   "outputs": [],
   "source": [
    "def evaluate_model(dt_classifier):\n",
    "    print(\"Train Accuracy :\", accuracy_score(y_train, dt_classifier.predict(df_train_pca)))\n",
    "    print(\"Train Confusion Matrix:\")\n",
    "    print(confusion_matrix(y_train, dt_classifier.predict(df_train_pca)))\n",
    "    print(\"-\"*50)\n",
    "    print(\"Test Accuracy :\", accuracy_score(y_test, dt_classifier.predict(df_test_pca)))\n",
    "    print(\"Test Confusion Matrix:\")\n",
    "    print(confusion_matrix(y_test, dt_classifier.predict(df_test_pca)))"
   ]
  },
  {
   "cell_type": "code",
   "execution_count": 175,
   "id": "00b510eb",
   "metadata": {
    "execution": {
     "iopub.execute_input": "2023-12-06T14:44:52.575585Z",
     "iopub.status.busy": "2023-12-06T14:44:52.575186Z",
     "iopub.status.idle": "2023-12-06T14:44:52.597498Z",
     "shell.execute_reply": "2023-12-06T14:44:52.596366Z",
     "shell.execute_reply.started": "2023-12-06T14:44:52.575554Z"
    },
    "papermill": {
     "duration": null,
     "end_time": null,
     "exception": null,
     "start_time": null,
     "status": "pending"
    },
    "tags": []
   },
   "outputs": [],
   "source": [
    "evaluate_model(dt_best)"
   ]
  },
  {
   "cell_type": "markdown",
   "id": "3d5d6b62",
   "metadata": {
    "papermill": {
     "duration": null,
     "end_time": null,
     "exception": null,
     "start_time": null,
     "status": "pending"
    },
    "tags": []
   },
   "source": [
    "####  Random Forest with PCA"
   ]
  },
  {
   "cell_type": "code",
   "execution_count": 176,
   "id": "95b288db",
   "metadata": {
    "execution": {
     "iopub.execute_input": "2023-12-06T14:45:01.342017Z",
     "iopub.status.busy": "2023-12-06T14:45:01.341573Z",
     "iopub.status.idle": "2023-12-06T14:45:01.348407Z",
     "shell.execute_reply": "2023-12-06T14:45:01.346971Z",
     "shell.execute_reply.started": "2023-12-06T14:45:01.341971Z"
    },
    "papermill": {
     "duration": null,
     "end_time": null,
     "exception": null,
     "start_time": null,
     "status": "pending"
    },
    "tags": []
   },
   "outputs": [],
   "source": [
    "from sklearn.ensemble import RandomForestClassifier"
   ]
  },
  {
   "cell_type": "code",
   "execution_count": 177,
   "id": "b03c9d38",
   "metadata": {
    "execution": {
     "iopub.execute_input": "2023-12-06T14:45:07.159463Z",
     "iopub.status.busy": "2023-12-06T14:45:07.159024Z",
     "iopub.status.idle": "2023-12-06T14:45:07.166669Z",
     "shell.execute_reply": "2023-12-06T14:45:07.164969Z",
     "shell.execute_reply.started": "2023-12-06T14:45:07.159431Z"
    },
    "papermill": {
     "duration": null,
     "end_time": null,
     "exception": null,
     "start_time": null,
     "status": "pending"
    },
    "tags": []
   },
   "outputs": [],
   "source": [
    "max_features = int(round(np.sqrt(X_train.shape[1])))    # number of variables to consider to split each node\n",
    "print(max_features)"
   ]
  },
  {
   "cell_type": "code",
   "execution_count": 178,
   "id": "25a0ff62",
   "metadata": {
    "execution": {
     "iopub.execute_input": "2023-12-06T14:45:11.095396Z",
     "iopub.status.busy": "2023-12-06T14:45:11.094969Z",
     "iopub.status.idle": "2023-12-06T14:45:11.101955Z",
     "shell.execute_reply": "2023-12-06T14:45:11.100533Z",
     "shell.execute_reply.started": "2023-12-06T14:45:11.095364Z"
    },
    "papermill": {
     "duration": null,
     "end_time": null,
     "exception": null,
     "start_time": null,
     "status": "pending"
    },
    "tags": []
   },
   "outputs": [],
   "source": [
    "rf = RandomForestClassifier(n_estimators=100, max_depth=4, max_features=7, random_state=100, oob_score=True, verbose=1)"
   ]
  },
  {
   "cell_type": "code",
   "execution_count": 179,
   "id": "bfcff527",
   "metadata": {
    "execution": {
     "iopub.execute_input": "2023-12-06T14:45:17.521558Z",
     "iopub.status.busy": "2023-12-06T14:45:17.520984Z",
     "iopub.status.idle": "2023-12-06T14:45:22.796750Z",
     "shell.execute_reply": "2023-12-06T14:45:22.795579Z",
     "shell.execute_reply.started": "2023-12-06T14:45:17.521516Z"
    },
    "papermill": {
     "duration": null,
     "end_time": null,
     "exception": null,
     "start_time": null,
     "status": "pending"
    },
    "tags": []
   },
   "outputs": [],
   "source": [
    "rf.fit(df_train_pca, y_train)"
   ]
  },
  {
   "cell_type": "code",
   "execution_count": 180,
   "id": "2a6128b6",
   "metadata": {
    "execution": {
     "iopub.execute_input": "2023-12-06T14:45:26.464359Z",
     "iopub.status.busy": "2023-12-06T14:45:26.463810Z",
     "iopub.status.idle": "2023-12-06T14:45:26.473795Z",
     "shell.execute_reply": "2023-12-06T14:45:26.472520Z",
     "shell.execute_reply.started": "2023-12-06T14:45:26.464310Z"
    },
    "papermill": {
     "duration": null,
     "end_time": null,
     "exception": null,
     "start_time": null,
     "status": "pending"
    },
    "tags": []
   },
   "outputs": [],
   "source": [
    "rf.oob_score_"
   ]
  },
  {
   "cell_type": "code",
   "execution_count": 181,
   "id": "66f71868",
   "metadata": {
    "execution": {
     "iopub.execute_input": "2023-12-06T14:50:53.439248Z",
     "iopub.status.busy": "2023-12-06T14:50:53.438755Z",
     "iopub.status.idle": "2023-12-06T14:50:53.444495Z",
     "shell.execute_reply": "2023-12-06T14:50:53.443472Z",
     "shell.execute_reply.started": "2023-12-06T14:50:53.439210Z"
    },
    "papermill": {
     "duration": null,
     "end_time": null,
     "exception": null,
     "start_time": null,
     "status": "pending"
    },
    "tags": []
   },
   "outputs": [],
   "source": [
    "#from sklearn.metrics import plot_roc_curve\n",
    "from sklearn.metrics import RocCurveDisplay"
   ]
  },
  {
   "cell_type": "code",
   "execution_count": 182,
   "id": "79f00cd7",
   "metadata": {
    "execution": {
     "iopub.execute_input": "2023-12-06T14:50:56.201700Z",
     "iopub.status.busy": "2023-12-06T14:50:56.201321Z",
     "iopub.status.idle": "2023-12-06T14:50:56.613385Z",
     "shell.execute_reply": "2023-12-06T14:50:56.612028Z",
     "shell.execute_reply.started": "2023-12-06T14:50:56.201671Z"
    },
    "papermill": {
     "duration": null,
     "end_time": null,
     "exception": null,
     "start_time": null,
     "status": "pending"
    },
    "tags": []
   },
   "outputs": [],
   "source": [
    "#plot_roc_curve(rf, df_train_pca, y_train)\n",
    "RocCurveDisplay.from_estimator(rf, df_train_pca, y_train)\n",
    "plt.show()"
   ]
  },
  {
   "cell_type": "markdown",
   "id": "684342e2",
   "metadata": {
    "papermill": {
     "duration": null,
     "end_time": null,
     "exception": null,
     "start_time": null,
     "status": "pending"
    },
    "tags": []
   },
   "source": [
    "#### Hyper-parameter tuning for the Random Forest"
   ]
  },
  {
   "cell_type": "code",
   "execution_count": 183,
   "id": "0bd1d03f",
   "metadata": {
    "execution": {
     "iopub.execute_input": "2023-12-06T14:51:02.539937Z",
     "iopub.status.busy": "2023-12-06T14:51:02.539498Z",
     "iopub.status.idle": "2023-12-06T14:51:02.545353Z",
     "shell.execute_reply": "2023-12-06T14:51:02.544362Z",
     "shell.execute_reply.started": "2023-12-06T14:51:02.539901Z"
    },
    "papermill": {
     "duration": null,
     "end_time": null,
     "exception": null,
     "start_time": null,
     "status": "pending"
    },
    "tags": []
   },
   "outputs": [],
   "source": [
    "rf = RandomForestClassifier(random_state=42, n_jobs=-1)"
   ]
  },
  {
   "cell_type": "code",
   "execution_count": 184,
   "id": "46f7a4e3",
   "metadata": {
    "execution": {
     "iopub.execute_input": "2023-12-06T14:51:07.738848Z",
     "iopub.status.busy": "2023-12-06T14:51:07.738444Z",
     "iopub.status.idle": "2023-12-06T14:51:07.744994Z",
     "shell.execute_reply": "2023-12-06T14:51:07.743900Z",
     "shell.execute_reply.started": "2023-12-06T14:51:07.738815Z"
    },
    "papermill": {
     "duration": null,
     "end_time": null,
     "exception": null,
     "start_time": null,
     "status": "pending"
    },
    "tags": []
   },
   "outputs": [],
   "source": [
    "params = {\n",
    "    'max_depth': [2,3,5],\n",
    "    'min_samples_leaf': [50,100],\n",
    "    'min_samples_split': [ 100, 150, ],\n",
    "    'n_estimators': [100, 200 ]\n",
    "}"
   ]
  },
  {
   "cell_type": "code",
   "execution_count": 185,
   "id": "63ca9789",
   "metadata": {
    "execution": {
     "iopub.execute_input": "2023-12-06T14:51:13.120154Z",
     "iopub.status.busy": "2023-12-06T14:51:13.119354Z",
     "iopub.status.idle": "2023-12-06T14:51:13.126109Z",
     "shell.execute_reply": "2023-12-06T14:51:13.124649Z",
     "shell.execute_reply.started": "2023-12-06T14:51:13.120111Z"
    },
    "papermill": {
     "duration": null,
     "end_time": null,
     "exception": null,
     "start_time": null,
     "status": "pending"
    },
    "tags": []
   },
   "outputs": [],
   "source": [
    "grid_search = GridSearchCV(estimator=rf, param_grid=params,cv = 4,n_jobs=-1, verbose=1, scoring=\"accuracy\")"
   ]
  },
  {
   "cell_type": "code",
   "execution_count": null,
   "id": "8c5cd61e",
   "metadata": {
    "execution": {
     "iopub.execute_input": "2023-12-06T14:51:16.276883Z",
     "iopub.status.busy": "2023-12-06T14:51:16.276429Z",
     "iopub.status.idle": "2023-12-06T14:53:13.068885Z",
     "shell.execute_reply": "2023-12-06T14:53:13.067333Z",
     "shell.execute_reply.started": "2023-12-06T14:51:16.276851Z"
    },
    "papermill": {
     "duration": null,
     "end_time": null,
     "exception": null,
     "start_time": null,
     "status": "pending"
    },
    "tags": []
   },
   "outputs": [],
   "source": [
    "grid_search.fit(df_train_pca, y_train)"
   ]
  },
  {
   "cell_type": "code",
   "execution_count": null,
   "id": "0a1e9d56",
   "metadata": {
    "execution": {
     "iopub.execute_input": "2023-12-06T14:57:13.084086Z",
     "iopub.status.busy": "2023-12-06T14:57:13.083517Z",
     "iopub.status.idle": "2023-12-06T14:57:13.094967Z",
     "shell.execute_reply": "2023-12-06T14:57:13.093475Z",
     "shell.execute_reply.started": "2023-12-06T14:57:13.084020Z"
    },
    "papermill": {
     "duration": null,
     "end_time": null,
     "exception": null,
     "start_time": null,
     "status": "pending"
    },
    "tags": []
   },
   "outputs": [],
   "source": [
    "grid_search.best_score_ "
   ]
  },
  {
   "cell_type": "code",
   "execution_count": null,
   "id": "6954069d",
   "metadata": {
    "execution": {
     "iopub.execute_input": "2023-12-06T14:57:18.125164Z",
     "iopub.status.busy": "2023-12-06T14:57:18.124634Z",
     "iopub.status.idle": "2023-12-06T14:57:18.133912Z",
     "shell.execute_reply": "2023-12-06T14:57:18.132582Z",
     "shell.execute_reply.started": "2023-12-06T14:57:18.125122Z"
    },
    "papermill": {
     "duration": null,
     "end_time": null,
     "exception": null,
     "start_time": null,
     "status": "pending"
    },
    "tags": []
   },
   "outputs": [],
   "source": [
    "grid_search.best_params_"
   ]
  },
  {
   "cell_type": "code",
   "execution_count": null,
   "id": "74e31f49",
   "metadata": {
    "execution": {
     "iopub.execute_input": "2023-12-06T14:57:22.319953Z",
     "iopub.status.busy": "2023-12-06T14:57:22.319414Z",
     "iopub.status.idle": "2023-12-06T14:57:22.327002Z",
     "shell.execute_reply": "2023-12-06T14:57:22.325728Z",
     "shell.execute_reply.started": "2023-12-06T14:57:22.319919Z"
    },
    "papermill": {
     "duration": null,
     "end_time": null,
     "exception": null,
     "start_time": null,
     "status": "pending"
    },
    "tags": []
   },
   "outputs": [],
   "source": [
    "rfc_model = RandomForestClassifier(bootstrap=True,\n",
    "                             max_depth=5,\n",
    "                             min_samples_leaf=50, \n",
    "                             min_samples_split=100,\n",
    "                             n_estimators=200)"
   ]
  },
  {
   "cell_type": "code",
   "execution_count": null,
   "id": "2e915df4",
   "metadata": {
    "execution": {
     "iopub.execute_input": "2023-12-06T14:57:29.108807Z",
     "iopub.status.busy": "2023-12-06T14:57:29.108262Z",
     "iopub.status.idle": "2023-12-06T14:57:36.479903Z",
     "shell.execute_reply": "2023-12-06T14:57:36.478521Z",
     "shell.execute_reply.started": "2023-12-06T14:57:29.108765Z"
    },
    "papermill": {
     "duration": null,
     "end_time": null,
     "exception": null,
     "start_time": null,
     "status": "pending"
    },
    "tags": []
   },
   "outputs": [],
   "source": [
    "rfc_model.fit(df_train_pca, y_train)"
   ]
  },
  {
   "cell_type": "code",
   "execution_count": null,
   "id": "b94dd3bb",
   "metadata": {
    "execution": {
     "iopub.execute_input": "2023-12-06T14:58:05.311817Z",
     "iopub.status.busy": "2023-12-06T14:58:05.311293Z",
     "iopub.status.idle": "2023-12-06T14:58:06.099495Z",
     "shell.execute_reply": "2023-12-06T14:58:06.098308Z",
     "shell.execute_reply.started": "2023-12-06T14:58:05.311771Z"
    },
    "papermill": {
     "duration": null,
     "end_time": null,
     "exception": null,
     "start_time": null,
     "status": "pending"
    },
    "tags": []
   },
   "outputs": [],
   "source": [
    "evaluate_model(rfc_model)"
   ]
  },
  {
   "cell_type": "code",
   "execution_count": null,
   "id": "542ceb51",
   "metadata": {
    "execution": {
     "iopub.execute_input": "2023-12-06T14:58:10.796246Z",
     "iopub.status.busy": "2023-12-06T14:58:10.795683Z",
     "iopub.status.idle": "2023-12-06T14:58:10.824929Z",
     "shell.execute_reply": "2023-12-06T14:58:10.823714Z",
     "shell.execute_reply.started": "2023-12-06T14:58:10.796201Z"
    },
    "papermill": {
     "duration": null,
     "end_time": null,
     "exception": null,
     "start_time": null,
     "status": "pending"
    },
    "tags": []
   },
   "outputs": [],
   "source": [
    "rfc_model.feature_importances_"
   ]
  },
  {
   "cell_type": "markdown",
   "id": "29020286",
   "metadata": {
    "papermill": {
     "duration": null,
     "end_time": null,
     "exception": null,
     "start_time": null,
     "status": "pending"
    },
    "tags": []
   },
   "source": [
    "#### Conclusion :\n",
    "* The best model to predict the churn_df is observed to be Random Forest based on the accuracy as performance measure.\n",
    "* The incoming calls (with local same operator mobile/other operator mobile/fixed lines, STD or Special) plays a vital role in understanding the possibility of churn_df. Hence, the operator should focus on incoming calls data and has to provide some kind of special offers to the customers whose incoming calls turning lower.\n",
    "\n",
    "#### Logistic Regression  :\n",
    "* Logistic Regression with RFE, Logistic regression with PCA, Random Forest For each of these models, the summary of performance measures are as follows:\n",
    "\n",
    "*** Logistic Regression ***\n",
    "* Train Accuracy : ~90%\n",
    "* Test Accuracy : ~88%\n",
    "\n",
    "*** Logistic regression with PCA ***\n",
    "* Train Accuracy : ~92%\n",
    "* Test Accuracy : ~92%\n",
    "\n",
    "*** Decision Tree with PCA ***\n",
    "* Train Accuracy : ~94%\n",
    "* Test Accuracy : ~93%\n",
    "\n",
    "*** Random Forest with PCA ***\n",
    "* Train Accuracy :~ 92%\n",
    "* Test Accuracy :~ 92%"
   ]
  },
  {
   "cell_type": "code",
   "execution_count": null,
   "id": "fb9e0ca1",
   "metadata": {
    "execution": {
     "iopub.execute_input": "2023-12-06T14:58:53.221366Z",
     "iopub.status.busy": "2023-12-06T14:58:53.220542Z",
     "iopub.status.idle": "2023-12-06T14:58:54.168048Z",
     "shell.execute_reply": "2023-12-06T14:58:54.166501Z",
     "shell.execute_reply.started": "2023-12-06T14:58:53.221328Z"
    },
    "papermill": {
     "duration": null,
     "end_time": null,
     "exception": null,
     "start_time": null,
     "status": "pending"
    },
    "tags": []
   },
   "outputs": [],
   "source": [
    "churn_df_test = pd.read_csv(r\"C:\\Users\\LENOVO\\Desktop\\amreeta\\github/test.csv\")"
   ]
  },
  {
   "cell_type": "code",
   "execution_count": null,
   "id": "a20a7fa9",
   "metadata": {
    "execution": {
     "iopub.execute_input": "2023-12-06T14:58:58.579101Z",
     "iopub.status.busy": "2023-12-06T14:58:58.578571Z",
     "iopub.status.idle": "2023-12-06T14:58:58.748616Z",
     "shell.execute_reply": "2023-12-06T14:58:58.747358Z",
     "shell.execute_reply.started": "2023-12-06T14:58:58.579040Z"
    },
    "papermill": {
     "duration": null,
     "end_time": null,
     "exception": null,
     "start_time": null,
     "status": "pending"
    },
    "tags": []
   },
   "outputs": [],
   "source": [
    "churn_df_test.head()"
   ]
  },
  {
   "cell_type": "code",
   "execution_count": null,
   "id": "d2277a0d",
   "metadata": {
    "execution": {
     "iopub.execute_input": "2023-12-06T14:59:03.320814Z",
     "iopub.status.busy": "2023-12-06T14:59:03.320203Z",
     "iopub.status.idle": "2023-12-06T14:59:03.330629Z",
     "shell.execute_reply": "2023-12-06T14:59:03.329157Z",
     "shell.execute_reply.started": "2023-12-06T14:59:03.320770Z"
    },
    "papermill": {
     "duration": null,
     "end_time": null,
     "exception": null,
     "start_time": null,
     "status": "pending"
    },
    "tags": []
   },
   "outputs": [],
   "source": [
    "churn_df_test.shape"
   ]
  },
  {
   "cell_type": "code",
   "execution_count": null,
   "id": "0390acc6",
   "metadata": {
    "execution": {
     "iopub.execute_input": "2023-12-06T14:59:06.665715Z",
     "iopub.status.busy": "2023-12-06T14:59:06.664943Z",
     "iopub.status.idle": "2023-12-06T14:59:06.712107Z",
     "shell.execute_reply": "2023-12-06T14:59:06.710772Z",
     "shell.execute_reply.started": "2023-12-06T14:59:06.665668Z"
    },
    "papermill": {
     "duration": null,
     "end_time": null,
     "exception": null,
     "start_time": null,
     "status": "pending"
    },
    "tags": []
   },
   "outputs": [],
   "source": [
    "churn_df_test.isnull().sum()"
   ]
  },
  {
   "cell_type": "code",
   "execution_count": null,
   "id": "a90eddec",
   "metadata": {
    "execution": {
     "iopub.execute_input": "2023-12-06T15:00:06.601558Z",
     "iopub.status.busy": "2023-12-06T15:00:06.600881Z",
     "iopub.status.idle": "2023-12-06T15:00:06.608879Z",
     "shell.execute_reply": "2023-12-06T15:00:06.607316Z",
     "shell.execute_reply.started": "2023-12-06T15:00:06.601502Z"
    },
    "papermill": {
     "duration": null,
     "end_time": null,
     "exception": null,
     "start_time": null,
     "status": "pending"
    },
    "tags": []
   },
   "outputs": [],
   "source": [
    "churn_df_id = churn_df_test['id']"
   ]
  },
  {
   "cell_type": "code",
   "execution_count": null,
   "id": "88633199",
   "metadata": {
    "execution": {
     "iopub.execute_input": "2023-12-06T15:00:30.631099Z",
     "iopub.status.busy": "2023-12-06T15:00:30.630560Z",
     "iopub.status.idle": "2023-12-06T15:00:30.785444Z",
     "shell.execute_reply": "2023-12-06T15:00:30.783778Z",
     "shell.execute_reply.started": "2023-12-06T15:00:30.631040Z"
    },
    "papermill": {
     "duration": null,
     "end_time": null,
     "exception": null,
     "start_time": null,
     "status": "pending"
    },
    "tags": []
   },
   "outputs": [],
   "source": [
    "churn_df_test['tenure'] = (churn_df_test['aon']/30).round(0)\n",
    "churn_df_test[\"avg_arpu_6_7\"]= (churn_df_test['arpu_6']+churn_df_test['arpu_7'])/2\n",
    "\n",
    "churn_df_test = churn_df_test[X.columns]"
   ]
  },
  {
   "cell_type": "code",
   "execution_count": null,
   "id": "4f4528cd",
   "metadata": {
    "execution": {
     "iopub.execute_input": "2023-12-06T15:00:42.709920Z",
     "iopub.status.busy": "2023-12-06T15:00:42.709405Z",
     "iopub.status.idle": "2023-12-06T15:00:42.718571Z",
     "shell.execute_reply": "2023-12-06T15:00:42.717147Z",
     "shell.execute_reply.started": "2023-12-06T15:00:42.709874Z"
    },
    "papermill": {
     "duration": null,
     "end_time": null,
     "exception": null,
     "start_time": null,
     "status": "pending"
    },
    "tags": []
   },
   "outputs": [],
   "source": [
    "churn_df_test.shape"
   ]
  },
  {
   "cell_type": "code",
   "execution_count": null,
   "id": "16ee9d65",
   "metadata": {
    "execution": {
     "iopub.execute_input": "2023-12-06T15:00:46.474257Z",
     "iopub.status.busy": "2023-12-06T15:00:46.473662Z",
     "iopub.status.idle": "2023-12-06T15:00:46.488351Z",
     "shell.execute_reply": "2023-12-06T15:00:46.486991Z",
     "shell.execute_reply.started": "2023-12-06T15:00:46.474215Z"
    },
    "papermill": {
     "duration": null,
     "end_time": null,
     "exception": null,
     "start_time": null,
     "status": "pending"
    },
    "tags": []
   },
   "outputs": [],
   "source": [
    "churn_df_test_null = churn_df_test.isnull().sum().sum() / np.product(churn_df_test.shape) * 100\n",
    "churn_df_test_null"
   ]
  },
  {
   "cell_type": "code",
   "execution_count": null,
   "id": "a1a7a3f4",
   "metadata": {
    "execution": {
     "iopub.execute_input": "2023-12-06T15:00:50.400649Z",
     "iopub.status.busy": "2023-12-06T15:00:50.400117Z",
     "iopub.status.idle": "2023-12-06T15:00:50.427428Z",
     "shell.execute_reply": "2023-12-06T15:00:50.425959Z",
     "shell.execute_reply.started": "2023-12-06T15:00:50.400610Z"
    },
    "papermill": {
     "duration": null,
     "end_time": null,
     "exception": null,
     "start_time": null,
     "status": "pending"
    },
    "tags": []
   },
   "outputs": [],
   "source": [
    "for col in churn_df_test.columns:\n",
    "    null_col = churn_df_test[col].isnull().sum() / churn_df_test.shape[0] * 100\n",
    "    print(\"{} : {:.2f}\".format(col,null_col))"
   ]
  },
  {
   "cell_type": "code",
   "execution_count": null,
   "id": "15287df6",
   "metadata": {
    "execution": {
     "iopub.execute_input": "2023-12-06T15:01:31.965245Z",
     "iopub.status.busy": "2023-12-06T15:01:31.964621Z",
     "iopub.status.idle": "2023-12-06T15:01:31.994829Z",
     "shell.execute_reply": "2023-12-06T15:01:31.993605Z",
     "shell.execute_reply.started": "2023-12-06T15:01:31.965183Z"
    },
    "papermill": {
     "duration": null,
     "end_time": null,
     "exception": null,
     "start_time": null,
     "status": "pending"
    },
    "tags": []
   },
   "outputs": [],
   "source": [
    "for col in churn_df_test.columns:\n",
    "    null_col = churn_df_test[col].isnull().sum() / churn_df_test.shape[0] * 100\n",
    "    if null_col > 0:\n",
    "        churn_df_test[col] = churn_df_test[col].fillna(churn_df_test[col].mode()[0])"
   ]
  },
  {
   "cell_type": "code",
   "execution_count": null,
   "id": "199acf81",
   "metadata": {
    "execution": {
     "iopub.execute_input": "2023-12-06T15:01:49.141582Z",
     "iopub.status.busy": "2023-12-06T15:01:49.141177Z",
     "iopub.status.idle": "2023-12-06T15:01:49.160036Z",
     "shell.execute_reply": "2023-12-06T15:01:49.159165Z",
     "shell.execute_reply.started": "2023-12-06T15:01:49.141551Z"
    },
    "papermill": {
     "duration": null,
     "end_time": null,
     "exception": null,
     "start_time": null,
     "status": "pending"
    },
    "tags": []
   },
   "outputs": [],
   "source": [
    "churn_df_test.isnull().sum().sum()\n"
   ]
  },
  {
   "cell_type": "code",
   "execution_count": null,
   "id": "e14e40c6",
   "metadata": {
    "execution": {
     "iopub.execute_input": "2023-12-06T15:01:57.132318Z",
     "iopub.status.busy": "2023-12-06T15:01:57.131714Z",
     "iopub.status.idle": "2023-12-06T15:01:57.172229Z",
     "shell.execute_reply": "2023-12-06T15:01:57.169590Z",
     "shell.execute_reply.started": "2023-12-06T15:01:57.132251Z"
    },
    "papermill": {
     "duration": null,
     "end_time": null,
     "exception": null,
     "start_time": null,
     "status": "pending"
    },
    "tags": []
   },
   "outputs": [],
   "source": [
    "churn_df_test_final = pca_final.transform(churn_df_test)"
   ]
  },
  {
   "cell_type": "code",
   "execution_count": null,
   "id": "db047490",
   "metadata": {
    "execution": {
     "iopub.execute_input": "2023-12-06T15:02:38.722800Z",
     "iopub.status.busy": "2023-12-06T15:02:38.722355Z",
     "iopub.status.idle": "2023-12-06T15:02:38.731287Z",
     "shell.execute_reply": "2023-12-06T15:02:38.729910Z",
     "shell.execute_reply.started": "2023-12-06T15:02:38.722765Z"
    },
    "papermill": {
     "duration": null,
     "end_time": null,
     "exception": null,
     "start_time": null,
     "status": "pending"
    },
    "tags": []
   },
   "outputs": [],
   "source": [
    "churn_df_test_final.shape"
   ]
  },
  {
   "cell_type": "code",
   "execution_count": null,
   "id": "35c844da",
   "metadata": {
    "execution": {
     "iopub.execute_input": "2023-12-06T15:02:42.839021Z",
     "iopub.status.busy": "2023-12-06T15:02:42.838613Z",
     "iopub.status.idle": "2023-12-06T15:02:43.323255Z",
     "shell.execute_reply": "2023-12-06T15:02:43.321908Z",
     "shell.execute_reply.started": "2023-12-06T15:02:42.838989Z"
    },
    "papermill": {
     "duration": null,
     "end_time": null,
     "exception": null,
     "start_time": null,
     "status": "pending"
    },
    "tags": []
   },
   "outputs": [],
   "source": [
    "predict_probalbilty = rfc_model.predict(churn_df_test_final)"
   ]
  },
  {
   "cell_type": "code",
   "execution_count": null,
   "id": "fa988bc7",
   "metadata": {
    "execution": {
     "iopub.execute_input": "2023-12-06T15:02:51.555726Z",
     "iopub.status.busy": "2023-12-06T15:02:51.555324Z",
     "iopub.status.idle": "2023-12-06T15:02:51.563953Z",
     "shell.execute_reply": "2023-12-06T15:02:51.562591Z",
     "shell.execute_reply.started": "2023-12-06T15:02:51.555696Z"
    },
    "papermill": {
     "duration": null,
     "end_time": null,
     "exception": null,
     "start_time": null,
     "status": "pending"
    },
    "tags": []
   },
   "outputs": [],
   "source": [
    "predict_probalbilty.shape"
   ]
  },
  {
   "cell_type": "code",
   "execution_count": null,
   "id": "c02cf9b6",
   "metadata": {
    "execution": {
     "iopub.execute_input": "2023-12-06T15:14:40.829146Z",
     "iopub.status.busy": "2023-12-06T15:14:40.828700Z",
     "iopub.status.idle": "2023-12-06T15:14:40.836886Z",
     "shell.execute_reply": "2023-12-06T15:14:40.835692Z",
     "shell.execute_reply.started": "2023-12-06T15:14:40.829102Z"
    },
    "papermill": {
     "duration": null,
     "end_time": null,
     "exception": null,
     "start_time": null,
     "status": "pending"
    },
    "tags": []
   },
   "outputs": [],
   "source": [
    "len(churn_df_id)"
   ]
  },
  {
   "cell_type": "markdown",
   "id": "2cd0f490",
   "metadata": {
    "papermill": {
     "duration": null,
     "end_time": null,
     "exception": null,
     "start_time": null,
     "status": "pending"
    },
    "tags": []
   },
   "source": []
  },
  {
   "cell_type": "code",
   "execution_count": null,
   "id": "7987dc80",
   "metadata": {
    "execution": {
     "iopub.execute_input": "2023-12-06T15:03:39.507830Z",
     "iopub.status.busy": "2023-12-06T15:03:39.507302Z",
     "iopub.status.idle": "2023-12-06T15:03:39.515750Z",
     "shell.execute_reply": "2023-12-06T15:03:39.514327Z",
     "shell.execute_reply.started": "2023-12-06T15:03:39.507788Z"
    },
    "papermill": {
     "duration": null,
     "end_time": null,
     "exception": null,
     "start_time": null,
     "status": "pending"
    },
    "tags": []
   },
   "outputs": [],
   "source": [
    "final_prediction = pd.DataFrame({'id':churn_df_id,'churn_probability':predict_probalbilty})"
   ]
  },
  {
   "cell_type": "code",
   "execution_count": null,
   "id": "403b029c",
   "metadata": {
    "execution": {
     "iopub.execute_input": "2023-12-06T15:16:14.509528Z",
     "iopub.status.busy": "2023-12-06T15:16:14.509112Z",
     "iopub.status.idle": "2023-12-06T15:16:15.101537Z",
     "shell.execute_reply": "2023-12-06T15:16:15.100154Z",
     "shell.execute_reply.started": "2023-12-06T15:16:14.509494Z"
    },
    "papermill": {
     "duration": null,
     "end_time": null,
     "exception": null,
     "start_time": null,
     "status": "pending"
    },
    "tags": []
   },
   "outputs": [],
   "source": [
    "final_prediction.to_csv('final_submission.csv',index=False)\n",
    "final_prediction.head"
   ]
  }
 ],
 "metadata": {
  "kaggle": {
   "accelerator": "none",
   "dataSources": [
    {
     "databundleVersionId": 7066904,
     "sourceId": 64503,
     "sourceType": "competition"
    }
   ],
   "dockerImageVersionId": 30587,
   "isGpuEnabled": false,
   "isInternetEnabled": true,
   "language": "python",
   "sourceType": "notebook"
  },
  "kernelspec": {
   "display_name": "Python 3 (ipykernel)",
   "language": "python",
   "name": "python3"
  },
  "language_info": {
   "codemirror_mode": {
    "name": "ipython",
    "version": 3
   },
   "file_extension": ".py",
   "mimetype": "text/x-python",
   "name": "python",
   "nbconvert_exporter": "python",
   "pygments_lexer": "ipython3",
   "version": "3.11.3"
  },
  "papermill": {
   "default_parameters": {},
   "duration": 31.60888,
   "end_time": "2023-12-06T16:45:02.481470",
   "environment_variables": {},
   "exception": true,
   "input_path": "__notebook__.ipynb",
   "output_path": "__notebook__.ipynb",
   "parameters": {},
   "start_time": "2023-12-06T16:44:30.872590",
   "version": "2.4.0"
  }
 },
 "nbformat": 4,
 "nbformat_minor": 5
}
